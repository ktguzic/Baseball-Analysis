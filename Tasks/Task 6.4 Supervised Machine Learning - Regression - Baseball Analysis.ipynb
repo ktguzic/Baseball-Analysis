{
 "cells": [
  {
   "cell_type": "markdown",
   "id": "31407f2a",
   "metadata": {},
   "source": [
    "### Importing libraries and data"
   ]
  },
  {
   "cell_type": "code",
   "execution_count": 36,
   "id": "29506b09",
   "metadata": {},
   "outputs": [],
   "source": [
    "import pandas as pd\n",
    "import numpy as np\n",
    "import seaborn as sns\n",
    "import matplotlib\n",
    "import matplotlib.pyplot as plt\n",
    "import os\n",
    "import sklearn\n",
    "from sklearn.model_selection import train_test_split \n",
    "from sklearn.linear_model import LinearRegression\n",
    "from sklearn.metrics import mean_squared_error, r2_score"
   ]
  },
  {
   "cell_type": "code",
   "execution_count": 37,
   "id": "bf6cd176",
   "metadata": {},
   "outputs": [],
   "source": [
    "# This option ensures that the graphs created are displayed within the notebook without the need to \"call\" them specifically.\n",
    "\n",
    "%matplotlib inline"
   ]
  },
  {
   "cell_type": "code",
   "execution_count": 38,
   "id": "fd8b06ab",
   "metadata": {},
   "outputs": [],
   "source": [
    "#path import\n",
    "\n",
    "path = r'C:\\Users\\guzic\\Contacts\\Baseball Analysis'"
   ]
  },
  {
   "cell_type": "code",
   "execution_count": 39,
   "id": "ef3df1f7",
   "metadata": {},
   "outputs": [],
   "source": [
    "# dataset import\n",
    "\n",
    "bb = pd.read_csv(os.path.join(path, '02 Data', 'Prepped Data', 'CLEANED Baseball Hitter.csv'), index_col = False)"
   ]
  },
  {
   "cell_type": "markdown",
   "id": "f0754b83",
   "metadata": {},
   "source": [
    "### Data Import Checks"
   ]
  },
  {
   "cell_type": "code",
   "execution_count": 40,
   "id": "95f867e3",
   "metadata": {},
   "outputs": [
    {
     "data": {
      "text/html": [
       "<div>\n",
       "<style scoped>\n",
       "    .dataframe tbody tr th:only-of-type {\n",
       "        vertical-align: middle;\n",
       "    }\n",
       "\n",
       "    .dataframe tbody tr th {\n",
       "        vertical-align: top;\n",
       "    }\n",
       "\n",
       "    .dataframe thead th {\n",
       "        text-align: right;\n",
       "    }\n",
       "</style>\n",
       "<table border=\"1\" class=\"dataframe\">\n",
       "  <thead>\n",
       "    <tr style=\"text-align: right;\">\n",
       "      <th></th>\n",
       "      <th>Unnamed: 0</th>\n",
       "      <th>name</th>\n",
       "      <th>url</th>\n",
       "      <th>Year</th>\n",
       "      <th>Age</th>\n",
       "      <th>Team</th>\n",
       "      <th>League</th>\n",
       "      <th>Games</th>\n",
       "      <th>Plate Appearances</th>\n",
       "      <th>At Bats</th>\n",
       "      <th>...</th>\n",
       "      <th>Walk</th>\n",
       "      <th>Batting Average</th>\n",
       "      <th>On Base Percentage</th>\n",
       "      <th>Slugging Percentage</th>\n",
       "      <th>On Base Plus Slugging</th>\n",
       "      <th>Total Bases</th>\n",
       "      <th>Pos</th>\n",
       "      <th>Awards</th>\n",
       "      <th>team_city_code</th>\n",
       "      <th>state_name</th>\n",
       "    </tr>\n",
       "  </thead>\n",
       "  <tbody>\n",
       "    <tr>\n",
       "      <th>0</th>\n",
       "      <td>0</td>\n",
       "      <td>Henry Aaron</td>\n",
       "      <td>/players/a/aaronha01.shtml</td>\n",
       "      <td>1954</td>\n",
       "      <td>20</td>\n",
       "      <td>MLN</td>\n",
       "      <td>NL</td>\n",
       "      <td>122.0</td>\n",
       "      <td>509.0</td>\n",
       "      <td>468.0</td>\n",
       "      <td>...</td>\n",
       "      <td>28.0</td>\n",
       "      <td>0.280</td>\n",
       "      <td>0.322</td>\n",
       "      <td>0.447</td>\n",
       "      <td>0.769</td>\n",
       "      <td>209.0</td>\n",
       "      <td>*79/H</td>\n",
       "      <td>RoY-4</td>\n",
       "      <td>MLN</td>\n",
       "      <td>not a current major league USA team</td>\n",
       "    </tr>\n",
       "    <tr>\n",
       "      <th>1</th>\n",
       "      <td>1</td>\n",
       "      <td>Henry Aaron</td>\n",
       "      <td>/players/a/aaronha01.shtml</td>\n",
       "      <td>1955</td>\n",
       "      <td>21</td>\n",
       "      <td>MLN</td>\n",
       "      <td>NL</td>\n",
       "      <td>153.0</td>\n",
       "      <td>665.0</td>\n",
       "      <td>602.0</td>\n",
       "      <td>...</td>\n",
       "      <td>49.0</td>\n",
       "      <td>0.314</td>\n",
       "      <td>0.366</td>\n",
       "      <td>0.540</td>\n",
       "      <td>0.906</td>\n",
       "      <td>325.0</td>\n",
       "      <td>*974/H</td>\n",
       "      <td>AS,MVP-9</td>\n",
       "      <td>MLN</td>\n",
       "      <td>not a current major league USA team</td>\n",
       "    </tr>\n",
       "    <tr>\n",
       "      <th>2</th>\n",
       "      <td>2</td>\n",
       "      <td>Henry Aaron</td>\n",
       "      <td>/players/a/aaronha01.shtml</td>\n",
       "      <td>1956</td>\n",
       "      <td>22</td>\n",
       "      <td>MLN</td>\n",
       "      <td>NL</td>\n",
       "      <td>153.0</td>\n",
       "      <td>660.0</td>\n",
       "      <td>609.0</td>\n",
       "      <td>...</td>\n",
       "      <td>37.0</td>\n",
       "      <td>0.328</td>\n",
       "      <td>0.365</td>\n",
       "      <td>0.558</td>\n",
       "      <td>0.923</td>\n",
       "      <td>340.0</td>\n",
       "      <td>*9/H</td>\n",
       "      <td>AS,MVP-3</td>\n",
       "      <td>MLN</td>\n",
       "      <td>not a current major league USA team</td>\n",
       "    </tr>\n",
       "    <tr>\n",
       "      <th>3</th>\n",
       "      <td>3</td>\n",
       "      <td>Henry Aaron</td>\n",
       "      <td>/players/a/aaronha01.shtml</td>\n",
       "      <td>1957</td>\n",
       "      <td>23</td>\n",
       "      <td>MLN</td>\n",
       "      <td>NL</td>\n",
       "      <td>151.0</td>\n",
       "      <td>675.0</td>\n",
       "      <td>615.0</td>\n",
       "      <td>...</td>\n",
       "      <td>57.0</td>\n",
       "      <td>0.322</td>\n",
       "      <td>0.378</td>\n",
       "      <td>0.600</td>\n",
       "      <td>0.978</td>\n",
       "      <td>369.0</td>\n",
       "      <td>*98/H</td>\n",
       "      <td>AS,MVP-1</td>\n",
       "      <td>MLN</td>\n",
       "      <td>not a current major league USA team</td>\n",
       "    </tr>\n",
       "    <tr>\n",
       "      <th>4</th>\n",
       "      <td>4</td>\n",
       "      <td>Henry Aaron</td>\n",
       "      <td>/players/a/aaronha01.shtml</td>\n",
       "      <td>1958</td>\n",
       "      <td>24</td>\n",
       "      <td>MLN</td>\n",
       "      <td>NL</td>\n",
       "      <td>153.0</td>\n",
       "      <td>664.0</td>\n",
       "      <td>601.0</td>\n",
       "      <td>...</td>\n",
       "      <td>59.0</td>\n",
       "      <td>0.326</td>\n",
       "      <td>0.386</td>\n",
       "      <td>0.546</td>\n",
       "      <td>0.931</td>\n",
       "      <td>328.0</td>\n",
       "      <td>*98</td>\n",
       "      <td>AS,MVP-3,GG</td>\n",
       "      <td>MLN</td>\n",
       "      <td>not a current major league USA team</td>\n",
       "    </tr>\n",
       "  </tbody>\n",
       "</table>\n",
       "<p>5 rows × 26 columns</p>\n",
       "</div>"
      ],
      "text/plain": [
       "   Unnamed: 0         name                         url  Year  Age Team League  \\\n",
       "0           0  Henry Aaron  /players/a/aaronha01.shtml  1954   20  MLN     NL   \n",
       "1           1  Henry Aaron  /players/a/aaronha01.shtml  1955   21  MLN     NL   \n",
       "2           2  Henry Aaron  /players/a/aaronha01.shtml  1956   22  MLN     NL   \n",
       "3           3  Henry Aaron  /players/a/aaronha01.shtml  1957   23  MLN     NL   \n",
       "4           4  Henry Aaron  /players/a/aaronha01.shtml  1958   24  MLN     NL   \n",
       "\n",
       "   Games  Plate Appearances  At Bats  ...  Walk  Batting Average  \\\n",
       "0  122.0              509.0    468.0  ...  28.0            0.280   \n",
       "1  153.0              665.0    602.0  ...  49.0            0.314   \n",
       "2  153.0              660.0    609.0  ...  37.0            0.328   \n",
       "3  151.0              675.0    615.0  ...  57.0            0.322   \n",
       "4  153.0              664.0    601.0  ...  59.0            0.326   \n",
       "\n",
       "   On Base Percentage  Slugging Percentage  On Base Plus Slugging  \\\n",
       "0               0.322                0.447                  0.769   \n",
       "1               0.366                0.540                  0.906   \n",
       "2               0.365                0.558                  0.923   \n",
       "3               0.378                0.600                  0.978   \n",
       "4               0.386                0.546                  0.931   \n",
       "\n",
       "   Total Bases     Pos       Awards  team_city_code  \\\n",
       "0        209.0   *79/H        RoY-4             MLN   \n",
       "1        325.0  *974/H     AS,MVP-9             MLN   \n",
       "2        340.0    *9/H     AS,MVP-3             MLN   \n",
       "3        369.0   *98/H     AS,MVP-1             MLN   \n",
       "4        328.0     *98  AS,MVP-3,GG             MLN   \n",
       "\n",
       "                            state_name  \n",
       "0  not a current major league USA team  \n",
       "1  not a current major league USA team  \n",
       "2  not a current major league USA team  \n",
       "3  not a current major league USA team  \n",
       "4  not a current major league USA team  \n",
       "\n",
       "[5 rows x 26 columns]"
      ]
     },
     "execution_count": 40,
     "metadata": {},
     "output_type": "execute_result"
    }
   ],
   "source": [
    "bb.head()"
   ]
  },
  {
   "cell_type": "code",
   "execution_count": 41,
   "id": "606ab06b",
   "metadata": {},
   "outputs": [],
   "source": [
    "# dropping Unnamed: columns\n",
    "\n",
    "bb = bb.drop(columns = 'Unnamed: 0')"
   ]
  },
  {
   "cell_type": "code",
   "execution_count": 42,
   "id": "22a6e43e",
   "metadata": {},
   "outputs": [
    {
     "data": {
      "text/html": [
       "<div>\n",
       "<style scoped>\n",
       "    .dataframe tbody tr th:only-of-type {\n",
       "        vertical-align: middle;\n",
       "    }\n",
       "\n",
       "    .dataframe tbody tr th {\n",
       "        vertical-align: top;\n",
       "    }\n",
       "\n",
       "    .dataframe thead th {\n",
       "        text-align: right;\n",
       "    }\n",
       "</style>\n",
       "<table border=\"1\" class=\"dataframe\">\n",
       "  <thead>\n",
       "    <tr style=\"text-align: right;\">\n",
       "      <th></th>\n",
       "      <th>name</th>\n",
       "      <th>url</th>\n",
       "      <th>Year</th>\n",
       "      <th>Age</th>\n",
       "      <th>Team</th>\n",
       "      <th>League</th>\n",
       "      <th>Games</th>\n",
       "      <th>Plate Appearances</th>\n",
       "      <th>At Bats</th>\n",
       "      <th>Runs</th>\n",
       "      <th>...</th>\n",
       "      <th>Walk</th>\n",
       "      <th>Batting Average</th>\n",
       "      <th>On Base Percentage</th>\n",
       "      <th>Slugging Percentage</th>\n",
       "      <th>On Base Plus Slugging</th>\n",
       "      <th>Total Bases</th>\n",
       "      <th>Pos</th>\n",
       "      <th>Awards</th>\n",
       "      <th>team_city_code</th>\n",
       "      <th>state_name</th>\n",
       "    </tr>\n",
       "  </thead>\n",
       "  <tbody>\n",
       "    <tr>\n",
       "      <th>0</th>\n",
       "      <td>Henry Aaron</td>\n",
       "      <td>/players/a/aaronha01.shtml</td>\n",
       "      <td>1954</td>\n",
       "      <td>20</td>\n",
       "      <td>MLN</td>\n",
       "      <td>NL</td>\n",
       "      <td>122.0</td>\n",
       "      <td>509.0</td>\n",
       "      <td>468.0</td>\n",
       "      <td>58.0</td>\n",
       "      <td>...</td>\n",
       "      <td>28.0</td>\n",
       "      <td>0.280</td>\n",
       "      <td>0.322</td>\n",
       "      <td>0.447</td>\n",
       "      <td>0.769</td>\n",
       "      <td>209.0</td>\n",
       "      <td>*79/H</td>\n",
       "      <td>RoY-4</td>\n",
       "      <td>MLN</td>\n",
       "      <td>not a current major league USA team</td>\n",
       "    </tr>\n",
       "    <tr>\n",
       "      <th>1</th>\n",
       "      <td>Henry Aaron</td>\n",
       "      <td>/players/a/aaronha01.shtml</td>\n",
       "      <td>1955</td>\n",
       "      <td>21</td>\n",
       "      <td>MLN</td>\n",
       "      <td>NL</td>\n",
       "      <td>153.0</td>\n",
       "      <td>665.0</td>\n",
       "      <td>602.0</td>\n",
       "      <td>105.0</td>\n",
       "      <td>...</td>\n",
       "      <td>49.0</td>\n",
       "      <td>0.314</td>\n",
       "      <td>0.366</td>\n",
       "      <td>0.540</td>\n",
       "      <td>0.906</td>\n",
       "      <td>325.0</td>\n",
       "      <td>*974/H</td>\n",
       "      <td>AS,MVP-9</td>\n",
       "      <td>MLN</td>\n",
       "      <td>not a current major league USA team</td>\n",
       "    </tr>\n",
       "    <tr>\n",
       "      <th>2</th>\n",
       "      <td>Henry Aaron</td>\n",
       "      <td>/players/a/aaronha01.shtml</td>\n",
       "      <td>1956</td>\n",
       "      <td>22</td>\n",
       "      <td>MLN</td>\n",
       "      <td>NL</td>\n",
       "      <td>153.0</td>\n",
       "      <td>660.0</td>\n",
       "      <td>609.0</td>\n",
       "      <td>106.0</td>\n",
       "      <td>...</td>\n",
       "      <td>37.0</td>\n",
       "      <td>0.328</td>\n",
       "      <td>0.365</td>\n",
       "      <td>0.558</td>\n",
       "      <td>0.923</td>\n",
       "      <td>340.0</td>\n",
       "      <td>*9/H</td>\n",
       "      <td>AS,MVP-3</td>\n",
       "      <td>MLN</td>\n",
       "      <td>not a current major league USA team</td>\n",
       "    </tr>\n",
       "    <tr>\n",
       "      <th>3</th>\n",
       "      <td>Henry Aaron</td>\n",
       "      <td>/players/a/aaronha01.shtml</td>\n",
       "      <td>1957</td>\n",
       "      <td>23</td>\n",
       "      <td>MLN</td>\n",
       "      <td>NL</td>\n",
       "      <td>151.0</td>\n",
       "      <td>675.0</td>\n",
       "      <td>615.0</td>\n",
       "      <td>118.0</td>\n",
       "      <td>...</td>\n",
       "      <td>57.0</td>\n",
       "      <td>0.322</td>\n",
       "      <td>0.378</td>\n",
       "      <td>0.600</td>\n",
       "      <td>0.978</td>\n",
       "      <td>369.0</td>\n",
       "      <td>*98/H</td>\n",
       "      <td>AS,MVP-1</td>\n",
       "      <td>MLN</td>\n",
       "      <td>not a current major league USA team</td>\n",
       "    </tr>\n",
       "    <tr>\n",
       "      <th>4</th>\n",
       "      <td>Henry Aaron</td>\n",
       "      <td>/players/a/aaronha01.shtml</td>\n",
       "      <td>1958</td>\n",
       "      <td>24</td>\n",
       "      <td>MLN</td>\n",
       "      <td>NL</td>\n",
       "      <td>153.0</td>\n",
       "      <td>664.0</td>\n",
       "      <td>601.0</td>\n",
       "      <td>109.0</td>\n",
       "      <td>...</td>\n",
       "      <td>59.0</td>\n",
       "      <td>0.326</td>\n",
       "      <td>0.386</td>\n",
       "      <td>0.546</td>\n",
       "      <td>0.931</td>\n",
       "      <td>328.0</td>\n",
       "      <td>*98</td>\n",
       "      <td>AS,MVP-3,GG</td>\n",
       "      <td>MLN</td>\n",
       "      <td>not a current major league USA team</td>\n",
       "    </tr>\n",
       "  </tbody>\n",
       "</table>\n",
       "<p>5 rows × 25 columns</p>\n",
       "</div>"
      ],
      "text/plain": [
       "          name                         url  Year  Age Team League  Games  \\\n",
       "0  Henry Aaron  /players/a/aaronha01.shtml  1954   20  MLN     NL  122.0   \n",
       "1  Henry Aaron  /players/a/aaronha01.shtml  1955   21  MLN     NL  153.0   \n",
       "2  Henry Aaron  /players/a/aaronha01.shtml  1956   22  MLN     NL  153.0   \n",
       "3  Henry Aaron  /players/a/aaronha01.shtml  1957   23  MLN     NL  151.0   \n",
       "4  Henry Aaron  /players/a/aaronha01.shtml  1958   24  MLN     NL  153.0   \n",
       "\n",
       "   Plate Appearances  At Bats   Runs  ...  Walk  Batting Average  \\\n",
       "0              509.0    468.0   58.0  ...  28.0            0.280   \n",
       "1              665.0    602.0  105.0  ...  49.0            0.314   \n",
       "2              660.0    609.0  106.0  ...  37.0            0.328   \n",
       "3              675.0    615.0  118.0  ...  57.0            0.322   \n",
       "4              664.0    601.0  109.0  ...  59.0            0.326   \n",
       "\n",
       "   On Base Percentage  Slugging Percentage  On Base Plus Slugging  \\\n",
       "0               0.322                0.447                  0.769   \n",
       "1               0.366                0.540                  0.906   \n",
       "2               0.365                0.558                  0.923   \n",
       "3               0.378                0.600                  0.978   \n",
       "4               0.386                0.546                  0.931   \n",
       "\n",
       "   Total Bases     Pos       Awards  team_city_code  \\\n",
       "0        209.0   *79/H        RoY-4             MLN   \n",
       "1        325.0  *974/H     AS,MVP-9             MLN   \n",
       "2        340.0    *9/H     AS,MVP-3             MLN   \n",
       "3        369.0   *98/H     AS,MVP-1             MLN   \n",
       "4        328.0     *98  AS,MVP-3,GG             MLN   \n",
       "\n",
       "                            state_name  \n",
       "0  not a current major league USA team  \n",
       "1  not a current major league USA team  \n",
       "2  not a current major league USA team  \n",
       "3  not a current major league USA team  \n",
       "4  not a current major league USA team  \n",
       "\n",
       "[5 rows x 25 columns]"
      ]
     },
     "execution_count": 42,
     "metadata": {},
     "output_type": "execute_result"
    }
   ],
   "source": [
    "bb.head()"
   ]
  },
  {
   "cell_type": "code",
   "execution_count": 43,
   "id": "f2c21e21",
   "metadata": {},
   "outputs": [
    {
     "data": {
      "text/plain": [
       "Index(['name', 'url', 'Year', 'Age', 'Team', 'League', 'Games',\n",
       "       'Plate Appearances', 'At Bats', 'Runs', 'Hits', 'Double', 'Triple',\n",
       "       'Home Run', 'Runs Batted In', 'Walk', 'Batting Average',\n",
       "       'On Base Percentage', 'Slugging Percentage', 'On Base Plus Slugging',\n",
       "       'Total Bases', 'Pos', 'Awards', 'team_city_code', 'state_name'],\n",
       "      dtype='object')"
      ]
     },
     "execution_count": 43,
     "metadata": {},
     "output_type": "execute_result"
    }
   ],
   "source": [
    "bb.columns"
   ]
  },
  {
   "cell_type": "code",
   "execution_count": 44,
   "id": "d53df9e4",
   "metadata": {},
   "outputs": [
    {
     "data": {
      "text/plain": [
       "(119060, 25)"
      ]
     },
     "execution_count": 44,
     "metadata": {},
     "output_type": "execute_result"
    }
   ],
   "source": [
    "# shape check\n",
    "\n",
    "bb.shape"
   ]
  },
  {
   "cell_type": "markdown",
   "id": "12d187a9",
   "metadata": {},
   "source": [
    "#### Extreme values checks"
   ]
  },
  {
   "cell_type": "code",
   "execution_count": 45,
   "id": "465a9d63",
   "metadata": {},
   "outputs": [],
   "source": [
    "# I did do checks previously. I will do this just to check and so I know how to do this"
   ]
  },
  {
   "cell_type": "code",
   "execution_count": 46,
   "id": "7532efeb",
   "metadata": {},
   "outputs": [
    {
     "name": "stderr",
     "output_type": "stream",
     "text": [
      "C:\\Users\\guzic\\anaconda3\\lib\\site-packages\\seaborn\\distributions.py:2619: FutureWarning: `distplot` is a deprecated function and will be removed in a future version. Please adapt your code to use either `displot` (a figure-level function with similar flexibility) or `histplot` (an axes-level function for histograms).\n",
      "  warnings.warn(msg, FutureWarning)\n"
     ]
    },
    {
     "data": {
      "text/plain": [
       "<AxesSubplot:xlabel='Walk', ylabel='Density'>"
      ]
     },
     "execution_count": 46,
     "metadata": {},
     "output_type": "execute_result"
    },
    {
     "data": {
      "image/png": "[encoded data removed]",
      "text/plain": [
       "<Figure size 432x288 with 1 Axes>"
      ]
     },
     "metadata": {
      "needs_background": "light"
     },
     "output_type": "display_data"
    }
   ],
   "source": [
    "sns.distplot(bb['Walk'], bins=25) # Shows extreme values\n",
    "\n",
    "# Some of the outliers in the high values may need to be removed, but let's try without doing so first."
   ]
  },
  {
   "cell_type": "code",
   "execution_count": 47,
   "id": "1f48b5e8",
   "metadata": {},
   "outputs": [
    {
     "data": {
      "text/plain": [
       "26.395556862086345"
      ]
     },
     "execution_count": 47,
     "metadata": {},
     "output_type": "execute_result"
    }
   ],
   "source": [
    "bb['Walk'].mean() # Check the mean"
   ]
  },
  {
   "cell_type": "code",
   "execution_count": 48,
   "id": "714f9b6a",
   "metadata": {},
   "outputs": [
    {
     "data": {
      "text/plain": [
       "21.0"
      ]
     },
     "execution_count": 48,
     "metadata": {},
     "output_type": "execute_result"
    }
   ],
   "source": [
    "bb['Walk'].median() # Check the median"
   ]
  },
  {
   "cell_type": "code",
   "execution_count": 49,
   "id": "e22ca1ba",
   "metadata": {},
   "outputs": [
    {
     "data": {
      "text/plain": [
       "232.0"
      ]
     },
     "execution_count": 49,
     "metadata": {},
     "output_type": "execute_result"
    }
   ],
   "source": [
    "bb['Walk'].max() # Check the max"
   ]
  },
  {
   "cell_type": "markdown",
   "id": "2089692d",
   "metadata": {},
   "source": [
    "### Questions to Explore:"
   ]
  },
  {
   "cell_type": "code",
   "execution_count": 50,
   "id": "c6c51a74",
   "metadata": {},
   "outputs": [],
   "source": [
    "# Does a certain age player yield more home runs? Or RBIs? Or OBP?\n",
    "# Does a certain team have a history of the most runs? OBP?\n",
    "# Do Hits, Doubles, or Walks, etc. lead to more runs?\n",
    "# Does the number of games play lead to more runs? RBIs, etc.?\n",
    "# Do more plate appearances lead to more runs, etc.?\n",
    "# Does a certain field positions have better hitting stats?\n",
    "# Does a higher OBP lead to higher runs? \n",
    "# What variable leads to the most number of runs? Having the most runs is how you win games\n",
    "# How have trends changed over time?\n",
    "\n",
    "# Most important question - What leads to the most amount of runs?\n",
    "\n",
    "# RUNS will be y - dependent variable\n",
    "# walks & runs\n",
    "# on base percentage & runs\n",
    "# batting average & runs\n",
    "# total bases & runs\n",
    "# hits & runs\n",
    "# position & runs\n",
    "\n",
    "# TOTAL BASES will be y - dependent variable\n",
    "# hits & total bases\n",
    "# walks & total bases\n",
    "# batting average & total bases\n"
   ]
  },
  {
   "cell_type": "markdown",
   "id": "8cc32a14",
   "metadata": {},
   "source": [
    "#### Hypothesis: "
   ]
  },
  {
   "cell_type": "code",
   "execution_count": 254,
   "id": "ef92cfc7",
   "metadata": {},
   "outputs": [],
   "source": [
    "# The higher the walks, the higher amount of runs. \n",
    "# Walks have the strongest correlation with runs. \n",
    "\n",
    "# A walk does not nescessarly equate to a run.\n",
    "\n",
    "# Which variable leads to runs - what has strongest correlation?"
   ]
  },
  {
   "cell_type": "markdown",
   "id": "56a0a870",
   "metadata": {},
   "source": [
    "### Data prep for regression analysis "
   ]
  },
  {
   "cell_type": "code",
   "execution_count": 52,
   "id": "63dc69f2",
   "metadata": {
    "scrolled": true
   },
   "outputs": [
    {
     "data": {
      "image/png": "[encoded data removed]",
      "text/plain": [
       "<Figure size 432x288 with 1 Axes>"
      ]
     },
     "metadata": {
      "needs_background": "light"
     },
     "output_type": "display_data"
    }
   ],
   "source": [
    "# Create a scatterplot using matplotlib for another look at how the chosen variables plot against each other.\n",
    "\n",
    "# Walks & Runs\n",
    "\n",
    "bb.plot(x = 'Walk', y='Runs',style='o') # The style option creates a scatterplot; without it, we only have lines.\n",
    "plt.title('Walks vs. Runs')  \n",
    "plt.xlabel('Walks')  \n",
    "plt.ylabel('Runs')  \n",
    "plt.show()"
   ]
  },
  {
   "cell_type": "code",
   "execution_count": 53,
   "id": "b8e94a46",
   "metadata": {},
   "outputs": [],
   "source": [
    "# Reshape the variables into NumPy arrays and put them into separate objects.\n",
    "\n",
    "X = bb['Walk'].values.reshape(-1,1)\n",
    "y = bb['Runs'].values.reshape(-1,1)"
   ]
  },
  {
   "cell_type": "code",
   "execution_count": 54,
   "id": "aad3e62b",
   "metadata": {},
   "outputs": [
    {
     "data": {
      "text/plain": [
       "array([[28.],\n",
       "       [49.],\n",
       "       [37.],\n",
       "       ...,\n",
       "       [46.],\n",
       "       [67.],\n",
       "       [ 4.]])"
      ]
     },
     "execution_count": 54,
     "metadata": {},
     "output_type": "execute_result"
    }
   ],
   "source": [
    "X"
   ]
  },
  {
   "cell_type": "code",
   "execution_count": 55,
   "id": "d5e5b38a",
   "metadata": {},
   "outputs": [
    {
     "data": {
      "text/plain": [
       "array([[ 58.],\n",
       "       [105.],\n",
       "       [106.],\n",
       "       ...,\n",
       "       [ 91.],\n",
       "       [ 65.],\n",
       "       [  4.]])"
      ]
     },
     "execution_count": 55,
     "metadata": {},
     "output_type": "execute_result"
    }
   ],
   "source": [
    "y"
   ]
  },
  {
   "cell_type": "code",
   "execution_count": 56,
   "id": "cc28e30c",
   "metadata": {},
   "outputs": [],
   "source": [
    "# Split data into a training set and a test set.\n",
    "\n",
    "X_train, X_test, y_train, y_test = train_test_split(X, y, test_size=0.3, random_state=0)"
   ]
  },
  {
   "cell_type": "markdown",
   "id": "c5b6623a",
   "metadata": {},
   "source": [
    "### Regression analysis"
   ]
  },
  {
   "cell_type": "code",
   "execution_count": 57,
   "id": "a8a37523",
   "metadata": {},
   "outputs": [],
   "source": [
    "# Create a regression object.\n",
    "\n",
    "regression = LinearRegression()  # This is the regression object, which will be fit onto the training set."
   ]
  },
  {
   "cell_type": "code",
   "execution_count": 58,
   "id": "04082ff7",
   "metadata": {},
   "outputs": [
    {
     "data": {
      "text/plain": [
       "LinearRegression()"
      ]
     },
     "execution_count": 58,
     "metadata": {},
     "output_type": "execute_result"
    }
   ],
   "source": [
    "# Fit the regression object onto the training set.\n",
    "\n",
    "regression.fit(X_train, y_train)"
   ]
  },
  {
   "cell_type": "code",
   "execution_count": 59,
   "id": "884582f2",
   "metadata": {},
   "outputs": [],
   "source": [
    "# Predict the values of y using X.\n",
    "\n",
    "y_predicted = regression.predict(X_test)"
   ]
  },
  {
   "cell_type": "code",
   "execution_count": 60,
   "id": "8f9ab408",
   "metadata": {},
   "outputs": [
    {
     "data": {
      "image/png": "[encoded data removed]",
      "text/plain": [
       "<Figure size 432x288 with 1 Axes>"
      ]
     },
     "metadata": {
      "needs_background": "light"
     },
     "output_type": "display_data"
    }
   ],
   "source": [
    "# Create a plot that shows the regression line from the model on the test set.\n",
    "\n",
    "plot_test = plt\n",
    "plot_test.scatter(X_test, y_test, color='gray', s = 15)\n",
    "plot_test.plot(X_test, y_predicted, color='red', linewidth =3)\n",
    "plot_test.title('Walks vs Runs (Test set)')\n",
    "plot_test.xlabel('Walks')\n",
    "plot_test.ylabel('Runs')\n",
    "plot_test.show()"
   ]
  },
  {
   "cell_type": "markdown",
   "id": "5921a78e",
   "metadata": {},
   "source": [
    "#### The line seems to fit the data pretty well. There are a lot of values that are higher (the runs)"
   ]
  },
  {
   "cell_type": "code",
   "execution_count": 61,
   "id": "ee2e5e6f",
   "metadata": {},
   "outputs": [],
   "source": [
    "# Create objects that contain the model summary statistics.\n",
    "\n",
    "rmse = mean_squared_error(y_test, y_predicted) # This is the mean squared error\n",
    "r2 = r2_score(y_test, y_predicted) # This is the R2 score. "
   ]
  },
  {
   "cell_type": "code",
   "execution_count": 62,
   "id": "1cb075f3",
   "metadata": {},
   "outputs": [
    {
     "name": "stdout",
     "output_type": "stream",
     "text": [
      "Slope: [[1.09042015]]\n",
      "Mean squared error:  256.0859457577482\n",
      "R2 score:  0.7206928063400209\n"
     ]
    }
   ],
   "source": [
    "# Print the model summary statistics. This is where you evaluate the performance of the model.\n",
    "\n",
    "print('Slope:' ,regression.coef_)\n",
    "print('Mean squared error: ', rmse)\n",
    "print('R2 score: ', r2)"
   ]
  },
  {
   "cell_type": "code",
   "execution_count": 63,
   "id": "0c3926a0",
   "metadata": {},
   "outputs": [
    {
     "data": {
      "text/plain": [
       "array([[32.84575044],\n",
       "       [81.91465699],\n",
       "       [28.48406986],\n",
       "       ...,\n",
       "       [63.37751452],\n",
       "       [15.39902811],\n",
       "       [ 8.85650724]])"
      ]
     },
     "execution_count": 63,
     "metadata": {},
     "output_type": "execute_result"
    }
   ],
   "source": [
    "y_predicted"
   ]
  },
  {
   "cell_type": "code",
   "execution_count": 64,
   "id": "f3ba3e4f",
   "metadata": {
    "scrolled": true
   },
   "outputs": [
    {
     "data": {
      "text/html": [
       "<div>\n",
       "<style scoped>\n",
       "    .dataframe tbody tr th:only-of-type {\n",
       "        vertical-align: middle;\n",
       "    }\n",
       "\n",
       "    .dataframe tbody tr th {\n",
       "        vertical-align: top;\n",
       "    }\n",
       "\n",
       "    .dataframe thead th {\n",
       "        text-align: right;\n",
       "    }\n",
       "</style>\n",
       "<table border=\"1\" class=\"dataframe\">\n",
       "  <thead>\n",
       "    <tr style=\"text-align: right;\">\n",
       "      <th></th>\n",
       "      <th>Actual</th>\n",
       "      <th>Predicted</th>\n",
       "    </tr>\n",
       "  </thead>\n",
       "  <tbody>\n",
       "    <tr>\n",
       "      <th>0</th>\n",
       "      <td>52.0</td>\n",
       "      <td>32.845750</td>\n",
       "    </tr>\n",
       "    <tr>\n",
       "      <th>1</th>\n",
       "      <td>88.0</td>\n",
       "      <td>81.914657</td>\n",
       "    </tr>\n",
       "    <tr>\n",
       "      <th>2</th>\n",
       "      <td>7.0</td>\n",
       "      <td>28.484070</td>\n",
       "    </tr>\n",
       "    <tr>\n",
       "      <th>3</th>\n",
       "      <td>41.0</td>\n",
       "      <td>47.021212</td>\n",
       "    </tr>\n",
       "    <tr>\n",
       "      <th>4</th>\n",
       "      <td>65.0</td>\n",
       "      <td>75.372136</td>\n",
       "    </tr>\n",
       "    <tr>\n",
       "      <th>5</th>\n",
       "      <td>29.0</td>\n",
       "      <td>60.106254</td>\n",
       "    </tr>\n",
       "    <tr>\n",
       "      <th>6</th>\n",
       "      <td>23.0</td>\n",
       "      <td>16.489448</td>\n",
       "    </tr>\n",
       "    <tr>\n",
       "      <th>7</th>\n",
       "      <td>28.0</td>\n",
       "      <td>28.484070</td>\n",
       "    </tr>\n",
       "    <tr>\n",
       "      <th>8</th>\n",
       "      <td>3.0</td>\n",
       "      <td>13.218188</td>\n",
       "    </tr>\n",
       "    <tr>\n",
       "      <th>9</th>\n",
       "      <td>24.0</td>\n",
       "      <td>13.218188</td>\n",
       "    </tr>\n",
       "    <tr>\n",
       "      <th>10</th>\n",
       "      <td>9.0</td>\n",
       "      <td>11.037348</td>\n",
       "    </tr>\n",
       "    <tr>\n",
       "      <th>11</th>\n",
       "      <td>1.0</td>\n",
       "      <td>9.946927</td>\n",
       "    </tr>\n",
       "    <tr>\n",
       "      <th>12</th>\n",
       "      <td>6.0</td>\n",
       "      <td>11.037348</td>\n",
       "    </tr>\n",
       "    <tr>\n",
       "      <th>13</th>\n",
       "      <td>53.0</td>\n",
       "      <td>66.648775</td>\n",
       "    </tr>\n",
       "    <tr>\n",
       "      <th>14</th>\n",
       "      <td>67.0</td>\n",
       "      <td>29.574490</td>\n",
       "    </tr>\n",
       "    <tr>\n",
       "      <th>15</th>\n",
       "      <td>24.0</td>\n",
       "      <td>31.755330</td>\n",
       "    </tr>\n",
       "    <tr>\n",
       "      <th>16</th>\n",
       "      <td>91.0</td>\n",
       "      <td>31.755330</td>\n",
       "    </tr>\n",
       "    <tr>\n",
       "      <th>17</th>\n",
       "      <td>52.0</td>\n",
       "      <td>40.478691</td>\n",
       "    </tr>\n",
       "    <tr>\n",
       "      <th>18</th>\n",
       "      <td>2.0</td>\n",
       "      <td>9.946927</td>\n",
       "    </tr>\n",
       "    <tr>\n",
       "      <th>19</th>\n",
       "      <td>26.0</td>\n",
       "      <td>13.218188</td>\n",
       "    </tr>\n",
       "    <tr>\n",
       "      <th>20</th>\n",
       "      <td>47.0</td>\n",
       "      <td>37.207431</td>\n",
       "    </tr>\n",
       "    <tr>\n",
       "      <th>21</th>\n",
       "      <td>10.0</td>\n",
       "      <td>16.489448</td>\n",
       "    </tr>\n",
       "    <tr>\n",
       "      <th>22</th>\n",
       "      <td>10.0</td>\n",
       "      <td>9.946927</td>\n",
       "    </tr>\n",
       "    <tr>\n",
       "      <th>23</th>\n",
       "      <td>7.0</td>\n",
       "      <td>17.579868</td>\n",
       "    </tr>\n",
       "    <tr>\n",
       "      <th>24</th>\n",
       "      <td>40.0</td>\n",
       "      <td>47.021212</td>\n",
       "    </tr>\n",
       "    <tr>\n",
       "      <th>25</th>\n",
       "      <td>50.0</td>\n",
       "      <td>76.462556</td>\n",
       "    </tr>\n",
       "    <tr>\n",
       "      <th>26</th>\n",
       "      <td>25.0</td>\n",
       "      <td>15.399028</td>\n",
       "    </tr>\n",
       "    <tr>\n",
       "      <th>27</th>\n",
       "      <td>64.0</td>\n",
       "      <td>52.473313</td>\n",
       "    </tr>\n",
       "    <tr>\n",
       "      <th>28</th>\n",
       "      <td>1.0</td>\n",
       "      <td>7.766087</td>\n",
       "    </tr>\n",
       "    <tr>\n",
       "      <th>29</th>\n",
       "      <td>1.0</td>\n",
       "      <td>11.037348</td>\n",
       "    </tr>\n",
       "  </tbody>\n",
       "</table>\n",
       "</div>"
      ],
      "text/plain": [
       "    Actual  Predicted\n",
       "0     52.0  32.845750\n",
       "1     88.0  81.914657\n",
       "2      7.0  28.484070\n",
       "3     41.0  47.021212\n",
       "4     65.0  75.372136\n",
       "5     29.0  60.106254\n",
       "6     23.0  16.489448\n",
       "7     28.0  28.484070\n",
       "8      3.0  13.218188\n",
       "9     24.0  13.218188\n",
       "10     9.0  11.037348\n",
       "11     1.0   9.946927\n",
       "12     6.0  11.037348\n",
       "13    53.0  66.648775\n",
       "14    67.0  29.574490\n",
       "15    24.0  31.755330\n",
       "16    91.0  31.755330\n",
       "17    52.0  40.478691\n",
       "18     2.0   9.946927\n",
       "19    26.0  13.218188\n",
       "20    47.0  37.207431\n",
       "21    10.0  16.489448\n",
       "22    10.0   9.946927\n",
       "23     7.0  17.579868\n",
       "24    40.0  47.021212\n",
       "25    50.0  76.462556\n",
       "26    25.0  15.399028\n",
       "27    64.0  52.473313\n",
       "28     1.0   7.766087\n",
       "29     1.0  11.037348"
      ]
     },
     "execution_count": 64,
     "metadata": {},
     "output_type": "execute_result"
    }
   ],
   "source": [
    "# Create a dataframe comparing the actual and predicted values of y.\n",
    "\n",
    "data = pd.DataFrame({'Actual': y_test.flatten(), 'Predicted': y_predicted.flatten()})\n",
    "data.head(30)"
   ]
  },
  {
   "cell_type": "markdown",
   "id": "f019c190",
   "metadata": {},
   "source": [
    "##### Compare how the regression fits the training set"
   ]
  },
  {
   "cell_type": "code",
   "execution_count": 65,
   "id": "743b7e68",
   "metadata": {},
   "outputs": [],
   "source": [
    "# Predict.\n",
    "\n",
    "y_predicted_train = regression.predict(X_train) # This is predicting X_train!"
   ]
  },
  {
   "cell_type": "code",
   "execution_count": 66,
   "id": "6c700203",
   "metadata": {},
   "outputs": [],
   "source": [
    "rmse = mean_squared_error(y_train, y_predicted_train)\n",
    "r2 = r2_score(y_train, y_predicted_train)"
   ]
  },
  {
   "cell_type": "code",
   "execution_count": 67,
   "id": "792c6fd8",
   "metadata": {},
   "outputs": [
    {
     "name": "stdout",
     "output_type": "stream",
     "text": [
      "Slope: [[1.09042015]]\n",
      "Mean squared error:  252.7436865842847\n",
      "R2 score:  0.7221775338429377\n"
     ]
    }
   ],
   "source": [
    "print('Slope:' ,regression.coef_)\n",
    "print('Mean squared error: ', rmse)\n",
    "print('R2 score: ', r2)"
   ]
  },
  {
   "cell_type": "markdown",
   "id": "e677733b",
   "metadata": {},
   "source": [
    "### R2 score:  0.72 - Fairly strong positive\n",
    "\n",
    "#### The model performed very well on the test set. the R2 scores are almost identical. \n",
    "#### When looking at the Actual & Predicted, there seems to be a large difference with some of the values\n",
    "#### The MSE seems to make sense. Of course there are outstanding yeras where a player may break a record for runs, "
   ]
  },
  {
   "cell_type": "code",
   "execution_count": 68,
   "id": "1773f14f",
   "metadata": {
    "scrolled": true
   },
   "outputs": [
    {
     "data": {
      "image/png": "[encoded data removed]",
      "text/plain": [
       "<Figure size 432x288 with 1 Axes>"
      ]
     },
     "metadata": {
      "needs_background": "light"
     },
     "output_type": "display_data"
    }
   ],
   "source": [
    "# Visualizing the training set results.\n",
    "\n",
    "plot_test = plt\n",
    "plot_test.scatter(X_train, y_train, color='green', s = 15)\n",
    "plot_test.plot(X_train, y_predicted_train, color='red', linewidth =3)\n",
    "plot_test.title('Walks vs Runs (Test set)')\n",
    "plot_test.xlabel('Walks')\n",
    "plot_test.ylabel('Runs')\n",
    "plot_test.show()"
   ]
  },
  {
   "cell_type": "markdown",
   "id": "e21fde56",
   "metadata": {},
   "source": [
    "#### Comparing Plate Appearances & Runs"
   ]
  },
  {
   "cell_type": "code",
   "execution_count": 70,
   "id": "9f5d283d",
   "metadata": {},
   "outputs": [
    {
     "data": {
      "image/png": "[encoded data removed]",
      "text/plain": [
       "<Figure size 432x288 with 1 Axes>"
      ]
     },
     "metadata": {
      "needs_background": "light"
     },
     "output_type": "display_data"
    }
   ],
   "source": [
    "# plate appearances & runs\n",
    "\n",
    "bb.plot(x = 'Plate Appearances', y='Runs',style='o') # The style option creates a scatterplot; without it, we only have lines.\n",
    "plt.title('Plate Appearances vs. Runs')  \n",
    "plt.xlabel('Plate Appearances')  \n",
    "plt.ylabel('Runs')  \n",
    "plt.show()"
   ]
  },
  {
   "cell_type": "code",
   "execution_count": 71,
   "id": "828d6547",
   "metadata": {},
   "outputs": [],
   "source": [
    "# Reshape the variables into NumPy arrays and put them into separate objects.\n",
    "\n",
    "X2 = bb['Plate Appearances'].values.reshape(-1,1)\n",
    "y2 = bb['Runs'].values.reshape(-1,1)"
   ]
  },
  {
   "cell_type": "code",
   "execution_count": 72,
   "id": "d70a03f2",
   "metadata": {},
   "outputs": [
    {
     "data": {
      "text/plain": [
       "array([[509.],\n",
       "       [665.],\n",
       "       [660.],\n",
       "       ...,\n",
       "       [649.],\n",
       "       [636.],\n",
       "       [ 59.]])"
      ]
     },
     "execution_count": 72,
     "metadata": {},
     "output_type": "execute_result"
    }
   ],
   "source": [
    "X2"
   ]
  },
  {
   "cell_type": "code",
   "execution_count": 73,
   "id": "0cd5f0c9",
   "metadata": {},
   "outputs": [
    {
     "data": {
      "text/plain": [
       "array([[ 58.],\n",
       "       [105.],\n",
       "       [106.],\n",
       "       ...,\n",
       "       [ 91.],\n",
       "       [ 65.],\n",
       "       [  4.]])"
      ]
     },
     "execution_count": 73,
     "metadata": {},
     "output_type": "execute_result"
    }
   ],
   "source": [
    "y2"
   ]
  },
  {
   "cell_type": "code",
   "execution_count": 74,
   "id": "87e9376f",
   "metadata": {},
   "outputs": [],
   "source": [
    "# Split data into a training set and a test set.\n",
    "\n",
    "X2_train, X2_test, y2_train, y2_test = train_test_split(X2, y2, test_size=0.3, random_state=0)"
   ]
  },
  {
   "cell_type": "markdown",
   "id": "1337fafa",
   "metadata": {},
   "source": [
    "### Regression analysis"
   ]
  },
  {
   "cell_type": "code",
   "execution_count": 75,
   "id": "f61a3df3",
   "metadata": {},
   "outputs": [],
   "source": [
    "# Create a regression object.\n",
    "\n",
    "regression2 = LinearRegression()  # This is the regression object, which will be fit onto the training set."
   ]
  },
  {
   "cell_type": "code",
   "execution_count": 76,
   "id": "827b0f87",
   "metadata": {},
   "outputs": [
    {
     "data": {
      "text/plain": [
       "LinearRegression()"
      ]
     },
     "execution_count": 76,
     "metadata": {},
     "output_type": "execute_result"
    }
   ],
   "source": [
    "# Fit the regression object onto the training set.\n",
    "\n",
    "regression2.fit(X2_train, y2_train)"
   ]
  },
  {
   "cell_type": "code",
   "execution_count": 77,
   "id": "34b353be",
   "metadata": {},
   "outputs": [],
   "source": [
    "# Predict the values of y using X.\n",
    "\n",
    "y2_predicted = regression2.predict(X2_test)"
   ]
  },
  {
   "cell_type": "code",
   "execution_count": 78,
   "id": "28d7989c",
   "metadata": {},
   "outputs": [
    {
     "data": {
      "image/png": "[encoded data removed]",
      "text/plain": [
       "<Figure size 432x288 with 1 Axes>"
      ]
     },
     "metadata": {
      "needs_background": "light"
     },
     "output_type": "display_data"
    }
   ],
   "source": [
    "# Create a plot that shows the regression line from the model on the test set.\n",
    "\n",
    "plot_test = plt\n",
    "plot_test.scatter(X2_test, y2_test, color='gray', s = 15)\n",
    "plot_test.plot(X2_test, y2_predicted, color='red', linewidth =3)\n",
    "plot_test.title('Plate Appearances vs Runs (Test set)')\n",
    "plot_test.xlabel('Plate Appearances')\n",
    "plot_test.ylabel('Runs')\n",
    "plot_test.show()"
   ]
  },
  {
   "cell_type": "markdown",
   "id": "e8e0d085",
   "metadata": {},
   "source": [
    "#### The line fits the test set semi-decently. There are a lot of calue that are far away from the red line\n",
    "#### There are a lot of higher values as plate appearances go up\n",
    "#### There are a lot of lower values in the 300-600 plate appearances range"
   ]
  },
  {
   "cell_type": "code",
   "execution_count": 79,
   "id": "10277527",
   "metadata": {},
   "outputs": [],
   "source": [
    "# Create objects that contain the model summary statistics.\n",
    "\n",
    "rmse = mean_squared_error(y2_test, y2_predicted) # This is the mean squared error\n",
    "r2 = r2_score(y2_test, y2_predicted) # This is the R2 score. "
   ]
  },
  {
   "cell_type": "code",
   "execution_count": 80,
   "id": "149b4fc8",
   "metadata": {},
   "outputs": [
    {
     "name": "stdout",
     "output_type": "stream",
     "text": [
      "Slope: [[1.09042015]]\n",
      "Mean squared error:  112.06026009362289\n",
      "R2 score:  0.8777783893022948\n"
     ]
    }
   ],
   "source": [
    "# Print the model summary statistics. This is where you evaluate the performance of the model.\n",
    "\n",
    "print('Slope:' ,regression.coef_)\n",
    "print('Mean squared error: ', rmse)\n",
    "print('R2 score: ', r2)"
   ]
  },
  {
   "cell_type": "code",
   "execution_count": 81,
   "id": "78a53757",
   "metadata": {},
   "outputs": [
    {
     "data": {
      "text/plain": [
       "array([[56.53560896],\n",
       "       [74.78409678],\n",
       "       [ 9.68874469],\n",
       "       ...,\n",
       "       [63.20856346],\n",
       "       [ 7.78218626],\n",
       "       [-0.79732668]])"
      ]
     },
     "execution_count": 81,
     "metadata": {},
     "output_type": "execute_result"
    }
   ],
   "source": [
    "y2_predicted"
   ]
  },
  {
   "cell_type": "code",
   "execution_count": 82,
   "id": "cb648112",
   "metadata": {},
   "outputs": [
    {
     "data": {
      "text/html": [
       "<div>\n",
       "<style scoped>\n",
       "    .dataframe tbody tr th:only-of-type {\n",
       "        vertical-align: middle;\n",
       "    }\n",
       "\n",
       "    .dataframe tbody tr th {\n",
       "        vertical-align: top;\n",
       "    }\n",
       "\n",
       "    .dataframe thead th {\n",
       "        text-align: right;\n",
       "    }\n",
       "</style>\n",
       "<table border=\"1\" class=\"dataframe\">\n",
       "  <thead>\n",
       "    <tr style=\"text-align: right;\">\n",
       "      <th></th>\n",
       "      <th>Actual</th>\n",
       "      <th>Predicted</th>\n",
       "    </tr>\n",
       "  </thead>\n",
       "  <tbody>\n",
       "    <tr>\n",
       "      <th>0</th>\n",
       "      <td>52.0</td>\n",
       "      <td>56.535609</td>\n",
       "    </tr>\n",
       "    <tr>\n",
       "      <th>1</th>\n",
       "      <td>88.0</td>\n",
       "      <td>74.784097</td>\n",
       "    </tr>\n",
       "    <tr>\n",
       "      <th>2</th>\n",
       "      <td>7.0</td>\n",
       "      <td>9.688745</td>\n",
       "    </tr>\n",
       "    <tr>\n",
       "      <th>3</th>\n",
       "      <td>41.0</td>\n",
       "      <td>42.236421</td>\n",
       "    </tr>\n",
       "    <tr>\n",
       "      <th>4</th>\n",
       "      <td>65.0</td>\n",
       "      <td>59.803995</td>\n",
       "    </tr>\n",
       "    <tr>\n",
       "      <th>5</th>\n",
       "      <td>29.0</td>\n",
       "      <td>38.831852</td>\n",
       "    </tr>\n",
       "    <tr>\n",
       "      <th>6</th>\n",
       "      <td>23.0</td>\n",
       "      <td>24.941212</td>\n",
       "    </tr>\n",
       "    <tr>\n",
       "      <th>7</th>\n",
       "      <td>28.0</td>\n",
       "      <td>27.664867</td>\n",
       "    </tr>\n",
       "    <tr>\n",
       "      <th>8</th>\n",
       "      <td>3.0</td>\n",
       "      <td>1.790145</td>\n",
       "    </tr>\n",
       "    <tr>\n",
       "      <th>9</th>\n",
       "      <td>24.0</td>\n",
       "      <td>20.310999</td>\n",
       "    </tr>\n",
       "    <tr>\n",
       "      <th>10</th>\n",
       "      <td>9.0</td>\n",
       "      <td>5.875628</td>\n",
       "    </tr>\n",
       "    <tr>\n",
       "      <th>11</th>\n",
       "      <td>1.0</td>\n",
       "      <td>-1.205875</td>\n",
       "    </tr>\n",
       "    <tr>\n",
       "      <th>12</th>\n",
       "      <td>6.0</td>\n",
       "      <td>4.922349</td>\n",
       "    </tr>\n",
       "    <tr>\n",
       "      <th>13</th>\n",
       "      <td>53.0</td>\n",
       "      <td>45.368624</td>\n",
       "    </tr>\n",
       "    <tr>\n",
       "      <th>14</th>\n",
       "      <td>67.0</td>\n",
       "      <td>65.796036</td>\n",
       "    </tr>\n",
       "    <tr>\n",
       "      <th>15</th>\n",
       "      <td>24.0</td>\n",
       "      <td>27.801050</td>\n",
       "    </tr>\n",
       "    <tr>\n",
       "      <th>16</th>\n",
       "      <td>91.0</td>\n",
       "      <td>75.056462</td>\n",
       "    </tr>\n",
       "    <tr>\n",
       "      <th>17</th>\n",
       "      <td>52.0</td>\n",
       "      <td>65.796036</td>\n",
       "    </tr>\n",
       "    <tr>\n",
       "      <th>18</th>\n",
       "      <td>2.0</td>\n",
       "      <td>2.743425</td>\n",
       "    </tr>\n",
       "    <tr>\n",
       "      <th>19</th>\n",
       "      <td>26.0</td>\n",
       "      <td>29.026694</td>\n",
       "    </tr>\n",
       "    <tr>\n",
       "      <th>20</th>\n",
       "      <td>47.0</td>\n",
       "      <td>42.100238</td>\n",
       "    </tr>\n",
       "    <tr>\n",
       "      <th>21</th>\n",
       "      <td>10.0</td>\n",
       "      <td>7.918369</td>\n",
       "    </tr>\n",
       "    <tr>\n",
       "      <th>22</th>\n",
       "      <td>10.0</td>\n",
       "      <td>9.824927</td>\n",
       "    </tr>\n",
       "    <tr>\n",
       "      <th>23</th>\n",
       "      <td>7.0</td>\n",
       "      <td>12.003851</td>\n",
       "    </tr>\n",
       "    <tr>\n",
       "      <th>24</th>\n",
       "      <td>40.0</td>\n",
       "      <td>42.372603</td>\n",
       "    </tr>\n",
       "    <tr>\n",
       "      <th>25</th>\n",
       "      <td>50.0</td>\n",
       "      <td>74.647914</td>\n",
       "    </tr>\n",
       "    <tr>\n",
       "      <th>26</th>\n",
       "      <td>25.0</td>\n",
       "      <td>18.404440</td>\n",
       "    </tr>\n",
       "    <tr>\n",
       "      <th>27</th>\n",
       "      <td>64.0</td>\n",
       "      <td>76.554472</td>\n",
       "    </tr>\n",
       "    <tr>\n",
       "      <th>28</th>\n",
       "      <td>1.0</td>\n",
       "      <td>-0.252596</td>\n",
       "    </tr>\n",
       "    <tr>\n",
       "      <th>29</th>\n",
       "      <td>1.0</td>\n",
       "      <td>1.109232</td>\n",
       "    </tr>\n",
       "  </tbody>\n",
       "</table>\n",
       "</div>"
      ],
      "text/plain": [
       "    Actual  Predicted\n",
       "0     52.0  56.535609\n",
       "1     88.0  74.784097\n",
       "2      7.0   9.688745\n",
       "3     41.0  42.236421\n",
       "4     65.0  59.803995\n",
       "5     29.0  38.831852\n",
       "6     23.0  24.941212\n",
       "7     28.0  27.664867\n",
       "8      3.0   1.790145\n",
       "9     24.0  20.310999\n",
       "10     9.0   5.875628\n",
       "11     1.0  -1.205875\n",
       "12     6.0   4.922349\n",
       "13    53.0  45.368624\n",
       "14    67.0  65.796036\n",
       "15    24.0  27.801050\n",
       "16    91.0  75.056462\n",
       "17    52.0  65.796036\n",
       "18     2.0   2.743425\n",
       "19    26.0  29.026694\n",
       "20    47.0  42.100238\n",
       "21    10.0   7.918369\n",
       "22    10.0   9.824927\n",
       "23     7.0  12.003851\n",
       "24    40.0  42.372603\n",
       "25    50.0  74.647914\n",
       "26    25.0  18.404440\n",
       "27    64.0  76.554472\n",
       "28     1.0  -0.252596\n",
       "29     1.0   1.109232"
      ]
     },
     "execution_count": 82,
     "metadata": {},
     "output_type": "execute_result"
    }
   ],
   "source": [
    "# Create a dataframe comparing the actual and predicted values of y.\n",
    "\n",
    "data = pd.DataFrame({'Actual': y2_test.flatten(), 'Predicted': y2_predicted.flatten()})\n",
    "data.head(30)"
   ]
  },
  {
   "cell_type": "markdown",
   "id": "97fabd84",
   "metadata": {},
   "source": [
    "##### Compare how the regression fits the training set"
   ]
  },
  {
   "cell_type": "code",
   "execution_count": 83,
   "id": "737e0b76",
   "metadata": {},
   "outputs": [],
   "source": [
    "# Predict.\n",
    "\n",
    "y2_predicted_train = regression2.predict(X2_train) # This is predicting X_train!"
   ]
  },
  {
   "cell_type": "code",
   "execution_count": 84,
   "id": "3ab03e1e",
   "metadata": {},
   "outputs": [],
   "source": [
    "rmse = mean_squared_error(y2_train, y2_predicted_train)\n",
    "r2 = r2_score(y2_train, y2_predicted_train)"
   ]
  },
  {
   "cell_type": "code",
   "execution_count": 85,
   "id": "fc8196df",
   "metadata": {},
   "outputs": [
    {
     "name": "stdout",
     "output_type": "stream",
     "text": [
      "Slope: [[0.13618274]]\n",
      "Mean squared error:  110.03094064672283\n",
      "R2 score:  0.8790511142051426\n"
     ]
    }
   ],
   "source": [
    "print('Slope:' ,regression2.coef_)\n",
    "print('Mean squared error: ', rmse)\n",
    "print('R2 score: ', r2)"
   ]
  },
  {
   "cell_type": "markdown",
   "id": "b2a69110",
   "metadata": {},
   "source": [
    "### R2 score:  0.87 - Strong positive correlation\n",
    "\n",
    "#### The R2 scores of both the training and test set are almost identical.\n",
    "#### The MSE score makes sense. \n",
    "#### The actual and predicted values are very close in a lot of cases."
   ]
  },
  {
   "cell_type": "code",
   "execution_count": 259,
   "id": "c719209f",
   "metadata": {},
   "outputs": [
    {
     "data": {
      "image/png": "[encoded data removed]",
      "text/plain": [
       "<Figure size 432x288 with 1 Axes>"
      ]
     },
     "metadata": {
      "needs_background": "light"
     },
     "output_type": "display_data"
    }
   ],
   "source": [
    "# Visualizing the training set results.\n",
    "\n",
    "plot_test = plt\n",
    "plot_test.scatter(X2_train, y2_train, color='green', s = 15)\n",
    "plot_test.plot(X2_train, y2_predicted_train, color='red', linewidth =3)\n",
    "plot_test.title('Plate Appearances vs Runs (Test set)')\n",
    "plot_test.xlabel('Plate Appearances')\n",
    "plot_test.ylabel('Runs')\n",
    "plot_test.show()"
   ]
  },
  {
   "cell_type": "markdown",
   "id": "1c461a13",
   "metadata": {},
   "source": [
    "#### On Base Percentage & Runs"
   ]
  },
  {
   "cell_type": "code",
   "execution_count": 87,
   "id": "958f56b4",
   "metadata": {},
   "outputs": [
    {
     "data": {
      "image/png": "[encoded data removed]",
      "text/plain": [
       "<Figure size 432x288 with 1 Axes>"
      ]
     },
     "metadata": {
      "needs_background": "light"
     },
     "output_type": "display_data"
    }
   ],
   "source": [
    "# on base percentage & runs\n",
    "\n",
    "bb.plot(x = 'On Base Percentage', y='Runs',style='o') # The style option creates a scatterplot; without it, we only have lines.\n",
    "plt.title('On Base Percentage vs. Runs')  \n",
    "plt.xlabel('On Base Percentage')  \n",
    "plt.ylabel('Runs')  \n",
    "plt.show()"
   ]
  },
  {
   "cell_type": "code",
   "execution_count": 88,
   "id": "f0670bf4",
   "metadata": {},
   "outputs": [],
   "source": [
    "# Reshape the variables into NumPy arrays and put them into separate objects.\n",
    "\n",
    "X3 = bb['On Base Percentage'].values.reshape(-1,1)\n",
    "y3 = bb['Runs'].values.reshape(-1,1)"
   ]
  },
  {
   "cell_type": "code",
   "execution_count": 89,
   "id": "d960d1f3",
   "metadata": {},
   "outputs": [
    {
     "data": {
      "text/plain": [
       "array([[0.322],\n",
       "       [0.366],\n",
       "       [0.365],\n",
       "       ...,\n",
       "       [0.363],\n",
       "       [0.366],\n",
       "       [0.175]])"
      ]
     },
     "execution_count": 89,
     "metadata": {},
     "output_type": "execute_result"
    }
   ],
   "source": [
    "X3"
   ]
  },
  {
   "cell_type": "code",
   "execution_count": 90,
   "id": "18db7f2f",
   "metadata": {},
   "outputs": [
    {
     "data": {
      "text/plain": [
       "array([[ 58.],\n",
       "       [105.],\n",
       "       [106.],\n",
       "       ...,\n",
       "       [ 91.],\n",
       "       [ 65.],\n",
       "       [  4.]])"
      ]
     },
     "execution_count": 90,
     "metadata": {},
     "output_type": "execute_result"
    }
   ],
   "source": [
    "y3"
   ]
  },
  {
   "cell_type": "code",
   "execution_count": 91,
   "id": "0a8fca46",
   "metadata": {},
   "outputs": [],
   "source": [
    "# Split data into a training set and a test set.\n",
    "\n",
    "X3_train, X3_test, y3_train, y3_test = train_test_split(X3, y3, test_size=0.3, random_state=0)"
   ]
  },
  {
   "cell_type": "markdown",
   "id": "3f2f7368",
   "metadata": {},
   "source": [
    "### Regression analysis"
   ]
  },
  {
   "cell_type": "code",
   "execution_count": 92,
   "id": "5f022d0f",
   "metadata": {},
   "outputs": [],
   "source": [
    "# Create a regression object.\n",
    "\n",
    "regression3 = LinearRegression()  # This is the regression object, which will be fit onto the training set."
   ]
  },
  {
   "cell_type": "code",
   "execution_count": 93,
   "id": "5fe9a08d",
   "metadata": {},
   "outputs": [
    {
     "data": {
      "text/plain": [
       "LinearRegression()"
      ]
     },
     "execution_count": 93,
     "metadata": {},
     "output_type": "execute_result"
    }
   ],
   "source": [
    "# Fit the regression object onto the training set.\n",
    "\n",
    "regression3.fit(X3_train, y3_train)"
   ]
  },
  {
   "cell_type": "code",
   "execution_count": 94,
   "id": "47e37189",
   "metadata": {},
   "outputs": [],
   "source": [
    "# Predict the values of y using X. \n",
    "\n",
    "y3_predicted = regression3.predict(X3_test) "
   ]
  },
  {
   "cell_type": "code",
   "execution_count": 95,
   "id": "0aaee153",
   "metadata": {},
   "outputs": [
    {
     "data": {
      "image/png": "[encoded data removed]",
      "text/plain": [
       "<Figure size 432x288 with 1 Axes>"
      ]
     },
     "metadata": {
      "needs_background": "light"
     },
     "output_type": "display_data"
    }
   ],
   "source": [
    "# Create a plot that shows the regression line from the model on the test set.\n",
    "\n",
    "plot_test = plt\n",
    "plot_test.scatter(X3_test, y3_test, color='gray', s = 15)\n",
    "plot_test.plot(X3_test, y3_predicted, color='red', linewidth =3)\n",
    "plot_test.title('On Base Percentage vs Runs (Test set)')\n",
    "plot_test.xlabel('On Base Percentage')\n",
    "plot_test.ylabel('Runs')\n",
    "plot_test.show()"
   ]
  },
  {
   "cell_type": "markdown",
   "id": "c3f5a461",
   "metadata": {},
   "source": [
    "#### The line does not really fit the data. \n",
    "#### The data has a bell curve shape"
   ]
  },
  {
   "cell_type": "code",
   "execution_count": 96,
   "id": "488aa7b6",
   "metadata": {},
   "outputs": [],
   "source": [
    "# Create objects that contain the model summary statistics.\n",
    "\n",
    "rmse = mean_squared_error(y3_test, y3_predicted) # This is the mean squared error\n",
    "r2 = r2_score(y3_test, y3_predicted) # This is the R2 score. "
   ]
  },
  {
   "cell_type": "code",
   "execution_count": 97,
   "id": "066b5815",
   "metadata": {},
   "outputs": [
    {
     "name": "stdout",
     "output_type": "stream",
     "text": [
      "Slope: [[134.12427835]]\n",
      "Mean squared error:  786.3461505702022\n",
      "R2 score:  0.1423499016659906\n"
     ]
    }
   ],
   "source": [
    "# Print the model summary statistics. This is where you evaluate the performance of the model.\n",
    "\n",
    "print('Slope:' ,regression3.coef_)\n",
    "print('Mean squared error: ', rmse)\n",
    "print('R2 score: ', r2)"
   ]
  },
  {
   "cell_type": "code",
   "execution_count": 91,
   "id": "59b5aca3",
   "metadata": {},
   "outputs": [
    {
     "data": {
      "text/plain": [
       "array([[38.74202728],\n",
       "       [46.52123542],\n",
       "       [48.5330996 ],\n",
       "       ...,\n",
       "       [37.80315733],\n",
       "       [44.7776198 ],\n",
       "       [19.96462831]])"
      ]
     },
     "execution_count": 91,
     "metadata": {},
     "output_type": "execute_result"
    }
   ],
   "source": [
    "y3_predicted"
   ]
  },
  {
   "cell_type": "code",
   "execution_count": 92,
   "id": "56a61b28",
   "metadata": {
    "scrolled": true
   },
   "outputs": [
    {
     "data": {
      "text/html": [
       "<div>\n",
       "<style scoped>\n",
       "    .dataframe tbody tr th:only-of-type {\n",
       "        vertical-align: middle;\n",
       "    }\n",
       "\n",
       "    .dataframe tbody tr th {\n",
       "        vertical-align: top;\n",
       "    }\n",
       "\n",
       "    .dataframe thead th {\n",
       "        text-align: right;\n",
       "    }\n",
       "</style>\n",
       "<table border=\"1\" class=\"dataframe\">\n",
       "  <thead>\n",
       "    <tr style=\"text-align: right;\">\n",
       "      <th></th>\n",
       "      <th>Actual</th>\n",
       "      <th>Predicted</th>\n",
       "    </tr>\n",
       "  </thead>\n",
       "  <tbody>\n",
       "    <tr>\n",
       "      <th>0</th>\n",
       "      <td>52.0</td>\n",
       "      <td>38.742027</td>\n",
       "    </tr>\n",
       "    <tr>\n",
       "      <th>1</th>\n",
       "      <td>88.0</td>\n",
       "      <td>46.521235</td>\n",
       "    </tr>\n",
       "    <tr>\n",
       "      <th>2</th>\n",
       "      <td>7.0</td>\n",
       "      <td>48.533100</td>\n",
       "    </tr>\n",
       "    <tr>\n",
       "      <th>3</th>\n",
       "      <td>41.0</td>\n",
       "      <td>37.400784</td>\n",
       "    </tr>\n",
       "    <tr>\n",
       "      <th>4</th>\n",
       "      <td>65.0</td>\n",
       "      <td>42.363383</td>\n",
       "    </tr>\n",
       "    <tr>\n",
       "      <th>5</th>\n",
       "      <td>29.0</td>\n",
       "      <td>40.485643</td>\n",
       "    </tr>\n",
       "    <tr>\n",
       "      <th>6</th>\n",
       "      <td>23.0</td>\n",
       "      <td>35.925417</td>\n",
       "    </tr>\n",
       "    <tr>\n",
       "      <th>7</th>\n",
       "      <td>28.0</td>\n",
       "      <td>32.706435</td>\n",
       "    </tr>\n",
       "    <tr>\n",
       "      <th>8</th>\n",
       "      <td>3.0</td>\n",
       "      <td>25.597848</td>\n",
       "    </tr>\n",
       "    <tr>\n",
       "      <th>9</th>\n",
       "      <td>24.0</td>\n",
       "      <td>29.755701</td>\n",
       "    </tr>\n",
       "    <tr>\n",
       "      <th>10</th>\n",
       "      <td>9.0</td>\n",
       "      <td>43.436377</td>\n",
       "    </tr>\n",
       "    <tr>\n",
       "      <th>11</th>\n",
       "      <td>1.0</td>\n",
       "      <td>49.069597</td>\n",
       "    </tr>\n",
       "    <tr>\n",
       "      <th>12</th>\n",
       "      <td>6.0</td>\n",
       "      <td>28.414458</td>\n",
       "    </tr>\n",
       "    <tr>\n",
       "      <th>13</th>\n",
       "      <td>53.0</td>\n",
       "      <td>39.680897</td>\n",
       "    </tr>\n",
       "    <tr>\n",
       "      <th>14</th>\n",
       "      <td>67.0</td>\n",
       "      <td>38.205530</td>\n",
       "    </tr>\n",
       "    <tr>\n",
       "      <th>15</th>\n",
       "      <td>24.0</td>\n",
       "      <td>45.045868</td>\n",
       "    </tr>\n",
       "    <tr>\n",
       "      <th>16</th>\n",
       "      <td>91.0</td>\n",
       "      <td>42.765756</td>\n",
       "    </tr>\n",
       "    <tr>\n",
       "      <th>17</th>\n",
       "      <td>52.0</td>\n",
       "      <td>35.120672</td>\n",
       "    </tr>\n",
       "    <tr>\n",
       "      <th>18</th>\n",
       "      <td>2.0</td>\n",
       "      <td>38.876152</td>\n",
       "    </tr>\n",
       "    <tr>\n",
       "      <th>19</th>\n",
       "      <td>26.0</td>\n",
       "      <td>32.974683</td>\n",
       "    </tr>\n",
       "    <tr>\n",
       "      <th>20</th>\n",
       "      <td>47.0</td>\n",
       "      <td>31.096943</td>\n",
       "    </tr>\n",
       "    <tr>\n",
       "      <th>21</th>\n",
       "      <td>10.0</td>\n",
       "      <td>40.619767</td>\n",
       "    </tr>\n",
       "    <tr>\n",
       "      <th>22</th>\n",
       "      <td>10.0</td>\n",
       "      <td>26.268469</td>\n",
       "    </tr>\n",
       "    <tr>\n",
       "      <th>23</th>\n",
       "      <td>7.0</td>\n",
       "      <td>34.181802</td>\n",
       "    </tr>\n",
       "    <tr>\n",
       "      <th>24</th>\n",
       "      <td>40.0</td>\n",
       "      <td>39.680897</td>\n",
       "    </tr>\n",
       "    <tr>\n",
       "      <th>25</th>\n",
       "      <td>50.0</td>\n",
       "      <td>44.241123</td>\n",
       "    </tr>\n",
       "    <tr>\n",
       "      <th>26</th>\n",
       "      <td>25.0</td>\n",
       "      <td>37.803157</td>\n",
       "    </tr>\n",
       "    <tr>\n",
       "      <th>27</th>\n",
       "      <td>64.0</td>\n",
       "      <td>37.266660</td>\n",
       "    </tr>\n",
       "    <tr>\n",
       "      <th>28</th>\n",
       "      <td>1.0</td>\n",
       "      <td>21.439995</td>\n",
       "    </tr>\n",
       "    <tr>\n",
       "      <th>29</th>\n",
       "      <td>1.0</td>\n",
       "      <td>20.903498</td>\n",
       "    </tr>\n",
       "  </tbody>\n",
       "</table>\n",
       "</div>"
      ],
      "text/plain": [
       "    Actual  Predicted\n",
       "0     52.0  38.742027\n",
       "1     88.0  46.521235\n",
       "2      7.0  48.533100\n",
       "3     41.0  37.400784\n",
       "4     65.0  42.363383\n",
       "5     29.0  40.485643\n",
       "6     23.0  35.925417\n",
       "7     28.0  32.706435\n",
       "8      3.0  25.597848\n",
       "9     24.0  29.755701\n",
       "10     9.0  43.436377\n",
       "11     1.0  49.069597\n",
       "12     6.0  28.414458\n",
       "13    53.0  39.680897\n",
       "14    67.0  38.205530\n",
       "15    24.0  45.045868\n",
       "16    91.0  42.765756\n",
       "17    52.0  35.120672\n",
       "18     2.0  38.876152\n",
       "19    26.0  32.974683\n",
       "20    47.0  31.096943\n",
       "21    10.0  40.619767\n",
       "22    10.0  26.268469\n",
       "23     7.0  34.181802\n",
       "24    40.0  39.680897\n",
       "25    50.0  44.241123\n",
       "26    25.0  37.803157\n",
       "27    64.0  37.266660\n",
       "28     1.0  21.439995\n",
       "29     1.0  20.903498"
      ]
     },
     "execution_count": 92,
     "metadata": {},
     "output_type": "execute_result"
    }
   ],
   "source": [
    "# Create a dataframe comparing the actual and predicted values of y.\n",
    "\n",
    "data = pd.DataFrame({'Actual': y3_test.flatten(), 'Predicted': y3_predicted.flatten()})\n",
    "data.head(30)"
   ]
  },
  {
   "cell_type": "markdown",
   "id": "2b995bea",
   "metadata": {},
   "source": [
    "##### Compare how the regression fits the training set"
   ]
  },
  {
   "cell_type": "code",
   "execution_count": 98,
   "id": "a3cdfc41",
   "metadata": {},
   "outputs": [],
   "source": [
    "# Predict.\n",
    "\n",
    "y3_predicted_train = regression3.predict(X3_train) # This is predicting X_train!"
   ]
  },
  {
   "cell_type": "code",
   "execution_count": 99,
   "id": "275d0778",
   "metadata": {},
   "outputs": [],
   "source": [
    "rmse = mean_squared_error(y3_train, y3_predicted_train)\n",
    "r2 = r2_score(y3_train, y3_predicted_train)"
   ]
  },
  {
   "cell_type": "code",
   "execution_count": 100,
   "id": "8832bbe9",
   "metadata": {},
   "outputs": [
    {
     "name": "stdout",
     "output_type": "stream",
     "text": [
      "Slope: [[134.12427835]]\n",
      "Mean squared error:  778.5721127392586\n",
      "R2 score:  0.14417318443995208\n"
     ]
    }
   ],
   "source": [
    "print('Slope:' ,regression3.coef_)\n",
    "print('Mean squared error: ', rmse)\n",
    "print('R2 score: ', r2)"
   ]
  },
  {
   "cell_type": "markdown",
   "id": "10742ecf",
   "metadata": {},
   "source": [
    "### R2 score:  0.14 - Very weak positive correlation\n",
    "\n",
    "#### The model and test has similar R2 scores.\n",
    "#### The actual and predicted values were not close at all"
   ]
  },
  {
   "cell_type": "code",
   "execution_count": 101,
   "id": "77dc9b79",
   "metadata": {
    "scrolled": true
   },
   "outputs": [
    {
     "data": {
      "image/png": "[encoded data removed]",
      "text/plain": [
       "<Figure size 432x288 with 1 Axes>"
      ]
     },
     "metadata": {
      "needs_background": "light"
     },
     "output_type": "display_data"
    }
   ],
   "source": [
    "# Visualizing the training set results.\n",
    "\n",
    "plot_test = plt\n",
    "plot_test.scatter(X3_train, y3_train, color='green', s = 15)\n",
    "plot_test.plot(X3_train, y3_predicted_train, color='red', linewidth =3)\n",
    "plot_test.title('On Base Percentage vs Runs (Test set)')\n",
    "plot_test.xlabel('On Base Percentage')\n",
    "plot_test.ylabel('Runs')\n",
    "plot_test.show()"
   ]
  },
  {
   "cell_type": "markdown",
   "id": "6f094a59",
   "metadata": {},
   "source": [
    "#### Batting Average & Runs"
   ]
  },
  {
   "cell_type": "code",
   "execution_count": 102,
   "id": "5446fa39",
   "metadata": {},
   "outputs": [
    {
     "data": {
      "image/png": "[encoded data removed]",
      "text/plain": [
       "<Figure size 432x288 with 1 Axes>"
      ]
     },
     "metadata": {
      "needs_background": "light"
     },
     "output_type": "display_data"
    }
   ],
   "source": [
    "# batting average & runs\n",
    "\n",
    "bb.plot(x = 'Batting Average', y='Runs',style='o') # The style option creates a scatterplot; without it, we only have lines.\n",
    "plt.title('Batting Average vs. Runs')  \n",
    "plt.xlabel('Batting Average')  \n",
    "plt.ylabel('Runs')  \n",
    "plt.show()"
   ]
  },
  {
   "cell_type": "code",
   "execution_count": 103,
   "id": "f236e464",
   "metadata": {},
   "outputs": [],
   "source": [
    "# Reshape the variables into NumPy arrays and put them into separate objects.\n",
    "\n",
    "X4 = bb['Batting Average'].values.reshape(-1,1)\n",
    "y4 = bb['Runs'].values.reshape(-1,1)"
   ]
  },
  {
   "cell_type": "code",
   "execution_count": 104,
   "id": "e7c1e8d4",
   "metadata": {},
   "outputs": [
    {
     "data": {
      "text/plain": [
       "array([[0.28 ],\n",
       "       [0.314],\n",
       "       [0.328],\n",
       "       ...,\n",
       "       [0.313],\n",
       "       [0.286],\n",
       "       [0.113]])"
      ]
     },
     "execution_count": 104,
     "metadata": {},
     "output_type": "execute_result"
    }
   ],
   "source": [
    "X4"
   ]
  },
  {
   "cell_type": "code",
   "execution_count": 105,
   "id": "cdc6187a",
   "metadata": {},
   "outputs": [
    {
     "data": {
      "text/plain": [
       "array([[ 58.],\n",
       "       [105.],\n",
       "       [106.],\n",
       "       ...,\n",
       "       [ 91.],\n",
       "       [ 65.],\n",
       "       [  4.]])"
      ]
     },
     "execution_count": 105,
     "metadata": {},
     "output_type": "execute_result"
    }
   ],
   "source": [
    "y4"
   ]
  },
  {
   "cell_type": "code",
   "execution_count": 106,
   "id": "957a1efe",
   "metadata": {},
   "outputs": [],
   "source": [
    "# Split data into a training set and a test set.\n",
    "\n",
    "X4_train, X4_test, y4_train, y4_test = train_test_split(X4, y4, test_size=0.3, random_state=0)"
   ]
  },
  {
   "cell_type": "markdown",
   "id": "0f84d461",
   "metadata": {},
   "source": [
    "### Regression analysis"
   ]
  },
  {
   "cell_type": "code",
   "execution_count": 107,
   "id": "c16675ef",
   "metadata": {},
   "outputs": [],
   "source": [
    "# Create a regression object.\n",
    "\n",
    "regression4 = LinearRegression()  # This is the regression object, which will be fit onto the training set."
   ]
  },
  {
   "cell_type": "code",
   "execution_count": 108,
   "id": "4b6b5877",
   "metadata": {},
   "outputs": [
    {
     "data": {
      "text/plain": [
       "LinearRegression()"
      ]
     },
     "execution_count": 108,
     "metadata": {},
     "output_type": "execute_result"
    }
   ],
   "source": [
    "# Fit the regression object onto the training set.\n",
    "\n",
    "regression4.fit(X4_train, y4_train)"
   ]
  },
  {
   "cell_type": "code",
   "execution_count": 109,
   "id": "0007bc9d",
   "metadata": {},
   "outputs": [],
   "source": [
    "# Predict the values of y using X.\n",
    "\n",
    "y4_predicted = regression4.predict(X4_test)"
   ]
  },
  {
   "cell_type": "code",
   "execution_count": 119,
   "id": "2eab41d5",
   "metadata": {},
   "outputs": [
    {
     "data": {
      "image/png": "[encoded data removed]",
      "text/plain": [
       "<Figure size 432x288 with 1 Axes>"
      ]
     },
     "metadata": {
      "needs_background": "light"
     },
     "output_type": "display_data"
    }
   ],
   "source": [
    "# Create a plot that shows the regression line from the model on the test set.\n",
    "\n",
    "plot_test = plt\n",
    "plot_test.scatter(X4_test, y4_test, color='gray', s = 15)\n",
    "plot_test.plot(X4_test, y4_predicted, color='red', linewidth =3)\n",
    "plot_test.title('Batting Average vs Runs (Test set)')\n",
    "plot_test.xlabel('Batting Average')\n",
    "plot_test.ylabel('Runs')\n",
    "plot_test.show()"
   ]
  },
  {
   "cell_type": "markdown",
   "id": "7e82136f",
   "metadata": {},
   "source": [
    "#### The line does not really fit the test set\n",
    "#### The plot has a bell curve shape"
   ]
  },
  {
   "cell_type": "code",
   "execution_count": 120,
   "id": "80f8e0e9",
   "metadata": {},
   "outputs": [],
   "source": [
    "# Create objects that contain the model summary statistics.\n",
    "\n",
    "rmse = mean_squared_error(y4_test, y4_predicted) # This is the mean squared error\n",
    "r2 = r2_score(y4_test, y4_predicted) # This is the R2 score. "
   ]
  },
  {
   "cell_type": "code",
   "execution_count": 121,
   "id": "3a7f9736",
   "metadata": {},
   "outputs": [
    {
     "name": "stdout",
     "output_type": "stream",
     "text": [
      "Slope: [[140.44062551]]\n",
      "Mean squared error:  800.4533851531869\n",
      "R2 score:  0.12696345751726001\n"
     ]
    }
   ],
   "source": [
    "# Print the model summary statistics. This is where you evaluate the performance of the model.\n",
    "\n",
    "print('Slope:' ,regression4.coef_)\n",
    "print('Mean squared error: ', rmse)\n",
    "print('R2 score: ', r2)"
   ]
  },
  {
   "cell_type": "code",
   "execution_count": 122,
   "id": "8a2ce39f",
   "metadata": {},
   "outputs": [
    {
     "data": {
      "text/plain": [
       "array([[43.52504311],\n",
       "       [45.49121186],\n",
       "       [37.48609621],\n",
       "       ...,\n",
       "       [35.66036808],\n",
       "       [44.92944936],\n",
       "       [22.45894928]])"
      ]
     },
     "execution_count": 122,
     "metadata": {},
     "output_type": "execute_result"
    }
   ],
   "source": [
    "y4_predicted"
   ]
  },
  {
   "cell_type": "code",
   "execution_count": 123,
   "id": "f49e6577",
   "metadata": {
    "scrolled": true
   },
   "outputs": [
    {
     "data": {
      "text/html": [
       "<div>\n",
       "<style scoped>\n",
       "    .dataframe tbody tr th:only-of-type {\n",
       "        vertical-align: middle;\n",
       "    }\n",
       "\n",
       "    .dataframe tbody tr th {\n",
       "        vertical-align: top;\n",
       "    }\n",
       "\n",
       "    .dataframe thead th {\n",
       "        text-align: right;\n",
       "    }\n",
       "</style>\n",
       "<table border=\"1\" class=\"dataframe\">\n",
       "  <thead>\n",
       "    <tr style=\"text-align: right;\">\n",
       "      <th></th>\n",
       "      <th>Actual</th>\n",
       "      <th>Predicted</th>\n",
       "    </tr>\n",
       "  </thead>\n",
       "  <tbody>\n",
       "    <tr>\n",
       "      <th>0</th>\n",
       "      <td>52.0</td>\n",
       "      <td>43.525043</td>\n",
       "    </tr>\n",
       "    <tr>\n",
       "      <th>1</th>\n",
       "      <td>88.0</td>\n",
       "      <td>45.491212</td>\n",
       "    </tr>\n",
       "    <tr>\n",
       "      <th>2</th>\n",
       "      <td>7.0</td>\n",
       "      <td>37.486096</td>\n",
       "    </tr>\n",
       "    <tr>\n",
       "      <th>3</th>\n",
       "      <td>41.0</td>\n",
       "      <td>35.519927</td>\n",
       "    </tr>\n",
       "    <tr>\n",
       "      <th>4</th>\n",
       "      <td>65.0</td>\n",
       "      <td>37.907418</td>\n",
       "    </tr>\n",
       "    <tr>\n",
       "      <th>5</th>\n",
       "      <td>29.0</td>\n",
       "      <td>33.132437</td>\n",
       "    </tr>\n",
       "    <tr>\n",
       "      <th>6</th>\n",
       "      <td>23.0</td>\n",
       "      <td>40.154468</td>\n",
       "    </tr>\n",
       "    <tr>\n",
       "      <th>7</th>\n",
       "      <td>28.0</td>\n",
       "      <td>33.132437</td>\n",
       "    </tr>\n",
       "    <tr>\n",
       "      <th>8</th>\n",
       "      <td>3.0</td>\n",
       "      <td>11.223699</td>\n",
       "    </tr>\n",
       "    <tr>\n",
       "      <th>9</th>\n",
       "      <td>24.0</td>\n",
       "      <td>35.239046</td>\n",
       "    </tr>\n",
       "    <tr>\n",
       "      <th>10</th>\n",
       "      <td>9.0</td>\n",
       "      <td>48.440465</td>\n",
       "    </tr>\n",
       "    <tr>\n",
       "      <th>11</th>\n",
       "      <td>1.0</td>\n",
       "      <td>42.963281</td>\n",
       "    </tr>\n",
       "    <tr>\n",
       "      <th>12</th>\n",
       "      <td>6.0</td>\n",
       "      <td>32.570674</td>\n",
       "    </tr>\n",
       "    <tr>\n",
       "      <th>13</th>\n",
       "      <td>53.0</td>\n",
       "      <td>33.132437</td>\n",
       "    </tr>\n",
       "    <tr>\n",
       "      <th>14</th>\n",
       "      <td>67.0</td>\n",
       "      <td>41.418434</td>\n",
       "    </tr>\n",
       "    <tr>\n",
       "      <th>15</th>\n",
       "      <td>24.0</td>\n",
       "      <td>42.822840</td>\n",
       "    </tr>\n",
       "    <tr>\n",
       "      <th>16</th>\n",
       "      <td>91.0</td>\n",
       "      <td>47.457381</td>\n",
       "    </tr>\n",
       "    <tr>\n",
       "      <th>17</th>\n",
       "      <td>52.0</td>\n",
       "      <td>38.328740</td>\n",
       "    </tr>\n",
       "    <tr>\n",
       "      <th>18</th>\n",
       "      <td>2.0</td>\n",
       "      <td>41.418434</td>\n",
       "    </tr>\n",
       "    <tr>\n",
       "      <th>19</th>\n",
       "      <td>26.0</td>\n",
       "      <td>39.592706</td>\n",
       "    </tr>\n",
       "    <tr>\n",
       "      <th>20</th>\n",
       "      <td>47.0</td>\n",
       "      <td>30.885387</td>\n",
       "    </tr>\n",
       "    <tr>\n",
       "      <th>21</th>\n",
       "      <td>10.0</td>\n",
       "      <td>40.435349</td>\n",
       "    </tr>\n",
       "    <tr>\n",
       "      <th>22</th>\n",
       "      <td>10.0</td>\n",
       "      <td>33.975081</td>\n",
       "    </tr>\n",
       "    <tr>\n",
       "      <th>23</th>\n",
       "      <td>7.0</td>\n",
       "      <td>29.200099</td>\n",
       "    </tr>\n",
       "    <tr>\n",
       "      <th>24</th>\n",
       "      <td>40.0</td>\n",
       "      <td>38.188299</td>\n",
       "    </tr>\n",
       "    <tr>\n",
       "      <th>25</th>\n",
       "      <td>50.0</td>\n",
       "      <td>42.541959</td>\n",
       "    </tr>\n",
       "    <tr>\n",
       "      <th>26</th>\n",
       "      <td>25.0</td>\n",
       "      <td>43.103721</td>\n",
       "    </tr>\n",
       "    <tr>\n",
       "      <th>27</th>\n",
       "      <td>64.0</td>\n",
       "      <td>38.609621</td>\n",
       "    </tr>\n",
       "    <tr>\n",
       "      <th>28</th>\n",
       "      <td>1.0</td>\n",
       "      <td>30.464065</td>\n",
       "    </tr>\n",
       "    <tr>\n",
       "      <th>29</th>\n",
       "      <td>1.0</td>\n",
       "      <td>16.981765</td>\n",
       "    </tr>\n",
       "  </tbody>\n",
       "</table>\n",
       "</div>"
      ],
      "text/plain": [
       "    Actual  Predicted\n",
       "0     52.0  43.525043\n",
       "1     88.0  45.491212\n",
       "2      7.0  37.486096\n",
       "3     41.0  35.519927\n",
       "4     65.0  37.907418\n",
       "5     29.0  33.132437\n",
       "6     23.0  40.154468\n",
       "7     28.0  33.132437\n",
       "8      3.0  11.223699\n",
       "9     24.0  35.239046\n",
       "10     9.0  48.440465\n",
       "11     1.0  42.963281\n",
       "12     6.0  32.570674\n",
       "13    53.0  33.132437\n",
       "14    67.0  41.418434\n",
       "15    24.0  42.822840\n",
       "16    91.0  47.457381\n",
       "17    52.0  38.328740\n",
       "18     2.0  41.418434\n",
       "19    26.0  39.592706\n",
       "20    47.0  30.885387\n",
       "21    10.0  40.435349\n",
       "22    10.0  33.975081\n",
       "23     7.0  29.200099\n",
       "24    40.0  38.188299\n",
       "25    50.0  42.541959\n",
       "26    25.0  43.103721\n",
       "27    64.0  38.609621\n",
       "28     1.0  30.464065\n",
       "29     1.0  16.981765"
      ]
     },
     "execution_count": 123,
     "metadata": {},
     "output_type": "execute_result"
    }
   ],
   "source": [
    "# Create a dataframe comparing the actual and predicted values of y.\n",
    "\n",
    "data = pd.DataFrame({'Actual': y4_test.flatten(), 'Predicted': y4_predicted.flatten()})\n",
    "data.head(30)"
   ]
  },
  {
   "cell_type": "markdown",
   "id": "e767da23",
   "metadata": {},
   "source": [
    "##### Compare how the regression fits the training set"
   ]
  },
  {
   "cell_type": "code",
   "execution_count": 124,
   "id": "c5cf215d",
   "metadata": {},
   "outputs": [],
   "source": [
    "# Predict.\n",
    "\n",
    "y4_predicted_train = regression4.predict(X4_train) # This is predicting X_train!"
   ]
  },
  {
   "cell_type": "code",
   "execution_count": 125,
   "id": "601c436f",
   "metadata": {},
   "outputs": [],
   "source": [
    "rmse = mean_squared_error(y4_train, y4_predicted_train)\n",
    "r2 = r2_score(y4_train, y4_predicted_train)"
   ]
  },
  {
   "cell_type": "code",
   "execution_count": 126,
   "id": "509db092",
   "metadata": {},
   "outputs": [
    {
     "name": "stdout",
     "output_type": "stream",
     "text": [
      "Slope: [[140.44062551]]\n",
      "Mean squared error:  790.4680437385175\n",
      "R2 score:  0.1310968661662364\n"
     ]
    }
   ],
   "source": [
    "print('Slope:' ,regression4.coef_)\n",
    "print('Mean squared error: ', rmse)\n",
    "print('R2 score: ', r2)"
   ]
  },
  {
   "cell_type": "markdown",
   "id": "dcdca65b",
   "metadata": {},
   "source": [
    "#### R2 score:  0.13 - Very weak positive correlation"
   ]
  },
  {
   "cell_type": "code",
   "execution_count": 127,
   "id": "20123b88",
   "metadata": {
    "scrolled": true
   },
   "outputs": [
    {
     "data": {
      "image/png": "[encoded data removed]",
      "text/plain": [
       "<Figure size 432x288 with 1 Axes>"
      ]
     },
     "metadata": {
      "needs_background": "light"
     },
     "output_type": "display_data"
    }
   ],
   "source": [
    "# Visualizing the training set results.\n",
    "\n",
    "plot_test = plt\n",
    "plot_test.scatter(X4_train, y4_train, color='green', s = 15)\n",
    "plot_test.plot(X4_train, y4_predicted_train, color='red', linewidth =3)\n",
    "plot_test.title('Batting Average vs Runs (Test set)')\n",
    "plot_test.xlabel('Batting Average')\n",
    "plot_test.ylabel('Runs')\n",
    "plot_test.show()"
   ]
  },
  {
   "cell_type": "markdown",
   "id": "c9ad3d28",
   "metadata": {},
   "source": [
    "#### Total Bases & Runs"
   ]
  },
  {
   "cell_type": "code",
   "execution_count": 258,
   "id": "02d38b0f",
   "metadata": {},
   "outputs": [
    {
     "data": {
      "image/png": "[encoded data removed]",
      "text/plain": [
       "<Figure size 432x288 with 1 Axes>"
      ]
     },
     "metadata": {
      "needs_background": "light"
     },
     "output_type": "display_data"
    }
   ],
   "source": [
    "# total bases & runs\n",
    "\n",
    "bb.plot(x = 'Total Bases', y='Runs',style='o') # The style option creates a scatterplot; without it, we only have lines.\n",
    "plt.title('Total Bases vs. Runs')  \n",
    "plt.xlabel('Total Bases')  \n",
    "plt.ylabel('Runs')  \n",
    "plt.show()"
   ]
  },
  {
   "cell_type": "code",
   "execution_count": 129,
   "id": "02845fe1",
   "metadata": {},
   "outputs": [],
   "source": [
    "# Reshape the variables into NumPy arrays and put them into separate objects.\n",
    "\n",
    "X5 = bb['Total Bases'].values.reshape(-1,1)\n",
    "y5 = bb['Runs'].values.reshape(-1,1)"
   ]
  },
  {
   "cell_type": "code",
   "execution_count": 130,
   "id": "2eed691e",
   "metadata": {},
   "outputs": [
    {
     "data": {
      "text/plain": [
       "array([[209.],\n",
       "       [325.],\n",
       "       [340.],\n",
       "       ...,\n",
       "       [287.],\n",
       "       [242.],\n",
       "       [ 10.]])"
      ]
     },
     "execution_count": 130,
     "metadata": {},
     "output_type": "execute_result"
    }
   ],
   "source": [
    "X5"
   ]
  },
  {
   "cell_type": "code",
   "execution_count": 131,
   "id": "c9244571",
   "metadata": {},
   "outputs": [
    {
     "data": {
      "text/plain": [
       "array([[ 58.],\n",
       "       [105.],\n",
       "       [106.],\n",
       "       ...,\n",
       "       [ 91.],\n",
       "       [ 65.],\n",
       "       [  4.]])"
      ]
     },
     "execution_count": 131,
     "metadata": {},
     "output_type": "execute_result"
    }
   ],
   "source": [
    "y5"
   ]
  },
  {
   "cell_type": "code",
   "execution_count": 132,
   "id": "eab669d2",
   "metadata": {},
   "outputs": [],
   "source": [
    "# Split data into a training set and a test set.\n",
    "\n",
    "X5_train, X5_test, y5_train, y5_test = train_test_split(X5, y5, test_size=0.3, random_state=0)"
   ]
  },
  {
   "cell_type": "markdown",
   "id": "b315a15f",
   "metadata": {},
   "source": [
    "### Regression analysis"
   ]
  },
  {
   "cell_type": "code",
   "execution_count": 133,
   "id": "05f4790a",
   "metadata": {},
   "outputs": [],
   "source": [
    "# Create a regression object.\n",
    "\n",
    "regression5 = LinearRegression()  # This is the regression object, which will be fit onto the training set."
   ]
  },
  {
   "cell_type": "code",
   "execution_count": 134,
   "id": "fdd5d75c",
   "metadata": {},
   "outputs": [
    {
     "data": {
      "text/plain": [
       "LinearRegression()"
      ]
     },
     "execution_count": 134,
     "metadata": {},
     "output_type": "execute_result"
    }
   ],
   "source": [
    "# Fit the regression object onto the training set.\n",
    "\n",
    "regression5.fit(X5_train, y5_train)"
   ]
  },
  {
   "cell_type": "code",
   "execution_count": 135,
   "id": "b8920e2c",
   "metadata": {},
   "outputs": [],
   "source": [
    "# Predict the values of y using X.\n",
    "\n",
    "y5_predicted = regression5.predict(X5_test)"
   ]
  },
  {
   "cell_type": "code",
   "execution_count": 136,
   "id": "c6b7f2f5",
   "metadata": {},
   "outputs": [
    {
     "data": {
      "image/png": "[encoded data removed]",
      "text/plain": [
       "<Figure size 432x288 with 1 Axes>"
      ]
     },
     "metadata": {
      "needs_background": "light"
     },
     "output_type": "display_data"
    }
   ],
   "source": [
    "# Create a plot that shows the regression line from the model on the test set.\n",
    "\n",
    "plot_test = plt\n",
    "plot_test.scatter(X5_test, y5_test, color='gray', s = 15)\n",
    "plot_test.plot(X5_test, y5_predicted, color='red', linewidth =3)\n",
    "plot_test.title('Total Bases vs Runs (Test set)')\n",
    "plot_test.xlabel('Total Bases')\n",
    "plot_test.ylabel('Runs')\n",
    "plot_test.show()"
   ]
  },
  {
   "cell_type": "markdown",
   "id": "728cf02a",
   "metadata": {},
   "source": [
    "#### The line fits the data fairly well. There are some values further away from the line but as runs & total bases\n",
    "#### both increase, the line fits closer to the data points"
   ]
  },
  {
   "cell_type": "code",
   "execution_count": 137,
   "id": "8b85f511",
   "metadata": {},
   "outputs": [],
   "source": [
    "# Create objects that contain the model summary statistics.\n",
    "\n",
    "rmse = mean_squared_error(y5_test, y5_predicted) # This is the mean squared error\n",
    "r2 = r2_score(y5_test, y5_predicted) # This is the R2 score. "
   ]
  },
  {
   "cell_type": "code",
   "execution_count": 138,
   "id": "ff20ffd9",
   "metadata": {},
   "outputs": [
    {
     "name": "stdout",
     "output_type": "stream",
     "text": [
      "Slope: [[0.3440114]]\n",
      "Mean squared error:  90.32872644886056\n",
      "R2 score:  0.9014804853243383\n"
     ]
    }
   ],
   "source": [
    "# Print the model summary statistics. This is where you evaluate the performance of the model.\n",
    "\n",
    "print('Slope:' ,regression5.coef_)\n",
    "print('Mean squared error: ', rmse)\n",
    "print('R2 score: ', r2)"
   ]
  },
  {
   "cell_type": "code",
   "execution_count": 139,
   "id": "7af32287",
   "metadata": {},
   "outputs": [
    {
     "data": {
      "text/plain": [
       "array([[58.25021593],\n",
       "       [92.30734465],\n",
       "       [ 8.02455135],\n",
       "       ...,\n",
       "       [68.91456937],\n",
       "       [10.77664256],\n",
       "       [ 1.48833473]])"
      ]
     },
     "execution_count": 139,
     "metadata": {},
     "output_type": "execute_result"
    }
   ],
   "source": [
    "y5_predicted"
   ]
  },
  {
   "cell_type": "code",
   "execution_count": 140,
   "id": "fd5707a9",
   "metadata": {
    "scrolled": true
   },
   "outputs": [
    {
     "data": {
      "text/html": [
       "<div>\n",
       "<style scoped>\n",
       "    .dataframe tbody tr th:only-of-type {\n",
       "        vertical-align: middle;\n",
       "    }\n",
       "\n",
       "    .dataframe tbody tr th {\n",
       "        vertical-align: top;\n",
       "    }\n",
       "\n",
       "    .dataframe thead th {\n",
       "        text-align: right;\n",
       "    }\n",
       "</style>\n",
       "<table border=\"1\" class=\"dataframe\">\n",
       "  <thead>\n",
       "    <tr style=\"text-align: right;\">\n",
       "      <th></th>\n",
       "      <th>Actual</th>\n",
       "      <th>Predicted</th>\n",
       "    </tr>\n",
       "  </thead>\n",
       "  <tbody>\n",
       "    <tr>\n",
       "      <th>0</th>\n",
       "      <td>52.0</td>\n",
       "      <td>58.250216</td>\n",
       "    </tr>\n",
       "    <tr>\n",
       "      <th>1</th>\n",
       "      <td>88.0</td>\n",
       "      <td>92.307345</td>\n",
       "    </tr>\n",
       "    <tr>\n",
       "      <th>2</th>\n",
       "      <td>7.0</td>\n",
       "      <td>8.024551</td>\n",
       "    </tr>\n",
       "    <tr>\n",
       "      <th>3</th>\n",
       "      <td>41.0</td>\n",
       "      <td>29.697270</td>\n",
       "    </tr>\n",
       "    <tr>\n",
       "      <th>4</th>\n",
       "      <td>65.0</td>\n",
       "      <td>54.122079</td>\n",
       "    </tr>\n",
       "    <tr>\n",
       "      <th>5</th>\n",
       "      <td>29.0</td>\n",
       "      <td>34.857441</td>\n",
       "    </tr>\n",
       "    <tr>\n",
       "      <th>6</th>\n",
       "      <td>23.0</td>\n",
       "      <td>27.977213</td>\n",
       "    </tr>\n",
       "    <tr>\n",
       "      <th>7</th>\n",
       "      <td>28.0</td>\n",
       "      <td>26.945178</td>\n",
       "    </tr>\n",
       "    <tr>\n",
       "      <th>8</th>\n",
       "      <td>3.0</td>\n",
       "      <td>2.520369</td>\n",
       "    </tr>\n",
       "    <tr>\n",
       "      <th>9</th>\n",
       "      <td>24.0</td>\n",
       "      <td>23.505064</td>\n",
       "    </tr>\n",
       "    <tr>\n",
       "      <th>10</th>\n",
       "      <td>9.0</td>\n",
       "      <td>8.712574</td>\n",
       "    </tr>\n",
       "    <tr>\n",
       "      <th>11</th>\n",
       "      <td>1.0</td>\n",
       "      <td>1.832346</td>\n",
       "    </tr>\n",
       "    <tr>\n",
       "      <th>12</th>\n",
       "      <td>6.0</td>\n",
       "      <td>8.368563</td>\n",
       "    </tr>\n",
       "    <tr>\n",
       "      <th>13</th>\n",
       "      <td>53.0</td>\n",
       "      <td>56.186148</td>\n",
       "    </tr>\n",
       "    <tr>\n",
       "      <th>14</th>\n",
       "      <td>67.0</td>\n",
       "      <td>70.290615</td>\n",
       "    </tr>\n",
       "    <tr>\n",
       "      <th>15</th>\n",
       "      <td>24.0</td>\n",
       "      <td>37.953543</td>\n",
       "    </tr>\n",
       "    <tr>\n",
       "      <th>16</th>\n",
       "      <td>91.0</td>\n",
       "      <td>92.995367</td>\n",
       "    </tr>\n",
       "    <tr>\n",
       "      <th>17</th>\n",
       "      <td>52.0</td>\n",
       "      <td>57.218182</td>\n",
       "    </tr>\n",
       "    <tr>\n",
       "      <th>18</th>\n",
       "      <td>2.0</td>\n",
       "      <td>4.584437</td>\n",
       "    </tr>\n",
       "    <tr>\n",
       "      <th>19</th>\n",
       "      <td>26.0</td>\n",
       "      <td>27.977213</td>\n",
       "    </tr>\n",
       "    <tr>\n",
       "      <th>20</th>\n",
       "      <td>47.0</td>\n",
       "      <td>42.081680</td>\n",
       "    </tr>\n",
       "    <tr>\n",
       "      <th>21</th>\n",
       "      <td>10.0</td>\n",
       "      <td>9.744608</td>\n",
       "    </tr>\n",
       "    <tr>\n",
       "      <th>22</th>\n",
       "      <td>10.0</td>\n",
       "      <td>8.712574</td>\n",
       "    </tr>\n",
       "    <tr>\n",
       "      <th>23</th>\n",
       "      <td>7.0</td>\n",
       "      <td>8.368563</td>\n",
       "    </tr>\n",
       "    <tr>\n",
       "      <th>24</th>\n",
       "      <td>40.0</td>\n",
       "      <td>33.825406</td>\n",
       "    </tr>\n",
       "    <tr>\n",
       "      <th>25</th>\n",
       "      <td>50.0</td>\n",
       "      <td>64.442421</td>\n",
       "    </tr>\n",
       "    <tr>\n",
       "      <th>26</th>\n",
       "      <td>25.0</td>\n",
       "      <td>24.537099</td>\n",
       "    </tr>\n",
       "    <tr>\n",
       "      <th>27</th>\n",
       "      <td>64.0</td>\n",
       "      <td>60.314284</td>\n",
       "    </tr>\n",
       "    <tr>\n",
       "      <th>28</th>\n",
       "      <td>1.0</td>\n",
       "      <td>2.520369</td>\n",
       "    </tr>\n",
       "    <tr>\n",
       "      <th>29</th>\n",
       "      <td>1.0</td>\n",
       "      <td>1.832346</td>\n",
       "    </tr>\n",
       "  </tbody>\n",
       "</table>\n",
       "</div>"
      ],
      "text/plain": [
       "    Actual  Predicted\n",
       "0     52.0  58.250216\n",
       "1     88.0  92.307345\n",
       "2      7.0   8.024551\n",
       "3     41.0  29.697270\n",
       "4     65.0  54.122079\n",
       "5     29.0  34.857441\n",
       "6     23.0  27.977213\n",
       "7     28.0  26.945178\n",
       "8      3.0   2.520369\n",
       "9     24.0  23.505064\n",
       "10     9.0   8.712574\n",
       "11     1.0   1.832346\n",
       "12     6.0   8.368563\n",
       "13    53.0  56.186148\n",
       "14    67.0  70.290615\n",
       "15    24.0  37.953543\n",
       "16    91.0  92.995367\n",
       "17    52.0  57.218182\n",
       "18     2.0   4.584437\n",
       "19    26.0  27.977213\n",
       "20    47.0  42.081680\n",
       "21    10.0   9.744608\n",
       "22    10.0   8.712574\n",
       "23     7.0   8.368563\n",
       "24    40.0  33.825406\n",
       "25    50.0  64.442421\n",
       "26    25.0  24.537099\n",
       "27    64.0  60.314284\n",
       "28     1.0   2.520369\n",
       "29     1.0   1.832346"
      ]
     },
     "execution_count": 140,
     "metadata": {},
     "output_type": "execute_result"
    }
   ],
   "source": [
    "# Create a dataframe comparing the actual and predicted values of y.\n",
    "\n",
    "data = pd.DataFrame({'Actual': y5_test.flatten(), 'Predicted': y5_predicted.flatten()})\n",
    "data.head(30)"
   ]
  },
  {
   "cell_type": "markdown",
   "id": "172cc664",
   "metadata": {},
   "source": [
    "##### Compare how the regression fits the training set"
   ]
  },
  {
   "cell_type": "code",
   "execution_count": 141,
   "id": "f0670697",
   "metadata": {},
   "outputs": [],
   "source": [
    "# Predict.\n",
    "\n",
    "y5_predicted_train = regression5.predict(X5_train) # This is predicting X_train!"
   ]
  },
  {
   "cell_type": "code",
   "execution_count": 142,
   "id": "83f9000c",
   "metadata": {},
   "outputs": [],
   "source": [
    "rmse = mean_squared_error(y5_train, y5_predicted_train)\n",
    "r2 = r2_score(y5_train, y5_predicted_train)"
   ]
  },
  {
   "cell_type": "code",
   "execution_count": 143,
   "id": "c337bd09",
   "metadata": {},
   "outputs": [
    {
     "name": "stdout",
     "output_type": "stream",
     "text": [
      "Slope: [[0.3440114]]\n",
      "Mean squared error:  88.51772449996398\n",
      "R2 score:  0.9026990036762386\n"
     ]
    }
   ],
   "source": [
    "print('Slope:' ,regression5.coef_)\n",
    "print('Mean squared error: ', rmse)\n",
    "print('R2 score: ', r2)"
   ]
  },
  {
   "cell_type": "markdown",
   "id": "c40f4af2",
   "metadata": {},
   "source": [
    "### R2 score:  0.90 - Very strong positive correlation\n",
    "\n",
    "#### The test seemed to perform well"
   ]
  },
  {
   "cell_type": "code",
   "execution_count": 144,
   "id": "a74e6b44",
   "metadata": {
    "scrolled": true
   },
   "outputs": [
    {
     "data": {
      "image/png": "[encoded data removed]",
      "text/plain": [
       "<Figure size 432x288 with 1 Axes>"
      ]
     },
     "metadata": {
      "needs_background": "light"
     },
     "output_type": "display_data"
    }
   ],
   "source": [
    "# Visualizing the training set results.\n",
    "\n",
    "plot_test = plt\n",
    "plot_test.scatter(X5_train, y5_train, color='green', s = 15)\n",
    "plot_test.plot(X5_train, y5_predicted_train, color='red', linewidth =3)\n",
    "plot_test.title('Total Bases vs Runs (Test set)')\n",
    "plot_test.xlabel('Total Bases')\n",
    "plot_test.ylabel('Runs')\n",
    "plot_test.show()"
   ]
  },
  {
   "cell_type": "markdown",
   "id": "5c30c746",
   "metadata": {},
   "source": [
    "#### Hits & Runs"
   ]
  },
  {
   "cell_type": "code",
   "execution_count": 145,
   "id": "b9cbde7c",
   "metadata": {},
   "outputs": [
    {
     "data": {
      "image/png": "[encoded data removed]",
      "text/plain": [
       "<Figure size 432x288 with 1 Axes>"
      ]
     },
     "metadata": {
      "needs_background": "light"
     },
     "output_type": "display_data"
    }
   ],
   "source": [
    "# hits & runs\n",
    "\n",
    "bb.plot(x = 'Hits', y='Runs',style='o') # The style option creates a scatterplot; without it, we only have lines.\n",
    "plt.title('Hits vs. Runs')  \n",
    "plt.xlabel('Hits')  \n",
    "plt.ylabel('Runs')  \n",
    "plt.show()"
   ]
  },
  {
   "cell_type": "code",
   "execution_count": 146,
   "id": "6838b0fb",
   "metadata": {},
   "outputs": [],
   "source": [
    "# Reshape the variables into NumPy arrays and put them into separate objects.\n",
    "\n",
    "X6 = bb['Hits'].values.reshape(-1,1)\n",
    "y6 = bb['Runs'].values.reshape(-1,1)"
   ]
  },
  {
   "cell_type": "code",
   "execution_count": 147,
   "id": "33c9692c",
   "metadata": {},
   "outputs": [
    {
     "data": {
      "text/plain": [
       "array([[131.],\n",
       "       [189.],\n",
       "       [200.],\n",
       "       ...,\n",
       "       [185.],\n",
       "       [157.],\n",
       "       [  6.]])"
      ]
     },
     "execution_count": 147,
     "metadata": {},
     "output_type": "execute_result"
    }
   ],
   "source": [
    "X6"
   ]
  },
  {
   "cell_type": "code",
   "execution_count": 148,
   "id": "2cbd30a8",
   "metadata": {},
   "outputs": [
    {
     "data": {
      "text/plain": [
       "array([[ 58.],\n",
       "       [105.],\n",
       "       [106.],\n",
       "       ...,\n",
       "       [ 91.],\n",
       "       [ 65.],\n",
       "       [  4.]])"
      ]
     },
     "execution_count": 148,
     "metadata": {},
     "output_type": "execute_result"
    }
   ],
   "source": [
    "y6"
   ]
  },
  {
   "cell_type": "code",
   "execution_count": 149,
   "id": "27c56923",
   "metadata": {},
   "outputs": [],
   "source": [
    "# Split data into a training set and a test set.\n",
    "\n",
    "X6_train, X6_test, y6_train, y6_test = train_test_split(X6, y6, test_size=0.3, random_state=0)"
   ]
  },
  {
   "cell_type": "markdown",
   "id": "b9153d5e",
   "metadata": {},
   "source": [
    "### Regression analysis"
   ]
  },
  {
   "cell_type": "code",
   "execution_count": 150,
   "id": "aaa002c0",
   "metadata": {},
   "outputs": [],
   "source": [
    "# Create a regression object.\n",
    "\n",
    "regression6 = LinearRegression()  # This is the regression object, which will be fit onto the training set."
   ]
  },
  {
   "cell_type": "code",
   "execution_count": 151,
   "id": "6ce4ef7e",
   "metadata": {},
   "outputs": [
    {
     "data": {
      "text/plain": [
       "LinearRegression()"
      ]
     },
     "execution_count": 151,
     "metadata": {},
     "output_type": "execute_result"
    }
   ],
   "source": [
    "# Fit the regression object onto the training set.\n",
    "\n",
    "regression6.fit(X6_train, y6_train)"
   ]
  },
  {
   "cell_type": "code",
   "execution_count": 152,
   "id": "f6973da1",
   "metadata": {},
   "outputs": [],
   "source": [
    "# Predict the values of y using X.\n",
    "\n",
    "y6_predicted = regression6.predict(X6_test)"
   ]
  },
  {
   "cell_type": "code",
   "execution_count": 153,
   "id": "644f007b",
   "metadata": {},
   "outputs": [
    {
     "data": {
      "image/png": "[encoded data removed]",
      "text/plain": [
       "<Figure size 432x288 with 1 Axes>"
      ]
     },
     "metadata": {
      "needs_background": "light"
     },
     "output_type": "display_data"
    }
   ],
   "source": [
    "# Create a plot that shows the regression line from the model on the test set.\n",
    "\n",
    "plot_test = plt\n",
    "plot_test.scatter(X6_test, y6_test, color='gray', s = 15)\n",
    "plot_test.plot(X6_test, y6_predicted, color='red', linewidth =3)\n",
    "plot_test.title('Hits vs Runs (Test set)')\n",
    "plot_test.xlabel('Hits')\n",
    "plot_test.ylabel('Runs')\n",
    "plot_test.show()"
   ]
  },
  {
   "cell_type": "markdown",
   "id": "56ba3f79",
   "metadata": {},
   "source": [
    "#### The line seems to fit the data fairly well. There are some values that are far from the line"
   ]
  },
  {
   "cell_type": "code",
   "execution_count": 154,
   "id": "1629cb2d",
   "metadata": {},
   "outputs": [],
   "source": [
    "# Create objects that contain the model summary statistics.\n",
    "\n",
    "rmse = mean_squared_error(y6_test, y6_predicted) # This is the mean squared error\n",
    "r2 = r2_score(y6_test, y6_predicted) # This is the R2 score. "
   ]
  },
  {
   "cell_type": "code",
   "execution_count": 155,
   "id": "c66d6f98",
   "metadata": {},
   "outputs": [
    {
     "name": "stdout",
     "output_type": "stream",
     "text": [
      "Slope: [[0.53496569]]\n",
      "Mean squared error:  92.56055470364969\n",
      "R2 score:  0.8990462803361197\n"
     ]
    }
   ],
   "source": [
    "# Print the model summary statistics. This is where you evaluate the performance of the model.\n",
    "\n",
    "print('Slope:' ,regression6.coef_)\n",
    "print('Mean squared error: ', rmse)\n",
    "print('R2 score: ', r2)"
   ]
  },
  {
   "cell_type": "code",
   "execution_count": 156,
   "id": "31b70b85",
   "metadata": {},
   "outputs": [
    {
     "data": {
      "text/plain": [
       "array([[64.66001889],\n",
       "       [82.84885223],\n",
       "       [ 9.0235875 ],\n",
       "       ...,\n",
       "       [55.56560222],\n",
       "       [11.16345024],\n",
       "       [ 0.46413651]])"
      ]
     },
     "execution_count": 156,
     "metadata": {},
     "output_type": "execute_result"
    }
   ],
   "source": [
    "y6_predicted"
   ]
  },
  {
   "cell_type": "code",
   "execution_count": 157,
   "id": "b8967d49",
   "metadata": {
    "scrolled": true
   },
   "outputs": [
    {
     "data": {
      "text/html": [
       "<div>\n",
       "<style scoped>\n",
       "    .dataframe tbody tr th:only-of-type {\n",
       "        vertical-align: middle;\n",
       "    }\n",
       "\n",
       "    .dataframe tbody tr th {\n",
       "        vertical-align: top;\n",
       "    }\n",
       "\n",
       "    .dataframe thead th {\n",
       "        text-align: right;\n",
       "    }\n",
       "</style>\n",
       "<table border=\"1\" class=\"dataframe\">\n",
       "  <thead>\n",
       "    <tr style=\"text-align: right;\">\n",
       "      <th></th>\n",
       "      <th>Actual</th>\n",
       "      <th>Predicted</th>\n",
       "    </tr>\n",
       "  </thead>\n",
       "  <tbody>\n",
       "    <tr>\n",
       "      <th>0</th>\n",
       "      <td>52.0</td>\n",
       "      <td>64.660019</td>\n",
       "    </tr>\n",
       "    <tr>\n",
       "      <th>1</th>\n",
       "      <td>88.0</td>\n",
       "      <td>82.848852</td>\n",
       "    </tr>\n",
       "    <tr>\n",
       "      <th>2</th>\n",
       "      <td>7.0</td>\n",
       "      <td>9.023587</td>\n",
       "    </tr>\n",
       "    <tr>\n",
       "      <th>3</th>\n",
       "      <td>41.0</td>\n",
       "      <td>37.376769</td>\n",
       "    </tr>\n",
       "    <tr>\n",
       "      <th>4</th>\n",
       "      <td>65.0</td>\n",
       "      <td>54.495671</td>\n",
       "    </tr>\n",
       "    <tr>\n",
       "      <th>5</th>\n",
       "      <td>29.0</td>\n",
       "      <td>30.957181</td>\n",
       "    </tr>\n",
       "    <tr>\n",
       "      <th>6</th>\n",
       "      <td>23.0</td>\n",
       "      <td>28.282352</td>\n",
       "    </tr>\n",
       "    <tr>\n",
       "      <th>7</th>\n",
       "      <td>28.0</td>\n",
       "      <td>24.537592</td>\n",
       "    </tr>\n",
       "    <tr>\n",
       "      <th>8</th>\n",
       "      <td>3.0</td>\n",
       "      <td>0.464137</td>\n",
       "    </tr>\n",
       "    <tr>\n",
       "      <th>9</th>\n",
       "      <td>24.0</td>\n",
       "      <td>20.257867</td>\n",
       "    </tr>\n",
       "    <tr>\n",
       "      <th>10</th>\n",
       "      <td>9.0</td>\n",
       "      <td>10.093519</td>\n",
       "    </tr>\n",
       "    <tr>\n",
       "      <th>11</th>\n",
       "      <td>1.0</td>\n",
       "      <td>0.999102</td>\n",
       "    </tr>\n",
       "    <tr>\n",
       "      <th>12</th>\n",
       "      <td>6.0</td>\n",
       "      <td>5.813793</td>\n",
       "    </tr>\n",
       "    <tr>\n",
       "      <th>13</th>\n",
       "      <td>53.0</td>\n",
       "      <td>35.771872</td>\n",
       "    </tr>\n",
       "    <tr>\n",
       "      <th>14</th>\n",
       "      <td>67.0</td>\n",
       "      <td>71.079607</td>\n",
       "    </tr>\n",
       "    <tr>\n",
       "      <th>15</th>\n",
       "      <td>24.0</td>\n",
       "      <td>30.422215</td>\n",
       "    </tr>\n",
       "    <tr>\n",
       "      <th>16</th>\n",
       "      <td>91.0</td>\n",
       "      <td>94.618097</td>\n",
       "    </tr>\n",
       "    <tr>\n",
       "      <th>17</th>\n",
       "      <td>52.0</td>\n",
       "      <td>65.194985</td>\n",
       "    </tr>\n",
       "    <tr>\n",
       "      <th>18</th>\n",
       "      <td>2.0</td>\n",
       "      <td>5.278828</td>\n",
       "    </tr>\n",
       "    <tr>\n",
       "      <th>19</th>\n",
       "      <td>26.0</td>\n",
       "      <td>32.027112</td>\n",
       "    </tr>\n",
       "    <tr>\n",
       "      <th>20</th>\n",
       "      <td>47.0</td>\n",
       "      <td>33.097043</td>\n",
       "    </tr>\n",
       "    <tr>\n",
       "      <th>21</th>\n",
       "      <td>10.0</td>\n",
       "      <td>10.093519</td>\n",
       "    </tr>\n",
       "    <tr>\n",
       "      <th>22</th>\n",
       "      <td>10.0</td>\n",
       "      <td>10.628485</td>\n",
       "    </tr>\n",
       "    <tr>\n",
       "      <th>23</th>\n",
       "      <td>7.0</td>\n",
       "      <td>9.558553</td>\n",
       "    </tr>\n",
       "    <tr>\n",
       "      <th>24</th>\n",
       "      <td>40.0</td>\n",
       "      <td>40.586563</td>\n",
       "    </tr>\n",
       "    <tr>\n",
       "      <th>25</th>\n",
       "      <td>50.0</td>\n",
       "      <td>77.499195</td>\n",
       "    </tr>\n",
       "    <tr>\n",
       "      <th>26</th>\n",
       "      <td>25.0</td>\n",
       "      <td>22.397730</td>\n",
       "    </tr>\n",
       "    <tr>\n",
       "      <th>27</th>\n",
       "      <td>64.0</td>\n",
       "      <td>73.754436</td>\n",
       "    </tr>\n",
       "    <tr>\n",
       "      <th>28</th>\n",
       "      <td>1.0</td>\n",
       "      <td>1.534068</td>\n",
       "    </tr>\n",
       "    <tr>\n",
       "      <th>29</th>\n",
       "      <td>1.0</td>\n",
       "      <td>0.999102</td>\n",
       "    </tr>\n",
       "  </tbody>\n",
       "</table>\n",
       "</div>"
      ],
      "text/plain": [
       "    Actual  Predicted\n",
       "0     52.0  64.660019\n",
       "1     88.0  82.848852\n",
       "2      7.0   9.023587\n",
       "3     41.0  37.376769\n",
       "4     65.0  54.495671\n",
       "5     29.0  30.957181\n",
       "6     23.0  28.282352\n",
       "7     28.0  24.537592\n",
       "8      3.0   0.464137\n",
       "9     24.0  20.257867\n",
       "10     9.0  10.093519\n",
       "11     1.0   0.999102\n",
       "12     6.0   5.813793\n",
       "13    53.0  35.771872\n",
       "14    67.0  71.079607\n",
       "15    24.0  30.422215\n",
       "16    91.0  94.618097\n",
       "17    52.0  65.194985\n",
       "18     2.0   5.278828\n",
       "19    26.0  32.027112\n",
       "20    47.0  33.097043\n",
       "21    10.0  10.093519\n",
       "22    10.0  10.628485\n",
       "23     7.0   9.558553\n",
       "24    40.0  40.586563\n",
       "25    50.0  77.499195\n",
       "26    25.0  22.397730\n",
       "27    64.0  73.754436\n",
       "28     1.0   1.534068\n",
       "29     1.0   0.999102"
      ]
     },
     "execution_count": 157,
     "metadata": {},
     "output_type": "execute_result"
    }
   ],
   "source": [
    "# Create a dataframe comparing the actual and predicted values of y.\n",
    "\n",
    "data = pd.DataFrame({'Actual': y6_test.flatten(), 'Predicted': y6_predicted.flatten()})\n",
    "data.head(30)"
   ]
  },
  {
   "cell_type": "markdown",
   "id": "38e73734",
   "metadata": {},
   "source": [
    "##### Compare how the regression fits the training set"
   ]
  },
  {
   "cell_type": "code",
   "execution_count": 158,
   "id": "b0bb3441",
   "metadata": {},
   "outputs": [],
   "source": [
    "# Predict.\n",
    "\n",
    "y6_predicted_train = regression6.predict(X6_train) # This is predicting X_train!"
   ]
  },
  {
   "cell_type": "code",
   "execution_count": 159,
   "id": "81b5011c",
   "metadata": {},
   "outputs": [],
   "source": [
    "rmse = mean_squared_error(y6_train, y6_predicted_train)\n",
    "r2 = r2_score(y6_train, y6_predicted_train)"
   ]
  },
  {
   "cell_type": "code",
   "execution_count": 160,
   "id": "fce8e0f4",
   "metadata": {},
   "outputs": [
    {
     "name": "stdout",
     "output_type": "stream",
     "text": [
      "Slope: [[0.53496569]]\n",
      "Mean squared error:  90.70908394359276\n",
      "R2 score:  0.9002902041010907\n"
     ]
    }
   ],
   "source": [
    "print('Slope:' ,regression6.coef_)\n",
    "print('Mean squared error: ', rmse)\n",
    "print('R2 score: ', r2)"
   ]
  },
  {
   "cell_type": "markdown",
   "id": "89e637c5",
   "metadata": {},
   "source": [
    "### R2 score:  0.90 - Strong positive correlation\n",
    "#### The test seems to peform pretty well"
   ]
  },
  {
   "cell_type": "code",
   "execution_count": 161,
   "id": "4efae9b4",
   "metadata": {
    "scrolled": true
   },
   "outputs": [
    {
     "data": {
      "image/png": "[encoded data removed]",
      "text/plain": [
       "<Figure size 432x288 with 1 Axes>"
      ]
     },
     "metadata": {
      "needs_background": "light"
     },
     "output_type": "display_data"
    }
   ],
   "source": [
    "# Visualizing the training set results.\n",
    "\n",
    "plot_test = plt\n",
    "plot_test.scatter(X6_train, y6_train, color='green', s = 15)\n",
    "plot_test.plot(X6_train, y6_predicted_train, color='red', linewidth =3)\n",
    "plot_test.title('Hits vs Runs (Test set)')\n",
    "plot_test.xlabel('Hits')\n",
    "plot_test.ylabel('Runs')\n",
    "plot_test.show()"
   ]
  },
  {
   "cell_type": "markdown",
   "id": "169bc06c",
   "metadata": {},
   "source": [
    "#### Double & Runs"
   ]
  },
  {
   "cell_type": "code",
   "execution_count": 163,
   "id": "8c26b02f",
   "metadata": {},
   "outputs": [
    {
     "data": {
      "image/png": "[encoded data removed]",
      "text/plain": [
       "<Figure size 432x288 with 1 Axes>"
      ]
     },
     "metadata": {
      "needs_background": "light"
     },
     "output_type": "display_data"
    }
   ],
   "source": [
    "# doubles & runs\n",
    "\n",
    "bb.plot(x = 'Double', y='Runs',style='o') # The style option creates a scatterplot; without it, we only have lines.\n",
    "plt.title('Doubles vs. Runs')  \n",
    "plt.xlabel('Doubles')  \n",
    "plt.ylabel('Runs')  \n",
    "plt.show()"
   ]
  },
  {
   "cell_type": "code",
   "execution_count": 164,
   "id": "d7b212ba",
   "metadata": {},
   "outputs": [],
   "source": [
    "# Reshape the variables into NumPy arrays and put them into separate objects.\n",
    "\n",
    "X7 = bb['Double'].values.reshape(-1,1)\n",
    "y7 = bb['Runs'].values.reshape(-1,1)"
   ]
  },
  {
   "cell_type": "code",
   "execution_count": 165,
   "id": "9355c408",
   "metadata": {},
   "outputs": [
    {
     "data": {
      "text/plain": [
       "array([[27.],\n",
       "       [37.],\n",
       "       [34.],\n",
       "       ...,\n",
       "       [38.],\n",
       "       [32.],\n",
       "       [ 1.]])"
      ]
     },
     "execution_count": 165,
     "metadata": {},
     "output_type": "execute_result"
    }
   ],
   "source": [
    "X7"
   ]
  },
  {
   "cell_type": "code",
   "execution_count": 166,
   "id": "7bc1ac0b",
   "metadata": {},
   "outputs": [
    {
     "data": {
      "text/plain": [
       "array([[ 58.],\n",
       "       [105.],\n",
       "       [106.],\n",
       "       ...,\n",
       "       [ 91.],\n",
       "       [ 65.],\n",
       "       [  4.]])"
      ]
     },
     "execution_count": 166,
     "metadata": {},
     "output_type": "execute_result"
    }
   ],
   "source": [
    "y7"
   ]
  },
  {
   "cell_type": "code",
   "execution_count": 167,
   "id": "f50bb8ac",
   "metadata": {},
   "outputs": [],
   "source": [
    "# Split data into a training set and a test set.\n",
    "\n",
    "X7_train, X7_test, y7_train, y7_test = train_test_split(X7, y7, test_size=0.3, random_state=0)"
   ]
  },
  {
   "cell_type": "markdown",
   "id": "a92104ad",
   "metadata": {},
   "source": [
    "### Regression analysis"
   ]
  },
  {
   "cell_type": "code",
   "execution_count": 168,
   "id": "2ac30e82",
   "metadata": {},
   "outputs": [],
   "source": [
    "# Create a regression object.\n",
    "\n",
    "regression7 = LinearRegression()  # This is the regression object, which will be fit onto the training set."
   ]
  },
  {
   "cell_type": "code",
   "execution_count": 169,
   "id": "0632a1da",
   "metadata": {},
   "outputs": [
    {
     "data": {
      "text/plain": [
       "LinearRegression()"
      ]
     },
     "execution_count": 169,
     "metadata": {},
     "output_type": "execute_result"
    }
   ],
   "source": [
    "# Fit the regression object onto the training set.\n",
    "\n",
    "regression7.fit(X7_train, y7_train)"
   ]
  },
  {
   "cell_type": "code",
   "execution_count": 170,
   "id": "bd9184cc",
   "metadata": {},
   "outputs": [],
   "source": [
    "# Predict the values of y using X.\n",
    "\n",
    "y7_predicted = regression7.predict(X7_test)"
   ]
  },
  {
   "cell_type": "code",
   "execution_count": 171,
   "id": "a7025e5f",
   "metadata": {},
   "outputs": [
    {
     "data": {
      "image/png": "[encoded data removed]",
      "text/plain": [
       "<Figure size 432x288 with 1 Axes>"
      ]
     },
     "metadata": {
      "needs_background": "light"
     },
     "output_type": "display_data"
    }
   ],
   "source": [
    "# Create a plot that shows the regression line from the model on the test set.\n",
    "\n",
    "plot_test = plt\n",
    "plot_test.scatter(X7_test, y7_test, color='gray', s = 15)\n",
    "plot_test.plot(X7_test, y7_predicted, color='red', linewidth =3)\n",
    "plot_test.title('Doubles vs. Runs (Test set)')\n",
    "plot_test.xlabel('Doubles')\n",
    "plot_test.ylabel('Runs')\n",
    "plot_test.show()"
   ]
  },
  {
   "cell_type": "markdown",
   "id": "70cbedfa",
   "metadata": {},
   "source": [
    "### The data does seem to have a positive slope, however, there is a large range of values "
   ]
  },
  {
   "cell_type": "code",
   "execution_count": 172,
   "id": "82e10440",
   "metadata": {},
   "outputs": [],
   "source": [
    "# Create objects that contain the model summary statistics.\n",
    "\n",
    "rmse = mean_squared_error(y7_test, y7_predicted) # This is the mean squared error\n",
    "r2 = r2_score(y7_test, y7_predicted) # This is the R2 score. "
   ]
  },
  {
   "cell_type": "code",
   "execution_count": 173,
   "id": "3858e034",
   "metadata": {},
   "outputs": [
    {
     "name": "stdout",
     "output_type": "stream",
     "text": [
      "Slope: [[2.50409465]]\n",
      "Mean squared error:  221.23967173177292\n",
      "R2 score:  0.7586988553596294\n"
     ]
    }
   ],
   "source": [
    "# Print the model summary statistics. This is where you evaluate the performance of the model.\n",
    "\n",
    "print('Slope:' ,regression7.coef_)\n",
    "print('Mean squared error: ', rmse)\n",
    "print('R2 score: ', r2)"
   ]
  },
  {
   "cell_type": "code",
   "execution_count": 174,
   "id": "9d0d9d94",
   "metadata": {},
   "outputs": [
    {
     "data": {
      "text/plain": [
       "array([[50.77968596],\n",
       "       [70.81244319],\n",
       "       [13.21826616],\n",
       "       ...,\n",
       "       [55.78787527],\n",
       "       [15.72236081],\n",
       "       [ 5.7059822 ]])"
      ]
     },
     "execution_count": 174,
     "metadata": {},
     "output_type": "execute_result"
    }
   ],
   "source": [
    "y7_predicted"
   ]
  },
  {
   "cell_type": "code",
   "execution_count": 175,
   "id": "c9042824",
   "metadata": {
    "scrolled": true
   },
   "outputs": [
    {
     "data": {
      "text/html": [
       "<div>\n",
       "<style scoped>\n",
       "    .dataframe tbody tr th:only-of-type {\n",
       "        vertical-align: middle;\n",
       "    }\n",
       "\n",
       "    .dataframe tbody tr th {\n",
       "        vertical-align: top;\n",
       "    }\n",
       "\n",
       "    .dataframe thead th {\n",
       "        text-align: right;\n",
       "    }\n",
       "</style>\n",
       "<table border=\"1\" class=\"dataframe\">\n",
       "  <thead>\n",
       "    <tr style=\"text-align: right;\">\n",
       "      <th></th>\n",
       "      <th>Actual</th>\n",
       "      <th>Predicted</th>\n",
       "    </tr>\n",
       "  </thead>\n",
       "  <tbody>\n",
       "    <tr>\n",
       "      <th>0</th>\n",
       "      <td>52.0</td>\n",
       "      <td>50.779686</td>\n",
       "    </tr>\n",
       "    <tr>\n",
       "      <th>1</th>\n",
       "      <td>88.0</td>\n",
       "      <td>70.812443</td>\n",
       "    </tr>\n",
       "    <tr>\n",
       "      <th>2</th>\n",
       "      <td>7.0</td>\n",
       "      <td>13.218266</td>\n",
       "    </tr>\n",
       "    <tr>\n",
       "      <th>3</th>\n",
       "      <td>41.0</td>\n",
       "      <td>28.242834</td>\n",
       "    </tr>\n",
       "    <tr>\n",
       "      <th>4</th>\n",
       "      <td>65.0</td>\n",
       "      <td>30.746929</td>\n",
       "    </tr>\n",
       "    <tr>\n",
       "      <th>5</th>\n",
       "      <td>29.0</td>\n",
       "      <td>23.234645</td>\n",
       "    </tr>\n",
       "    <tr>\n",
       "      <th>6</th>\n",
       "      <td>23.0</td>\n",
       "      <td>40.763307</td>\n",
       "    </tr>\n",
       "    <tr>\n",
       "      <th>7</th>\n",
       "      <td>28.0</td>\n",
       "      <td>25.738739</td>\n",
       "    </tr>\n",
       "    <tr>\n",
       "      <th>8</th>\n",
       "      <td>3.0</td>\n",
       "      <td>5.705982</td>\n",
       "    </tr>\n",
       "    <tr>\n",
       "      <th>9</th>\n",
       "      <td>24.0</td>\n",
       "      <td>30.746929</td>\n",
       "    </tr>\n",
       "    <tr>\n",
       "      <th>10</th>\n",
       "      <td>9.0</td>\n",
       "      <td>8.210077</td>\n",
       "    </tr>\n",
       "    <tr>\n",
       "      <th>11</th>\n",
       "      <td>1.0</td>\n",
       "      <td>5.705982</td>\n",
       "    </tr>\n",
       "    <tr>\n",
       "      <th>12</th>\n",
       "      <td>6.0</td>\n",
       "      <td>8.210077</td>\n",
       "    </tr>\n",
       "    <tr>\n",
       "      <th>13</th>\n",
       "      <td>53.0</td>\n",
       "      <td>20.730550</td>\n",
       "    </tr>\n",
       "    <tr>\n",
       "      <th>14</th>\n",
       "      <td>67.0</td>\n",
       "      <td>88.341106</td>\n",
       "    </tr>\n",
       "    <tr>\n",
       "      <th>15</th>\n",
       "      <td>24.0</td>\n",
       "      <td>38.259213</td>\n",
       "    </tr>\n",
       "    <tr>\n",
       "      <th>16</th>\n",
       "      <td>91.0</td>\n",
       "      <td>100.861579</td>\n",
       "    </tr>\n",
       "    <tr>\n",
       "      <th>17</th>\n",
       "      <td>52.0</td>\n",
       "      <td>50.779686</td>\n",
       "    </tr>\n",
       "    <tr>\n",
       "      <th>18</th>\n",
       "      <td>2.0</td>\n",
       "      <td>5.705982</td>\n",
       "    </tr>\n",
       "    <tr>\n",
       "      <th>19</th>\n",
       "      <td>26.0</td>\n",
       "      <td>30.746929</td>\n",
       "    </tr>\n",
       "    <tr>\n",
       "      <th>20</th>\n",
       "      <td>47.0</td>\n",
       "      <td>33.251023</td>\n",
       "    </tr>\n",
       "    <tr>\n",
       "      <th>21</th>\n",
       "      <td>10.0</td>\n",
       "      <td>15.722361</td>\n",
       "    </tr>\n",
       "    <tr>\n",
       "      <th>22</th>\n",
       "      <td>10.0</td>\n",
       "      <td>10.714172</td>\n",
       "    </tr>\n",
       "    <tr>\n",
       "      <th>23</th>\n",
       "      <td>7.0</td>\n",
       "      <td>13.218266</td>\n",
       "    </tr>\n",
       "    <tr>\n",
       "      <th>24</th>\n",
       "      <td>40.0</td>\n",
       "      <td>33.251023</td>\n",
       "    </tr>\n",
       "    <tr>\n",
       "      <th>25</th>\n",
       "      <td>50.0</td>\n",
       "      <td>58.291970</td>\n",
       "    </tr>\n",
       "    <tr>\n",
       "      <th>26</th>\n",
       "      <td>25.0</td>\n",
       "      <td>23.234645</td>\n",
       "    </tr>\n",
       "    <tr>\n",
       "      <th>27</th>\n",
       "      <td>64.0</td>\n",
       "      <td>53.283781</td>\n",
       "    </tr>\n",
       "    <tr>\n",
       "      <th>28</th>\n",
       "      <td>1.0</td>\n",
       "      <td>8.210077</td>\n",
       "    </tr>\n",
       "    <tr>\n",
       "      <th>29</th>\n",
       "      <td>1.0</td>\n",
       "      <td>5.705982</td>\n",
       "    </tr>\n",
       "  </tbody>\n",
       "</table>\n",
       "</div>"
      ],
      "text/plain": [
       "    Actual   Predicted\n",
       "0     52.0   50.779686\n",
       "1     88.0   70.812443\n",
       "2      7.0   13.218266\n",
       "3     41.0   28.242834\n",
       "4     65.0   30.746929\n",
       "5     29.0   23.234645\n",
       "6     23.0   40.763307\n",
       "7     28.0   25.738739\n",
       "8      3.0    5.705982\n",
       "9     24.0   30.746929\n",
       "10     9.0    8.210077\n",
       "11     1.0    5.705982\n",
       "12     6.0    8.210077\n",
       "13    53.0   20.730550\n",
       "14    67.0   88.341106\n",
       "15    24.0   38.259213\n",
       "16    91.0  100.861579\n",
       "17    52.0   50.779686\n",
       "18     2.0    5.705982\n",
       "19    26.0   30.746929\n",
       "20    47.0   33.251023\n",
       "21    10.0   15.722361\n",
       "22    10.0   10.714172\n",
       "23     7.0   13.218266\n",
       "24    40.0   33.251023\n",
       "25    50.0   58.291970\n",
       "26    25.0   23.234645\n",
       "27    64.0   53.283781\n",
       "28     1.0    8.210077\n",
       "29     1.0    5.705982"
      ]
     },
     "execution_count": 175,
     "metadata": {},
     "output_type": "execute_result"
    }
   ],
   "source": [
    "# Create a dataframe comparing the actual and predicted values of y.\n",
    "\n",
    "data = pd.DataFrame({'Actual': y7_test.flatten(), 'Predicted': y7_predicted.flatten()})\n",
    "data.head(30)"
   ]
  },
  {
   "cell_type": "markdown",
   "id": "d334386e",
   "metadata": {},
   "source": [
    "##### Compare how the regression fits the training set"
   ]
  },
  {
   "cell_type": "code",
   "execution_count": 176,
   "id": "b5c56969",
   "metadata": {},
   "outputs": [],
   "source": [
    "# Predict.\n",
    "\n",
    "y7_predicted_train = regression7.predict(X7_train) # This is predicting X_train!"
   ]
  },
  {
   "cell_type": "code",
   "execution_count": 177,
   "id": "617860fc",
   "metadata": {},
   "outputs": [],
   "source": [
    "rmse = mean_squared_error(y7_train, y7_predicted_train)\n",
    "r2 = r2_score(y7_train, y7_predicted_train)"
   ]
  },
  {
   "cell_type": "code",
   "execution_count": 178,
   "id": "753edd94",
   "metadata": {},
   "outputs": [
    {
     "name": "stdout",
     "output_type": "stream",
     "text": [
      "Slope: [[2.50409465]]\n",
      "Mean squared error:  218.03624813438893\n",
      "R2 score:  0.7603288573219078\n"
     ]
    }
   ],
   "source": [
    "print('Slope:' ,regression7.coef_)\n",
    "print('Mean squared error: ', rmse)\n",
    "print('R2 score: ', r2)"
   ]
  },
  {
   "cell_type": "markdown",
   "id": "8a206ab3",
   "metadata": {},
   "source": [
    "### R2 score:  0.76 - Fairly positive correlation. Not the highest R2 score though\n",
    "#### A lot of the actual and predicted values are similar"
   ]
  },
  {
   "cell_type": "code",
   "execution_count": 199,
   "id": "14ad6956",
   "metadata": {
    "scrolled": true
   },
   "outputs": [
    {
     "data": {
      "image/png": "[encoded data removed]",
      "text/plain": [
       "<Figure size 432x288 with 1 Axes>"
      ]
     },
     "metadata": {
      "needs_background": "light"
     },
     "output_type": "display_data"
    }
   ],
   "source": [
    "# Visualizing the training set results.\n",
    "\n",
    "plot_test = plt\n",
    "plot_test.scatter(X7_train, y7_train, color='green', s = 15)\n",
    "plot_test.plot(X7_train, y7_predicted_train, color='red', linewidth =3)\n",
    "plot_test.title('Doubles vs Runs (Test set)')\n",
    "plot_test.xlabel('Doubles')\n",
    "plot_test.ylabel('Runs')\n",
    "plot_test.show()"
   ]
  },
  {
   "cell_type": "markdown",
   "id": "0babb8a4",
   "metadata": {},
   "source": [
    "#### Triple & Runs"
   ]
  },
  {
   "cell_type": "code",
   "execution_count": 181,
   "id": "fbcde4fa",
   "metadata": {},
   "outputs": [
    {
     "data": {
      "image/png": "[encoded data removed]",
      "text/plain": [
       "<Figure size 432x288 with 1 Axes>"
      ]
     },
     "metadata": {
      "needs_background": "light"
     },
     "output_type": "display_data"
    }
   ],
   "source": [
    "# triples & runs\n",
    "\n",
    "bb.plot(x = 'Triple', y='Runs',style='o') # The style option creates a scatterplot; without it, we only have lines.\n",
    "plt.title('Triples vs. Runs')  \n",
    "plt.xlabel('Triples')  \n",
    "plt.ylabel('Runs')  \n",
    "plt.show()"
   ]
  },
  {
   "cell_type": "code",
   "execution_count": 183,
   "id": "52c0c12f",
   "metadata": {},
   "outputs": [],
   "source": [
    "# Reshape the variables into NumPy arrays and put them into separate objects.\n",
    "\n",
    "X8 = bb['Triple'].values.reshape(-1,1)\n",
    "y8 = bb['Runs'].values.reshape(-1,1)"
   ]
  },
  {
   "cell_type": "code",
   "execution_count": 184,
   "id": "a1199261",
   "metadata": {},
   "outputs": [
    {
     "data": {
      "text/plain": [
       "array([[ 6.],\n",
       "       [ 9.],\n",
       "       [14.],\n",
       "       ...,\n",
       "       [ 8.],\n",
       "       [ 7.],\n",
       "       [ 0.]])"
      ]
     },
     "execution_count": 184,
     "metadata": {},
     "output_type": "execute_result"
    }
   ],
   "source": [
    "X8"
   ]
  },
  {
   "cell_type": "code",
   "execution_count": 185,
   "id": "d80515e2",
   "metadata": {},
   "outputs": [
    {
     "data": {
      "text/plain": [
       "array([[ 58.],\n",
       "       [105.],\n",
       "       [106.],\n",
       "       ...,\n",
       "       [ 91.],\n",
       "       [ 65.],\n",
       "       [  4.]])"
      ]
     },
     "execution_count": 185,
     "metadata": {},
     "output_type": "execute_result"
    }
   ],
   "source": [
    "y8"
   ]
  },
  {
   "cell_type": "code",
   "execution_count": 186,
   "id": "8d4cef5b",
   "metadata": {},
   "outputs": [],
   "source": [
    "# Split data into a training set and a test set.\n",
    "\n",
    "X8_train, X8_test, y8_train, y8_test = train_test_split(X8, y8, test_size=0.3, random_state=0)"
   ]
  },
  {
   "cell_type": "markdown",
   "id": "4ef6f3bc",
   "metadata": {},
   "source": [
    "### Regression analysis"
   ]
  },
  {
   "cell_type": "code",
   "execution_count": 187,
   "id": "aa8d4239",
   "metadata": {},
   "outputs": [],
   "source": [
    "# Create a regression object.\n",
    "\n",
    "regression8 = LinearRegression()  # This is the regression object, which will be fit onto the training set."
   ]
  },
  {
   "cell_type": "code",
   "execution_count": 188,
   "id": "c23f9f1d",
   "metadata": {},
   "outputs": [
    {
     "data": {
      "text/plain": [
       "LinearRegression()"
      ]
     },
     "execution_count": 188,
     "metadata": {},
     "output_type": "execute_result"
    }
   ],
   "source": [
    "# Fit the regression object onto the training set.\n",
    "\n",
    "regression8.fit(X8_train, y8_train)"
   ]
  },
  {
   "cell_type": "code",
   "execution_count": 189,
   "id": "46f93c55",
   "metadata": {},
   "outputs": [],
   "source": [
    "# Predict the values of y using X.\n",
    "\n",
    "y8_predicted = regression8.predict(X8_test)"
   ]
  },
  {
   "cell_type": "code",
   "execution_count": 190,
   "id": "117b258f",
   "metadata": {},
   "outputs": [
    {
     "data": {
      "image/png": "[encoded data removed]",
      "text/plain": [
       "<Figure size 432x288 with 1 Axes>"
      ]
     },
     "metadata": {
      "needs_background": "light"
     },
     "output_type": "display_data"
    }
   ],
   "source": [
    "# Create a plot that shows the regression line from the model on the test set.\n",
    "\n",
    "plot_test = plt\n",
    "plot_test.scatter(X8_test, y8_test, color='gray', s = 15)\n",
    "plot_test.plot(X8_test, y8_predicted, color='red', linewidth =3)\n",
    "plot_test.title('Triples vs. Runs (Test set)')\n",
    "plot_test.xlabel('Triples')\n",
    "plot_test.ylabel('Runs')\n",
    "plot_test.show()"
   ]
  },
  {
   "cell_type": "markdown",
   "id": "412048fa",
   "metadata": {},
   "source": [
    "#### The line fits the data fairly well."
   ]
  },
  {
   "cell_type": "code",
   "execution_count": 191,
   "id": "0dd9143a",
   "metadata": {},
   "outputs": [],
   "source": [
    "# Create objects that contain the model summary statistics.\n",
    "\n",
    "rmse = mean_squared_error(y8_test, y8_predicted) # This is the mean squared error\n",
    "r2 = r2_score(y8_test, y8_predicted) # This is the R2 score. "
   ]
  },
  {
   "cell_type": "code",
   "execution_count": 192,
   "id": "f8b05ccc",
   "metadata": {},
   "outputs": [
    {
     "name": "stdout",
     "output_type": "stream",
     "text": [
      "Slope: [[6.62496782]]\n",
      "Mean squared error:  511.9851505851878\n",
      "R2 score:  0.44158928682167276\n"
     ]
    }
   ],
   "source": [
    "# Print the model summary statistics. This is where you evaluate the performance of the model.\n",
    "\n",
    "print('Slope:' ,regression8.coef_)\n",
    "print('Mean squared error: ', rmse)\n",
    "print('R2 score: ', r2)"
   ]
  },
  {
   "cell_type": "code",
   "execution_count": 193,
   "id": "e102f6c9",
   "metadata": {},
   "outputs": [
    {
     "data": {
      "text/plain": [
       "array([[40.77758806],\n",
       "       [40.77758806],\n",
       "       [20.90268461],\n",
       "       ...,\n",
       "       [54.0275237 ],\n",
       "       [20.90268461],\n",
       "       [20.90268461]])"
      ]
     },
     "execution_count": 193,
     "metadata": {},
     "output_type": "execute_result"
    }
   ],
   "source": [
    "y8_predicted"
   ]
  },
  {
   "cell_type": "code",
   "execution_count": 195,
   "id": "c33dba8c",
   "metadata": {
    "scrolled": true
   },
   "outputs": [
    {
     "data": {
      "text/html": [
       "<div>\n",
       "<style scoped>\n",
       "    .dataframe tbody tr th:only-of-type {\n",
       "        vertical-align: middle;\n",
       "    }\n",
       "\n",
       "    .dataframe tbody tr th {\n",
       "        vertical-align: top;\n",
       "    }\n",
       "\n",
       "    .dataframe thead th {\n",
       "        text-align: right;\n",
       "    }\n",
       "</style>\n",
       "<table border=\"1\" class=\"dataframe\">\n",
       "  <thead>\n",
       "    <tr style=\"text-align: right;\">\n",
       "      <th></th>\n",
       "      <th>Actual</th>\n",
       "      <th>Predicted</th>\n",
       "    </tr>\n",
       "  </thead>\n",
       "  <tbody>\n",
       "    <tr>\n",
       "      <th>0</th>\n",
       "      <td>52.0</td>\n",
       "      <td>40.777588</td>\n",
       "    </tr>\n",
       "    <tr>\n",
       "      <th>1</th>\n",
       "      <td>88.0</td>\n",
       "      <td>40.777588</td>\n",
       "    </tr>\n",
       "    <tr>\n",
       "      <th>2</th>\n",
       "      <td>7.0</td>\n",
       "      <td>20.902685</td>\n",
       "    </tr>\n",
       "    <tr>\n",
       "      <th>3</th>\n",
       "      <td>41.0</td>\n",
       "      <td>34.152620</td>\n",
       "    </tr>\n",
       "    <tr>\n",
       "      <th>4</th>\n",
       "      <td>65.0</td>\n",
       "      <td>40.777588</td>\n",
       "    </tr>\n",
       "    <tr>\n",
       "      <th>5</th>\n",
       "      <td>29.0</td>\n",
       "      <td>20.902685</td>\n",
       "    </tr>\n",
       "    <tr>\n",
       "      <th>6</th>\n",
       "      <td>23.0</td>\n",
       "      <td>27.527652</td>\n",
       "    </tr>\n",
       "    <tr>\n",
       "      <th>7</th>\n",
       "      <td>28.0</td>\n",
       "      <td>20.902685</td>\n",
       "    </tr>\n",
       "    <tr>\n",
       "      <th>8</th>\n",
       "      <td>3.0</td>\n",
       "      <td>20.902685</td>\n",
       "    </tr>\n",
       "    <tr>\n",
       "      <th>9</th>\n",
       "      <td>24.0</td>\n",
       "      <td>47.402556</td>\n",
       "    </tr>\n",
       "    <tr>\n",
       "      <th>10</th>\n",
       "      <td>9.0</td>\n",
       "      <td>27.527652</td>\n",
       "    </tr>\n",
       "    <tr>\n",
       "      <th>11</th>\n",
       "      <td>1.0</td>\n",
       "      <td>20.902685</td>\n",
       "    </tr>\n",
       "    <tr>\n",
       "      <th>12</th>\n",
       "      <td>6.0</td>\n",
       "      <td>20.902685</td>\n",
       "    </tr>\n",
       "    <tr>\n",
       "      <th>13</th>\n",
       "      <td>53.0</td>\n",
       "      <td>20.902685</td>\n",
       "    </tr>\n",
       "    <tr>\n",
       "      <th>14</th>\n",
       "      <td>67.0</td>\n",
       "      <td>47.402556</td>\n",
       "    </tr>\n",
       "    <tr>\n",
       "      <th>15</th>\n",
       "      <td>24.0</td>\n",
       "      <td>54.027524</td>\n",
       "    </tr>\n",
       "    <tr>\n",
       "      <th>16</th>\n",
       "      <td>91.0</td>\n",
       "      <td>73.902427</td>\n",
       "    </tr>\n",
       "    <tr>\n",
       "      <th>17</th>\n",
       "      <td>52.0</td>\n",
       "      <td>47.402556</td>\n",
       "    </tr>\n",
       "    <tr>\n",
       "      <th>18</th>\n",
       "      <td>2.0</td>\n",
       "      <td>20.902685</td>\n",
       "    </tr>\n",
       "    <tr>\n",
       "      <th>19</th>\n",
       "      <td>26.0</td>\n",
       "      <td>27.527652</td>\n",
       "    </tr>\n",
       "    <tr>\n",
       "      <th>20</th>\n",
       "      <td>47.0</td>\n",
       "      <td>73.902427</td>\n",
       "    </tr>\n",
       "    <tr>\n",
       "      <th>21</th>\n",
       "      <td>10.0</td>\n",
       "      <td>27.527652</td>\n",
       "    </tr>\n",
       "    <tr>\n",
       "      <th>22</th>\n",
       "      <td>10.0</td>\n",
       "      <td>20.902685</td>\n",
       "    </tr>\n",
       "    <tr>\n",
       "      <th>23</th>\n",
       "      <td>7.0</td>\n",
       "      <td>20.902685</td>\n",
       "    </tr>\n",
       "    <tr>\n",
       "      <th>24</th>\n",
       "      <td>40.0</td>\n",
       "      <td>27.527652</td>\n",
       "    </tr>\n",
       "    <tr>\n",
       "      <th>25</th>\n",
       "      <td>50.0</td>\n",
       "      <td>40.777588</td>\n",
       "    </tr>\n",
       "    <tr>\n",
       "      <th>26</th>\n",
       "      <td>25.0</td>\n",
       "      <td>34.152620</td>\n",
       "    </tr>\n",
       "    <tr>\n",
       "      <th>27</th>\n",
       "      <td>64.0</td>\n",
       "      <td>60.652492</td>\n",
       "    </tr>\n",
       "    <tr>\n",
       "      <th>28</th>\n",
       "      <td>1.0</td>\n",
       "      <td>20.902685</td>\n",
       "    </tr>\n",
       "    <tr>\n",
       "      <th>29</th>\n",
       "      <td>1.0</td>\n",
       "      <td>20.902685</td>\n",
       "    </tr>\n",
       "  </tbody>\n",
       "</table>\n",
       "</div>"
      ],
      "text/plain": [
       "    Actual  Predicted\n",
       "0     52.0  40.777588\n",
       "1     88.0  40.777588\n",
       "2      7.0  20.902685\n",
       "3     41.0  34.152620\n",
       "4     65.0  40.777588\n",
       "5     29.0  20.902685\n",
       "6     23.0  27.527652\n",
       "7     28.0  20.902685\n",
       "8      3.0  20.902685\n",
       "9     24.0  47.402556\n",
       "10     9.0  27.527652\n",
       "11     1.0  20.902685\n",
       "12     6.0  20.902685\n",
       "13    53.0  20.902685\n",
       "14    67.0  47.402556\n",
       "15    24.0  54.027524\n",
       "16    91.0  73.902427\n",
       "17    52.0  47.402556\n",
       "18     2.0  20.902685\n",
       "19    26.0  27.527652\n",
       "20    47.0  73.902427\n",
       "21    10.0  27.527652\n",
       "22    10.0  20.902685\n",
       "23     7.0  20.902685\n",
       "24    40.0  27.527652\n",
       "25    50.0  40.777588\n",
       "26    25.0  34.152620\n",
       "27    64.0  60.652492\n",
       "28     1.0  20.902685\n",
       "29     1.0  20.902685"
      ]
     },
     "execution_count": 195,
     "metadata": {},
     "output_type": "execute_result"
    }
   ],
   "source": [
    "# Create a dataframe comparing the actual and predicted values of y.\n",
    "\n",
    "data = pd.DataFrame({'Actual': y8_test.flatten(), 'Predicted': y8_predicted.flatten()})\n",
    "data.head(30)"
   ]
  },
  {
   "cell_type": "markdown",
   "id": "eaef846a",
   "metadata": {},
   "source": [
    "##### Compare how the regression fits the training set"
   ]
  },
  {
   "cell_type": "code",
   "execution_count": 196,
   "id": "1090049d",
   "metadata": {},
   "outputs": [],
   "source": [
    "# Predict.\n",
    "\n",
    "y8_predicted_train = regression8.predict(X8_train) # This is predicting X_train!"
   ]
  },
  {
   "cell_type": "code",
   "execution_count": 197,
   "id": "b4dd0bc9",
   "metadata": {},
   "outputs": [],
   "source": [
    "rmse = mean_squared_error(y8_train, y8_predicted_train)\n",
    "r2 = r2_score(y8_train, y8_predicted_train)"
   ]
  },
  {
   "cell_type": "code",
   "execution_count": 198,
   "id": "ea857e50",
   "metadata": {},
   "outputs": [
    {
     "name": "stdout",
     "output_type": "stream",
     "text": [
      "Slope: [[6.62496782]]\n",
      "Mean squared error:  508.69480951208686\n",
      "R2 score:  0.4408293698255624\n"
     ]
    }
   ],
   "source": [
    "print('Slope:' ,regression8.coef_)\n",
    "print('Mean squared error: ', rmse)\n",
    "print('R2 score: ', r2)"
   ]
  },
  {
   "cell_type": "markdown",
   "id": "5fd64a75",
   "metadata": {},
   "source": [
    "### R2 score:  0.44 - Weak positive correlation\n",
    "#### The test did not perform too well. The actual and predicted values are quite different"
   ]
  },
  {
   "cell_type": "code",
   "execution_count": 201,
   "id": "b5a86423",
   "metadata": {
    "scrolled": true
   },
   "outputs": [
    {
     "data": {
      "image/png": "[encoded data removed]",
      "text/plain": [
       "<Figure size 432x288 with 1 Axes>"
      ]
     },
     "metadata": {
      "needs_background": "light"
     },
     "output_type": "display_data"
    }
   ],
   "source": [
    "# Visualizing the training set results.\n",
    "\n",
    "plot_test = plt\n",
    "plot_test.scatter(X8_train, y8_train, color='green', s = 15)\n",
    "plot_test.plot(X8_train, y8_predicted_train, color='red', linewidth =3)\n",
    "plot_test.title('Triples vs Runs (Test set)')\n",
    "plot_test.xlabel('Triples')\n",
    "plot_test.ylabel('Runs')\n",
    "plot_test.show()"
   ]
  },
  {
   "cell_type": "markdown",
   "id": "e2231157",
   "metadata": {},
   "source": [
    "#### Runs Batted In & Runs"
   ]
  },
  {
   "cell_type": "code",
   "execution_count": 202,
   "id": "d4193a87",
   "metadata": {},
   "outputs": [
    {
     "data": {
      "image/png": "[encoded data removed]",
      "text/plain": [
       "<Figure size 432x288 with 1 Axes>"
      ]
     },
     "metadata": {
      "needs_background": "light"
     },
     "output_type": "display_data"
    }
   ],
   "source": [
    "# runs batted in & runs\n",
    "\n",
    "bb.plot(x = 'Runs Batted In', y='Runs',style='o') # The style option creates a scatterplot; without it, we only have lines.\n",
    "plt.title('Runs Batted In vs. Runs')  \n",
    "plt.xlabel('Runs Batted In')  \n",
    "plt.ylabel('Runs')  \n",
    "plt.show()"
   ]
  },
  {
   "cell_type": "code",
   "execution_count": 203,
   "id": "7f7273ed",
   "metadata": {},
   "outputs": [],
   "source": [
    "# Reshape the variables into NumPy arrays and put them into separate objects.\n",
    "\n",
    "X9 = bb['Runs Batted In'].values.reshape(-1,1)\n",
    "y9 = bb['Runs'].values.reshape(-1,1)"
   ]
  },
  {
   "cell_type": "code",
   "execution_count": 204,
   "id": "851bfd58",
   "metadata": {},
   "outputs": [
    {
     "data": {
      "text/plain": [
       "array([[ 69.],\n",
       "       [106.],\n",
       "       [ 92.],\n",
       "       ...,\n",
       "       [ 95.],\n",
       "       [ 94.],\n",
       "       [  8.]])"
      ]
     },
     "execution_count": 204,
     "metadata": {},
     "output_type": "execute_result"
    }
   ],
   "source": [
    "X9"
   ]
  },
  {
   "cell_type": "code",
   "execution_count": 205,
   "id": "9427ec42",
   "metadata": {},
   "outputs": [
    {
     "data": {
      "text/plain": [
       "array([[ 58.],\n",
       "       [105.],\n",
       "       [106.],\n",
       "       ...,\n",
       "       [ 91.],\n",
       "       [ 65.],\n",
       "       [  4.]])"
      ]
     },
     "execution_count": 205,
     "metadata": {},
     "output_type": "execute_result"
    }
   ],
   "source": [
    "y9"
   ]
  },
  {
   "cell_type": "code",
   "execution_count": 206,
   "id": "857ab52a",
   "metadata": {},
   "outputs": [],
   "source": [
    "# Split data into a training set and a test set.\n",
    "\n",
    "X9_train, X9_test, y9_train, y9_test = train_test_split(X9, y9, test_size=0.3, random_state=0)"
   ]
  },
  {
   "cell_type": "markdown",
   "id": "6740a27b",
   "metadata": {},
   "source": [
    "### Regression analysis"
   ]
  },
  {
   "cell_type": "code",
   "execution_count": 208,
   "id": "c403ca6e",
   "metadata": {},
   "outputs": [],
   "source": [
    "# Create a regression object.\n",
    "\n",
    "regression9 = LinearRegression()  # This is the regression object, which will be fit onto the training set."
   ]
  },
  {
   "cell_type": "code",
   "execution_count": 209,
   "id": "9e5aa46a",
   "metadata": {},
   "outputs": [
    {
     "data": {
      "text/plain": [
       "LinearRegression()"
      ]
     },
     "execution_count": 209,
     "metadata": {},
     "output_type": "execute_result"
    }
   ],
   "source": [
    "# Fit the regression object onto the training set.\n",
    "\n",
    "regression9.fit(X9_train, y9_train)"
   ]
  },
  {
   "cell_type": "code",
   "execution_count": 210,
   "id": "74bb1595",
   "metadata": {},
   "outputs": [],
   "source": [
    "# Predict the values of y using X.\n",
    "\n",
    "y9_predicted = regression9.predict(X9_test)"
   ]
  },
  {
   "cell_type": "code",
   "execution_count": 211,
   "id": "c45d3cc3",
   "metadata": {},
   "outputs": [
    {
     "data": {
      "image/png": "[encoded data removed]",
      "text/plain": [
       "<Figure size 432x288 with 1 Axes>"
      ]
     },
     "metadata": {
      "needs_background": "light"
     },
     "output_type": "display_data"
    }
   ],
   "source": [
    "# Create a plot that shows the regression line from the model on the test set.\n",
    "\n",
    "plot_test = plt\n",
    "plot_test.scatter(X9_test, y9_test, color='gray', s = 15)\n",
    "plot_test.plot(X9_test, y9_predicted, color='red', linewidth =3)\n",
    "plot_test.title('Runs Batted In vs. Runs (Test set)')\n",
    "plot_test.xlabel('Runs Batted In')\n",
    "plot_test.ylabel('Runs')\n",
    "plot_test.show()"
   ]
  },
  {
   "cell_type": "markdown",
   "id": "160c63d9",
   "metadata": {},
   "source": [
    "#### The line fits the data fairly well. There are a lot of higher run values further from the red line"
   ]
  },
  {
   "cell_type": "code",
   "execution_count": 212,
   "id": "513c5920",
   "metadata": {},
   "outputs": [],
   "source": [
    "# Create objects that contain the model summary statistics.\n",
    "\n",
    "rmse = mean_squared_error(y9_test, y9_predicted) # This is the mean squared error\n",
    "r2 = r2_score(y9_test, y9_predicted) # This is the R2 score. "
   ]
  },
  {
   "cell_type": "code",
   "execution_count": 213,
   "id": "86df6d57",
   "metadata": {},
   "outputs": [
    {
     "name": "stdout",
     "output_type": "stream",
     "text": [
      "Slope: [[0.93773747]]\n",
      "Mean squared error:  191.4522949922049\n",
      "R2 score:  0.7911872786465975\n"
     ]
    }
   ],
   "source": [
    "# Print the model summary statistics. This is where you evaluate the performance of the model.\n",
    "\n",
    "print('Slope:' ,regression9.coef_)\n",
    "print('Mean squared error: ', rmse)\n",
    "print('R2 score: ', r2)"
   ]
  },
  {
   "cell_type": "code",
   "execution_count": 214,
   "id": "cb490b5a",
   "metadata": {},
   "outputs": [
    {
     "data": {
      "text/plain": [
       "array([[ 55.08879527],\n",
       "       [103.85114346],\n",
       "       [ 20.39250905],\n",
       "       ...,\n",
       "       [ 74.78128204],\n",
       "       [ 17.57929665],\n",
       "       [  6.32644707]])"
      ]
     },
     "execution_count": 214,
     "metadata": {},
     "output_type": "execute_result"
    }
   ],
   "source": [
    "y9_predicted"
   ]
  },
  {
   "cell_type": "code",
   "execution_count": 215,
   "id": "9f08e352",
   "metadata": {
    "scrolled": true
   },
   "outputs": [
    {
     "data": {
      "text/html": [
       "<div>\n",
       "<style scoped>\n",
       "    .dataframe tbody tr th:only-of-type {\n",
       "        vertical-align: middle;\n",
       "    }\n",
       "\n",
       "    .dataframe tbody tr th {\n",
       "        vertical-align: top;\n",
       "    }\n",
       "\n",
       "    .dataframe thead th {\n",
       "        text-align: right;\n",
       "    }\n",
       "</style>\n",
       "<table border=\"1\" class=\"dataframe\">\n",
       "  <thead>\n",
       "    <tr style=\"text-align: right;\">\n",
       "      <th></th>\n",
       "      <th>Actual</th>\n",
       "      <th>Predicted</th>\n",
       "    </tr>\n",
       "  </thead>\n",
       "  <tbody>\n",
       "    <tr>\n",
       "      <th>0</th>\n",
       "      <td>52.0</td>\n",
       "      <td>55.088795</td>\n",
       "    </tr>\n",
       "    <tr>\n",
       "      <th>1</th>\n",
       "      <td>88.0</td>\n",
       "      <td>103.851143</td>\n",
       "    </tr>\n",
       "    <tr>\n",
       "      <th>2</th>\n",
       "      <td>7.0</td>\n",
       "      <td>20.392509</td>\n",
       "    </tr>\n",
       "    <tr>\n",
       "      <th>3</th>\n",
       "      <td>41.0</td>\n",
       "      <td>26.956671</td>\n",
       "    </tr>\n",
       "    <tr>\n",
       "      <th>4</th>\n",
       "      <td>65.0</td>\n",
       "      <td>51.337845</td>\n",
       "    </tr>\n",
       "    <tr>\n",
       "      <th>5</th>\n",
       "      <td>29.0</td>\n",
       "      <td>31.645359</td>\n",
       "    </tr>\n",
       "    <tr>\n",
       "      <th>6</th>\n",
       "      <td>23.0</td>\n",
       "      <td>23.205721</td>\n",
       "    </tr>\n",
       "    <tr>\n",
       "      <th>7</th>\n",
       "      <td>28.0</td>\n",
       "      <td>29.769884</td>\n",
       "    </tr>\n",
       "    <tr>\n",
       "      <th>8</th>\n",
       "      <td>3.0</td>\n",
       "      <td>6.326447</td>\n",
       "    </tr>\n",
       "    <tr>\n",
       "      <th>9</th>\n",
       "      <td>24.0</td>\n",
       "      <td>24.143459</td>\n",
       "    </tr>\n",
       "    <tr>\n",
       "      <th>10</th>\n",
       "      <td>9.0</td>\n",
       "      <td>11.015134</td>\n",
       "    </tr>\n",
       "    <tr>\n",
       "      <th>11</th>\n",
       "      <td>1.0</td>\n",
       "      <td>6.326447</td>\n",
       "    </tr>\n",
       "    <tr>\n",
       "      <th>12</th>\n",
       "      <td>6.0</td>\n",
       "      <td>10.077397</td>\n",
       "    </tr>\n",
       "    <tr>\n",
       "      <th>13</th>\n",
       "      <td>53.0</td>\n",
       "      <td>72.905807</td>\n",
       "    </tr>\n",
       "    <tr>\n",
       "      <th>14</th>\n",
       "      <td>67.0</td>\n",
       "      <td>39.147258</td>\n",
       "    </tr>\n",
       "    <tr>\n",
       "      <th>15</th>\n",
       "      <td>24.0</td>\n",
       "      <td>46.649158</td>\n",
       "    </tr>\n",
       "    <tr>\n",
       "      <th>16</th>\n",
       "      <td>91.0</td>\n",
       "      <td>52.275583</td>\n",
       "    </tr>\n",
       "    <tr>\n",
       "      <th>17</th>\n",
       "      <td>52.0</td>\n",
       "      <td>59.777483</td>\n",
       "    </tr>\n",
       "    <tr>\n",
       "      <th>18</th>\n",
       "      <td>2.0</td>\n",
       "      <td>9.139659</td>\n",
       "    </tr>\n",
       "    <tr>\n",
       "      <th>19</th>\n",
       "      <td>26.0</td>\n",
       "      <td>16.641559</td>\n",
       "    </tr>\n",
       "    <tr>\n",
       "      <th>20</th>\n",
       "      <td>47.0</td>\n",
       "      <td>47.586896</td>\n",
       "    </tr>\n",
       "    <tr>\n",
       "      <th>21</th>\n",
       "      <td>10.0</td>\n",
       "      <td>14.766084</td>\n",
       "    </tr>\n",
       "    <tr>\n",
       "      <th>22</th>\n",
       "      <td>10.0</td>\n",
       "      <td>16.641559</td>\n",
       "    </tr>\n",
       "    <tr>\n",
       "      <th>23</th>\n",
       "      <td>7.0</td>\n",
       "      <td>11.015134</td>\n",
       "    </tr>\n",
       "    <tr>\n",
       "      <th>24</th>\n",
       "      <td>40.0</td>\n",
       "      <td>31.645359</td>\n",
       "    </tr>\n",
       "    <tr>\n",
       "      <th>25</th>\n",
       "      <td>50.0</td>\n",
       "      <td>62.590695</td>\n",
       "    </tr>\n",
       "    <tr>\n",
       "      <th>26</th>\n",
       "      <td>25.0</td>\n",
       "      <td>35.396308</td>\n",
       "    </tr>\n",
       "    <tr>\n",
       "      <th>27</th>\n",
       "      <td>64.0</td>\n",
       "      <td>47.586896</td>\n",
       "    </tr>\n",
       "    <tr>\n",
       "      <th>28</th>\n",
       "      <td>1.0</td>\n",
       "      <td>7.264185</td>\n",
       "    </tr>\n",
       "    <tr>\n",
       "      <th>29</th>\n",
       "      <td>1.0</td>\n",
       "      <td>6.326447</td>\n",
       "    </tr>\n",
       "  </tbody>\n",
       "</table>\n",
       "</div>"
      ],
      "text/plain": [
       "    Actual   Predicted\n",
       "0     52.0   55.088795\n",
       "1     88.0  103.851143\n",
       "2      7.0   20.392509\n",
       "3     41.0   26.956671\n",
       "4     65.0   51.337845\n",
       "5     29.0   31.645359\n",
       "6     23.0   23.205721\n",
       "7     28.0   29.769884\n",
       "8      3.0    6.326447\n",
       "9     24.0   24.143459\n",
       "10     9.0   11.015134\n",
       "11     1.0    6.326447\n",
       "12     6.0   10.077397\n",
       "13    53.0   72.905807\n",
       "14    67.0   39.147258\n",
       "15    24.0   46.649158\n",
       "16    91.0   52.275583\n",
       "17    52.0   59.777483\n",
       "18     2.0    9.139659\n",
       "19    26.0   16.641559\n",
       "20    47.0   47.586896\n",
       "21    10.0   14.766084\n",
       "22    10.0   16.641559\n",
       "23     7.0   11.015134\n",
       "24    40.0   31.645359\n",
       "25    50.0   62.590695\n",
       "26    25.0   35.396308\n",
       "27    64.0   47.586896\n",
       "28     1.0    7.264185\n",
       "29     1.0    6.326447"
      ]
     },
     "execution_count": 215,
     "metadata": {},
     "output_type": "execute_result"
    }
   ],
   "source": [
    "# Create a dataframe comparing the actual and predicted values of y.\n",
    "\n",
    "data = pd.DataFrame({'Actual': y9_test.flatten(), 'Predicted': y9_predicted.flatten()})\n",
    "data.head(30)"
   ]
  },
  {
   "cell_type": "markdown",
   "id": "0807c2c3",
   "metadata": {},
   "source": [
    "##### Compare how the regression fits the training set"
   ]
  },
  {
   "cell_type": "code",
   "execution_count": 216,
   "id": "33340b87",
   "metadata": {},
   "outputs": [],
   "source": [
    "# Predict.\n",
    "\n",
    "y9_predicted_train = regression9.predict(X9_train) # This is predicting X_train!"
   ]
  },
  {
   "cell_type": "code",
   "execution_count": 217,
   "id": "e6852652",
   "metadata": {},
   "outputs": [],
   "source": [
    "rmse = mean_squared_error(y9_train, y9_predicted_train)\n",
    "r2 = r2_score(y9_train, y9_predicted_train)"
   ]
  },
  {
   "cell_type": "code",
   "execution_count": 218,
   "id": "3e80cc9f",
   "metadata": {},
   "outputs": [
    {
     "name": "stdout",
     "output_type": "stream",
     "text": [
      "Slope: [[0.93773747]]\n",
      "Mean squared error:  190.3467936196548\n",
      "R2 score:  0.7907658294330266\n"
     ]
    }
   ],
   "source": [
    "print('Slope:' ,regression9.coef_)\n",
    "print('Mean squared error: ', rmse)\n",
    "print('R2 score: ', r2)"
   ]
  },
  {
   "cell_type": "markdown",
   "id": "34edda6e",
   "metadata": {},
   "source": [
    "### R2 score:  0.79 - Fairly strong positive correlation\n",
    "#### This makes sense as runs batted in will also count as a run. I would have thought a stronger R2 score.\n",
    "#### The test performed fairly well"
   ]
  },
  {
   "cell_type": "code",
   "execution_count": 219,
   "id": "5af501a4",
   "metadata": {
    "scrolled": true
   },
   "outputs": [
    {
     "data": {
      "image/png": "[encoded data removed]",
      "text/plain": [
       "<Figure size 432x288 with 1 Axes>"
      ]
     },
     "metadata": {
      "needs_background": "light"
     },
     "output_type": "display_data"
    }
   ],
   "source": [
    "# Visualizing the training set results.\n",
    "\n",
    "plot_test = plt\n",
    "plot_test.scatter(X9_train, y9_train, color='green', s = 15)\n",
    "plot_test.plot(X9_train, y9_predicted_train, color='red', linewidth =3)\n",
    "plot_test.title('Runs Batted In vs Runs (Test set)')\n",
    "plot_test.xlabel('Runs Batted In')\n",
    "plot_test.ylabel('Runs')\n",
    "plot_test.show()"
   ]
  },
  {
   "cell_type": "markdown",
   "id": "7cb534e1",
   "metadata": {},
   "source": [
    "#### Exploring other variables"
   ]
  },
  {
   "cell_type": "markdown",
   "id": "c09b9966",
   "metadata": {},
   "source": [
    "#### Walks and Runs Batted In"
   ]
  },
  {
   "cell_type": "code",
   "execution_count": 220,
   "id": "09cfb01b",
   "metadata": {},
   "outputs": [
    {
     "data": {
      "image/png": "[encoded data removed]",
      "text/plain": [
       "<Figure size 432x288 with 1 Axes>"
      ]
     },
     "metadata": {
      "needs_background": "light"
     },
     "output_type": "display_data"
    }
   ],
   "source": [
    "# Walks and Runs Batted In\n",
    "\n",
    "bb.plot(x = 'Walk', y='Runs Batted In',style='o') # The style option creates a scatterplot; without it, we only have lines.\n",
    "plt.title('Walks vs. Runs Batted In')  \n",
    "plt.xlabel('Walks')  \n",
    "plt.ylabel('Runs Batted In')  \n",
    "plt.show()"
   ]
  },
  {
   "cell_type": "code",
   "execution_count": 221,
   "id": "c00fa437",
   "metadata": {},
   "outputs": [],
   "source": [
    "# Reshape the variables into NumPy arrays and put them into separate objects.\n",
    "\n",
    "X10 = bb['Walk'].values.reshape(-1,1)\n",
    "y10 = bb['Runs Batted In'].values.reshape(-1,1)"
   ]
  },
  {
   "cell_type": "code",
   "execution_count": 222,
   "id": "bb545065",
   "metadata": {},
   "outputs": [
    {
     "data": {
      "text/plain": [
       "array([[28.],\n",
       "       [49.],\n",
       "       [37.],\n",
       "       ...,\n",
       "       [46.],\n",
       "       [67.],\n",
       "       [ 4.]])"
      ]
     },
     "execution_count": 222,
     "metadata": {},
     "output_type": "execute_result"
    }
   ],
   "source": [
    "X10"
   ]
  },
  {
   "cell_type": "code",
   "execution_count": 223,
   "id": "30cc2be6",
   "metadata": {},
   "outputs": [
    {
     "data": {
      "text/plain": [
       "array([[ 69.],\n",
       "       [106.],\n",
       "       [ 92.],\n",
       "       ...,\n",
       "       [ 95.],\n",
       "       [ 94.],\n",
       "       [  8.]])"
      ]
     },
     "execution_count": 223,
     "metadata": {},
     "output_type": "execute_result"
    }
   ],
   "source": [
    "y10"
   ]
  },
  {
   "cell_type": "code",
   "execution_count": 224,
   "id": "86efd2c8",
   "metadata": {},
   "outputs": [],
   "source": [
    "# Split data into a training set and a test set.\n",
    "\n",
    "X10_train, X10_test, y10_train, y10_test = train_test_split(X10, y10, test_size=0.3, random_state=0)"
   ]
  },
  {
   "cell_type": "markdown",
   "id": "2edf464e",
   "metadata": {},
   "source": [
    "### Regression analysis"
   ]
  },
  {
   "cell_type": "code",
   "execution_count": 225,
   "id": "bb0a86d0",
   "metadata": {},
   "outputs": [],
   "source": [
    "# Create a regression object.\n",
    "\n",
    "regression10 = LinearRegression()  # This is the regression object, which will be fit onto the training set."
   ]
  },
  {
   "cell_type": "code",
   "execution_count": 226,
   "id": "fa0f03a6",
   "metadata": {},
   "outputs": [
    {
     "data": {
      "text/plain": [
       "LinearRegression()"
      ]
     },
     "execution_count": 226,
     "metadata": {},
     "output_type": "execute_result"
    }
   ],
   "source": [
    "# Fit the regression object onto the training set.\n",
    "\n",
    "regression10.fit(X10_train, y10_train)"
   ]
  },
  {
   "cell_type": "code",
   "execution_count": 227,
   "id": "2e1bdd79",
   "metadata": {},
   "outputs": [],
   "source": [
    "# Predict the values of y using X.\n",
    "\n",
    "y10_predicted = regression10.predict(X10_test)"
   ]
  },
  {
   "cell_type": "code",
   "execution_count": 228,
   "id": "46543838",
   "metadata": {},
   "outputs": [
    {
     "data": {
      "image/png": "[encoded data removed]",
      "text/plain": [
       "<Figure size 432x288 with 1 Axes>"
      ]
     },
     "metadata": {
      "needs_background": "light"
     },
     "output_type": "display_data"
    }
   ],
   "source": [
    "# Create a plot that shows the regression line from the model on the test set.\n",
    "\n",
    "plot_test = plt\n",
    "plot_test.scatter(X10_test, y10_test, color='gray', s = 15)\n",
    "plot_test.plot(X10_test, y10_predicted, color='red', linewidth =3)\n",
    "plot_test.title('Walks vs. Runs Batted In (Test set)')\n",
    "plot_test.xlabel('Walks')\n",
    "plot_test.ylabel('Runs Batted In')\n",
    "plot_test.show()"
   ]
  },
  {
   "cell_type": "markdown",
   "id": "62ac4188",
   "metadata": {},
   "source": [
    "### The line does fit as it has a positive slope, howeever, there is a large range of values"
   ]
  },
  {
   "cell_type": "code",
   "execution_count": 229,
   "id": "17fc0bf0",
   "metadata": {},
   "outputs": [],
   "source": [
    "# Create objects that contain the model summary statistics.\n",
    "\n",
    "rmse = mean_squared_error(y10_test, y10_predicted) # This is the mean squared error\n",
    "r2 = r2_score(y10_test, y10_predicted) # This is the R2 score. "
   ]
  },
  {
   "cell_type": "code",
   "execution_count": 230,
   "id": "077e2066",
   "metadata": {},
   "outputs": [
    {
     "name": "stdout",
     "output_type": "stream",
     "text": [
      "Slope: [[0.94849357]]\n",
      "Mean squared error:  329.21849477233667\n",
      "R2 score:  0.6022926222447894\n"
     ]
    }
   ],
   "source": [
    "# Print the model summary statistics. This is where you evaluate the performance of the model.\n",
    "\n",
    "print('Slope:' ,regression10.coef_)\n",
    "print('Mean squared error: ', rmse)\n",
    "print('R2 score: ', r2)"
   ]
  },
  {
   "cell_type": "code",
   "execution_count": 231,
   "id": "5eb76b7c",
   "metadata": {},
   "outputs": [
    {
     "data": {
      "text/plain": [
       "array([[29.98672739],\n",
       "       [72.66893796],\n",
       "       [26.19275312],\n",
       "       ...,\n",
       "       [56.5445473 ],\n",
       "       [14.8108303 ],\n",
       "       [ 9.11986889]])"
      ]
     },
     "execution_count": 231,
     "metadata": {},
     "output_type": "execute_result"
    }
   ],
   "source": [
    "y10_predicted"
   ]
  },
  {
   "cell_type": "code",
   "execution_count": 232,
   "id": "b98b4ee9",
   "metadata": {
    "scrolled": true
   },
   "outputs": [
    {
     "data": {
      "text/html": [
       "<div>\n",
       "<style scoped>\n",
       "    .dataframe tbody tr th:only-of-type {\n",
       "        vertical-align: middle;\n",
       "    }\n",
       "\n",
       "    .dataframe tbody tr th {\n",
       "        vertical-align: top;\n",
       "    }\n",
       "\n",
       "    .dataframe thead th {\n",
       "        text-align: right;\n",
       "    }\n",
       "</style>\n",
       "<table border=\"1\" class=\"dataframe\">\n",
       "  <thead>\n",
       "    <tr style=\"text-align: right;\">\n",
       "      <th></th>\n",
       "      <th>Actual</th>\n",
       "      <th>Predicted</th>\n",
       "    </tr>\n",
       "  </thead>\n",
       "  <tbody>\n",
       "    <tr>\n",
       "      <th>0</th>\n",
       "      <td>53.0</td>\n",
       "      <td>29.986727</td>\n",
       "    </tr>\n",
       "    <tr>\n",
       "      <th>1</th>\n",
       "      <td>105.0</td>\n",
       "      <td>72.668938</td>\n",
       "    </tr>\n",
       "    <tr>\n",
       "      <th>2</th>\n",
       "      <td>16.0</td>\n",
       "      <td>26.192753</td>\n",
       "    </tr>\n",
       "    <tr>\n",
       "      <th>3</th>\n",
       "      <td>23.0</td>\n",
       "      <td>42.317144</td>\n",
       "    </tr>\n",
       "    <tr>\n",
       "      <th>4</th>\n",
       "      <td>49.0</td>\n",
       "      <td>66.977977</td>\n",
       "    </tr>\n",
       "    <tr>\n",
       "      <th>5</th>\n",
       "      <td>28.0</td>\n",
       "      <td>53.699067</td>\n",
       "    </tr>\n",
       "    <tr>\n",
       "      <th>6</th>\n",
       "      <td>19.0</td>\n",
       "      <td>15.759324</td>\n",
       "    </tr>\n",
       "    <tr>\n",
       "      <th>7</th>\n",
       "      <td>26.0</td>\n",
       "      <td>26.192753</td>\n",
       "    </tr>\n",
       "    <tr>\n",
       "      <th>8</th>\n",
       "      <td>1.0</td>\n",
       "      <td>12.913843</td>\n",
       "    </tr>\n",
       "    <tr>\n",
       "      <th>9</th>\n",
       "      <td>20.0</td>\n",
       "      <td>12.913843</td>\n",
       "    </tr>\n",
       "    <tr>\n",
       "      <th>10</th>\n",
       "      <td>6.0</td>\n",
       "      <td>11.016856</td>\n",
       "    </tr>\n",
       "    <tr>\n",
       "      <th>11</th>\n",
       "      <td>1.0</td>\n",
       "      <td>10.068362</td>\n",
       "    </tr>\n",
       "    <tr>\n",
       "      <th>12</th>\n",
       "      <td>5.0</td>\n",
       "      <td>11.016856</td>\n",
       "    </tr>\n",
       "    <tr>\n",
       "      <th>13</th>\n",
       "      <td>72.0</td>\n",
       "      <td>59.390028</td>\n",
       "    </tr>\n",
       "    <tr>\n",
       "      <th>14</th>\n",
       "      <td>36.0</td>\n",
       "      <td>27.141247</td>\n",
       "    </tr>\n",
       "    <tr>\n",
       "      <th>15</th>\n",
       "      <td>44.0</td>\n",
       "      <td>29.038234</td>\n",
       "    </tr>\n",
       "    <tr>\n",
       "      <th>16</th>\n",
       "      <td>50.0</td>\n",
       "      <td>29.038234</td>\n",
       "    </tr>\n",
       "    <tr>\n",
       "      <th>17</th>\n",
       "      <td>58.0</td>\n",
       "      <td>36.626182</td>\n",
       "    </tr>\n",
       "    <tr>\n",
       "      <th>18</th>\n",
       "      <td>4.0</td>\n",
       "      <td>10.068362</td>\n",
       "    </tr>\n",
       "    <tr>\n",
       "      <th>19</th>\n",
       "      <td>12.0</td>\n",
       "      <td>12.913843</td>\n",
       "    </tr>\n",
       "    <tr>\n",
       "      <th>20</th>\n",
       "      <td>45.0</td>\n",
       "      <td>33.780702</td>\n",
       "    </tr>\n",
       "    <tr>\n",
       "      <th>21</th>\n",
       "      <td>10.0</td>\n",
       "      <td>15.759324</td>\n",
       "    </tr>\n",
       "    <tr>\n",
       "      <th>22</th>\n",
       "      <td>12.0</td>\n",
       "      <td>10.068362</td>\n",
       "    </tr>\n",
       "    <tr>\n",
       "      <th>23</th>\n",
       "      <td>6.0</td>\n",
       "      <td>16.707817</td>\n",
       "    </tr>\n",
       "    <tr>\n",
       "      <th>24</th>\n",
       "      <td>28.0</td>\n",
       "      <td>42.317144</td>\n",
       "    </tr>\n",
       "    <tr>\n",
       "      <th>25</th>\n",
       "      <td>61.0</td>\n",
       "      <td>67.926470</td>\n",
       "    </tr>\n",
       "    <tr>\n",
       "      <th>26</th>\n",
       "      <td>32.0</td>\n",
       "      <td>14.810830</td>\n",
       "    </tr>\n",
       "    <tr>\n",
       "      <th>27</th>\n",
       "      <td>45.0</td>\n",
       "      <td>47.059612</td>\n",
       "    </tr>\n",
       "    <tr>\n",
       "      <th>28</th>\n",
       "      <td>2.0</td>\n",
       "      <td>8.171375</td>\n",
       "    </tr>\n",
       "    <tr>\n",
       "      <th>29</th>\n",
       "      <td>1.0</td>\n",
       "      <td>11.016856</td>\n",
       "    </tr>\n",
       "  </tbody>\n",
       "</table>\n",
       "</div>"
      ],
      "text/plain": [
       "    Actual  Predicted\n",
       "0     53.0  29.986727\n",
       "1    105.0  72.668938\n",
       "2     16.0  26.192753\n",
       "3     23.0  42.317144\n",
       "4     49.0  66.977977\n",
       "5     28.0  53.699067\n",
       "6     19.0  15.759324\n",
       "7     26.0  26.192753\n",
       "8      1.0  12.913843\n",
       "9     20.0  12.913843\n",
       "10     6.0  11.016856\n",
       "11     1.0  10.068362\n",
       "12     5.0  11.016856\n",
       "13    72.0  59.390028\n",
       "14    36.0  27.141247\n",
       "15    44.0  29.038234\n",
       "16    50.0  29.038234\n",
       "17    58.0  36.626182\n",
       "18     4.0  10.068362\n",
       "19    12.0  12.913843\n",
       "20    45.0  33.780702\n",
       "21    10.0  15.759324\n",
       "22    12.0  10.068362\n",
       "23     6.0  16.707817\n",
       "24    28.0  42.317144\n",
       "25    61.0  67.926470\n",
       "26    32.0  14.810830\n",
       "27    45.0  47.059612\n",
       "28     2.0   8.171375\n",
       "29     1.0  11.016856"
      ]
     },
     "execution_count": 232,
     "metadata": {},
     "output_type": "execute_result"
    }
   ],
   "source": [
    "# Create a dataframe comparing the actual and predicted values of y.\n",
    "\n",
    "data = pd.DataFrame({'Actual': y10_test.flatten(), 'Predicted': y10_predicted.flatten()})\n",
    "data.head(30)"
   ]
  },
  {
   "cell_type": "markdown",
   "id": "d2554022",
   "metadata": {},
   "source": [
    "##### Compare how the regression fits the training set"
   ]
  },
  {
   "cell_type": "code",
   "execution_count": 233,
   "id": "e453188a",
   "metadata": {},
   "outputs": [],
   "source": [
    "# Predict.\n",
    "\n",
    "y10_predicted_train = regression10.predict(X10_train) # This is predicting X_train!"
   ]
  },
  {
   "cell_type": "code",
   "execution_count": 234,
   "id": "8689f4d0",
   "metadata": {},
   "outputs": [],
   "source": [
    "rmse = mean_squared_error(y10_train, y10_predicted_train)\n",
    "r2 = r2_score(y10_train, y10_predicted_train)"
   ]
  },
  {
   "cell_type": "code",
   "execution_count": 235,
   "id": "f36949fd",
   "metadata": {},
   "outputs": [
    {
     "name": "stdout",
     "output_type": "stream",
     "text": [
      "Slope: [[0.94849357]]\n",
      "Mean squared error:  320.99140464157165\n",
      "R2 score:  0.607630636071502\n"
     ]
    }
   ],
   "source": [
    "print('Slope:' ,regression10.coef_)\n",
    "print('Mean squared error: ', rmse)\n",
    "print('R2 score: ', r2)"
   ]
  },
  {
   "cell_type": "markdown",
   "id": "bb3dc3cc",
   "metadata": {},
   "source": [
    "### R2 score:  0.60 - Fairly strong positive correlation\n",
    "#### The actual and predicted values are very different.\n",
    "#### The test did not perform very well"
   ]
  },
  {
   "cell_type": "code",
   "execution_count": 236,
   "id": "882cb494",
   "metadata": {
    "scrolled": true
   },
   "outputs": [
    {
     "data": {
      "image/png": "[encoded data removed]",
      "text/plain": [
       "<Figure size 432x288 with 1 Axes>"
      ]
     },
     "metadata": {
      "needs_background": "light"
     },
     "output_type": "display_data"
    }
   ],
   "source": [
    "# Visualizing the training set results.\n",
    "\n",
    "plot_test = plt\n",
    "plot_test.scatter(X10_train, y10_train, color='green', s = 15)\n",
    "plot_test.plot(X10_train, y10_predicted_train, color='red', linewidth =3)\n",
    "plot_test.title('Walks vs Runs Batted In (Test set)')\n",
    "plot_test.xlabel('Walks')\n",
    "plot_test.ylabel('Runs Batted In')\n",
    "plot_test.show()"
   ]
  },
  {
   "cell_type": "code",
   "execution_count": 237,
   "id": "d4a0b67a",
   "metadata": {},
   "outputs": [
    {
     "data": {
      "image/png": "[encoded data removed]",
      "text/plain": [
       "<Figure size 432x288 with 1 Axes>"
      ]
     },
     "metadata": {
      "needs_background": "light"
     },
     "output_type": "display_data"
    }
   ],
   "source": [
    "# Hits and Runs Batted In\n",
    "\n",
    "bb.plot(x = 'Hits', y='Runs Batted In',style='o') # The style option creates a scatterplot; without it, we only have lines.\n",
    "plt.title('Hits vs. Runs Batted In')  \n",
    "plt.xlabel('Hits')  \n",
    "plt.ylabel('Runs Batted In')  \n",
    "plt.show()"
   ]
  },
  {
   "cell_type": "code",
   "execution_count": 238,
   "id": "b040f286",
   "metadata": {},
   "outputs": [],
   "source": [
    "# Reshape the variables into NumPy arrays and put them into separate objects.\n",
    "\n",
    "X11 = bb['Hits'].values.reshape(-1,1)\n",
    "y11 = bb['Runs Batted In'].values.reshape(-1,1)"
   ]
  },
  {
   "cell_type": "code",
   "execution_count": 239,
   "id": "ba3b65dc",
   "metadata": {},
   "outputs": [
    {
     "data": {
      "text/plain": [
       "array([[131.],\n",
       "       [189.],\n",
       "       [200.],\n",
       "       ...,\n",
       "       [185.],\n",
       "       [157.],\n",
       "       [  6.]])"
      ]
     },
     "execution_count": 239,
     "metadata": {},
     "output_type": "execute_result"
    }
   ],
   "source": [
    "X11"
   ]
  },
  {
   "cell_type": "code",
   "execution_count": 240,
   "id": "e13ebd97",
   "metadata": {},
   "outputs": [
    {
     "data": {
      "text/plain": [
       "array([[ 69.],\n",
       "       [106.],\n",
       "       [ 92.],\n",
       "       ...,\n",
       "       [ 95.],\n",
       "       [ 94.],\n",
       "       [  8.]])"
      ]
     },
     "execution_count": 240,
     "metadata": {},
     "output_type": "execute_result"
    }
   ],
   "source": [
    "y11"
   ]
  },
  {
   "cell_type": "code",
   "execution_count": 241,
   "id": "244bc493",
   "metadata": {},
   "outputs": [],
   "source": [
    "# Split data into a training set and a test set.\n",
    "\n",
    "X11_train, X11_test, y11_train, y11_test = train_test_split(X11, y11, test_size=0.3, random_state=0)"
   ]
  },
  {
   "cell_type": "markdown",
   "id": "45d8c2c2",
   "metadata": {},
   "source": [
    "### Regression analysis"
   ]
  },
  {
   "cell_type": "code",
   "execution_count": 242,
   "id": "1542b40f",
   "metadata": {},
   "outputs": [],
   "source": [
    "# Create a regression object.\n",
    "\n",
    "regression11 = LinearRegression()  # This is the regression object, which will be fit onto the training set."
   ]
  },
  {
   "cell_type": "code",
   "execution_count": 243,
   "id": "c7369fff",
   "metadata": {},
   "outputs": [
    {
     "data": {
      "text/plain": [
       "LinearRegression()"
      ]
     },
     "execution_count": 243,
     "metadata": {},
     "output_type": "execute_result"
    }
   ],
   "source": [
    "# Fit the regression object onto the training set.\n",
    "\n",
    "regression11.fit(X11_train, y11_train)"
   ]
  },
  {
   "cell_type": "code",
   "execution_count": 244,
   "id": "1606783b",
   "metadata": {},
   "outputs": [],
   "source": [
    "# Predict the values of y using X.\n",
    "\n",
    "y11_predicted = regression11.predict(X11_test)"
   ]
  },
  {
   "cell_type": "code",
   "execution_count": 245,
   "id": "df339a9d",
   "metadata": {},
   "outputs": [
    {
     "data": {
      "image/png": "[encoded data removed]",
      "text/plain": [
       "<Figure size 432x288 with 1 Axes>"
      ]
     },
     "metadata": {
      "needs_background": "light"
     },
     "output_type": "display_data"
    }
   ],
   "source": [
    "# Create a plot that shows the regression line from the model on the test set.\n",
    "\n",
    "plot_test = plt\n",
    "plot_test.scatter(X11_test, y11_test, color='gray', s = 15)\n",
    "plot_test.plot(X11_test, y11_predicted, color='red', linewidth =3)\n",
    "plot_test.title('Hits vs. Runs Batted In (Test set)')\n",
    "plot_test.xlabel('Hits')\n",
    "plot_test.ylabel('Runs Batted In')\n",
    "plot_test.show()"
   ]
  },
  {
   "cell_type": "markdown",
   "id": "5c9047d9",
   "metadata": {},
   "source": [
    "#### The line fits the data very well"
   ]
  },
  {
   "cell_type": "code",
   "execution_count": 246,
   "id": "fe9a5950",
   "metadata": {},
   "outputs": [],
   "source": [
    "# Create objects that contain the model summary statistics.\n",
    "\n",
    "rmse = mean_squared_error(y11_test, y11_predicted) # This is the mean squared error\n",
    "r2 = r2_score(y11_test, y11_predicted) # This is the R2 score. "
   ]
  },
  {
   "cell_type": "code",
   "execution_count": 247,
   "id": "2a357d93",
   "metadata": {},
   "outputs": [
    {
     "name": "stdout",
     "output_type": "stream",
     "text": [
      "Slope: [[0.48080244]]\n",
      "Mean squared error:  156.551774336528\n",
      "R2 score:  0.810880018458982\n"
     ]
    }
   ],
   "source": [
    "# Print the model summary statistics. This is where you evaluate the performance of the model.\n",
    "\n",
    "print('Slope:' ,regression11.coef_)\n",
    "print('Mean squared error: ', rmse)\n",
    "print('R2 score: ', r2)"
   ]
  },
  {
   "cell_type": "code",
   "execution_count": 248,
   "id": "2ed9d507",
   "metadata": {},
   "outputs": [
    {
     "data": {
      "text/plain": [
       "array([[58.47598206],\n",
       "       [74.82326512],\n",
       "       [ 8.472528  ],\n",
       "       ...,\n",
       "       [50.30234053],\n",
       "       [10.39573778],\n",
       "       [ 0.77968892]])"
      ]
     },
     "execution_count": 248,
     "metadata": {},
     "output_type": "execute_result"
    }
   ],
   "source": [
    "y11_predicted"
   ]
  },
  {
   "cell_type": "code",
   "execution_count": 249,
   "id": "17f05c60",
   "metadata": {
    "scrolled": true
   },
   "outputs": [
    {
     "data": {
      "text/html": [
       "<div>\n",
       "<style scoped>\n",
       "    .dataframe tbody tr th:only-of-type {\n",
       "        vertical-align: middle;\n",
       "    }\n",
       "\n",
       "    .dataframe tbody tr th {\n",
       "        vertical-align: top;\n",
       "    }\n",
       "\n",
       "    .dataframe thead th {\n",
       "        text-align: right;\n",
       "    }\n",
       "</style>\n",
       "<table border=\"1\" class=\"dataframe\">\n",
       "  <thead>\n",
       "    <tr style=\"text-align: right;\">\n",
       "      <th></th>\n",
       "      <th>Actual</th>\n",
       "      <th>Predicted</th>\n",
       "    </tr>\n",
       "  </thead>\n",
       "  <tbody>\n",
       "    <tr>\n",
       "      <th>0</th>\n",
       "      <td>53.0</td>\n",
       "      <td>58.475982</td>\n",
       "    </tr>\n",
       "    <tr>\n",
       "      <th>1</th>\n",
       "      <td>105.0</td>\n",
       "      <td>74.823265</td>\n",
       "    </tr>\n",
       "    <tr>\n",
       "      <th>2</th>\n",
       "      <td>16.0</td>\n",
       "      <td>8.472528</td>\n",
       "    </tr>\n",
       "    <tr>\n",
       "      <th>3</th>\n",
       "      <td>23.0</td>\n",
       "      <td>33.955057</td>\n",
       "    </tr>\n",
       "    <tr>\n",
       "      <th>4</th>\n",
       "      <td>49.0</td>\n",
       "      <td>49.340736</td>\n",
       "    </tr>\n",
       "    <tr>\n",
       "      <th>5</th>\n",
       "      <td>28.0</td>\n",
       "      <td>28.185428</td>\n",
       "    </tr>\n",
       "    <tr>\n",
       "      <th>6</th>\n",
       "      <td>19.0</td>\n",
       "      <td>25.781416</td>\n",
       "    </tr>\n",
       "    <tr>\n",
       "      <th>7</th>\n",
       "      <td>26.0</td>\n",
       "      <td>22.415799</td>\n",
       "    </tr>\n",
       "    <tr>\n",
       "      <th>8</th>\n",
       "      <td>1.0</td>\n",
       "      <td>0.779689</td>\n",
       "    </tr>\n",
       "    <tr>\n",
       "      <th>9</th>\n",
       "      <td>20.0</td>\n",
       "      <td>18.569379</td>\n",
       "    </tr>\n",
       "    <tr>\n",
       "      <th>10</th>\n",
       "      <td>6.0</td>\n",
       "      <td>9.434133</td>\n",
       "    </tr>\n",
       "    <tr>\n",
       "      <th>11</th>\n",
       "      <td>1.0</td>\n",
       "      <td>1.260491</td>\n",
       "    </tr>\n",
       "    <tr>\n",
       "      <th>12</th>\n",
       "      <td>5.0</td>\n",
       "      <td>5.587713</td>\n",
       "    </tr>\n",
       "    <tr>\n",
       "      <th>13</th>\n",
       "      <td>72.0</td>\n",
       "      <td>32.512650</td>\n",
       "    </tr>\n",
       "    <tr>\n",
       "      <th>14</th>\n",
       "      <td>36.0</td>\n",
       "      <td>64.245611</td>\n",
       "    </tr>\n",
       "    <tr>\n",
       "      <th>15</th>\n",
       "      <td>44.0</td>\n",
       "      <td>27.704626</td>\n",
       "    </tr>\n",
       "    <tr>\n",
       "      <th>16</th>\n",
       "      <td>50.0</td>\n",
       "      <td>85.400919</td>\n",
       "    </tr>\n",
       "    <tr>\n",
       "      <th>17</th>\n",
       "      <td>58.0</td>\n",
       "      <td>58.956785</td>\n",
       "    </tr>\n",
       "    <tr>\n",
       "      <th>18</th>\n",
       "      <td>4.0</td>\n",
       "      <td>5.106911</td>\n",
       "    </tr>\n",
       "    <tr>\n",
       "      <th>19</th>\n",
       "      <td>12.0</td>\n",
       "      <td>29.147033</td>\n",
       "    </tr>\n",
       "    <tr>\n",
       "      <th>20</th>\n",
       "      <td>45.0</td>\n",
       "      <td>30.108638</td>\n",
       "    </tr>\n",
       "    <tr>\n",
       "      <th>21</th>\n",
       "      <td>10.0</td>\n",
       "      <td>9.434133</td>\n",
       "    </tr>\n",
       "    <tr>\n",
       "      <th>22</th>\n",
       "      <td>12.0</td>\n",
       "      <td>9.914935</td>\n",
       "    </tr>\n",
       "    <tr>\n",
       "      <th>23</th>\n",
       "      <td>6.0</td>\n",
       "      <td>8.953330</td>\n",
       "    </tr>\n",
       "    <tr>\n",
       "      <th>24</th>\n",
       "      <td>28.0</td>\n",
       "      <td>36.839872</td>\n",
       "    </tr>\n",
       "    <tr>\n",
       "      <th>25</th>\n",
       "      <td>61.0</td>\n",
       "      <td>70.015241</td>\n",
       "    </tr>\n",
       "    <tr>\n",
       "      <th>26</th>\n",
       "      <td>32.0</td>\n",
       "      <td>20.492589</td>\n",
       "    </tr>\n",
       "    <tr>\n",
       "      <th>27</th>\n",
       "      <td>45.0</td>\n",
       "      <td>66.649624</td>\n",
       "    </tr>\n",
       "    <tr>\n",
       "      <th>28</th>\n",
       "      <td>2.0</td>\n",
       "      <td>1.741294</td>\n",
       "    </tr>\n",
       "    <tr>\n",
       "      <th>29</th>\n",
       "      <td>1.0</td>\n",
       "      <td>1.260491</td>\n",
       "    </tr>\n",
       "  </tbody>\n",
       "</table>\n",
       "</div>"
      ],
      "text/plain": [
       "    Actual  Predicted\n",
       "0     53.0  58.475982\n",
       "1    105.0  74.823265\n",
       "2     16.0   8.472528\n",
       "3     23.0  33.955057\n",
       "4     49.0  49.340736\n",
       "5     28.0  28.185428\n",
       "6     19.0  25.781416\n",
       "7     26.0  22.415799\n",
       "8      1.0   0.779689\n",
       "9     20.0  18.569379\n",
       "10     6.0   9.434133\n",
       "11     1.0   1.260491\n",
       "12     5.0   5.587713\n",
       "13    72.0  32.512650\n",
       "14    36.0  64.245611\n",
       "15    44.0  27.704626\n",
       "16    50.0  85.400919\n",
       "17    58.0  58.956785\n",
       "18     4.0   5.106911\n",
       "19    12.0  29.147033\n",
       "20    45.0  30.108638\n",
       "21    10.0   9.434133\n",
       "22    12.0   9.914935\n",
       "23     6.0   8.953330\n",
       "24    28.0  36.839872\n",
       "25    61.0  70.015241\n",
       "26    32.0  20.492589\n",
       "27    45.0  66.649624\n",
       "28     2.0   1.741294\n",
       "29     1.0   1.260491"
      ]
     },
     "execution_count": 249,
     "metadata": {},
     "output_type": "execute_result"
    }
   ],
   "source": [
    "# Create a dataframe comparing the actual and predicted values of y.\n",
    "\n",
    "data = pd.DataFrame({'Actual': y11_test.flatten(), 'Predicted': y11_predicted.flatten()})\n",
    "data.head(30)"
   ]
  },
  {
   "cell_type": "markdown",
   "id": "ba1e48dc",
   "metadata": {},
   "source": [
    "##### Compare how the regression fits the training set"
   ]
  },
  {
   "cell_type": "code",
   "execution_count": 250,
   "id": "292e80ff",
   "metadata": {},
   "outputs": [],
   "source": [
    "# Predict.\n",
    "\n",
    "y11_predicted_train = regression11.predict(X11_train) # This is predicting X_train!"
   ]
  },
  {
   "cell_type": "code",
   "execution_count": 251,
   "id": "3ee18a0c",
   "metadata": {},
   "outputs": [],
   "source": [
    "rmse = mean_squared_error(y11_train, y11_predicted_train)\n",
    "r2 = r2_score(y11_train, y11_predicted_train)"
   ]
  },
  {
   "cell_type": "code",
   "execution_count": 252,
   "id": "88984d0b",
   "metadata": {},
   "outputs": [
    {
     "name": "stdout",
     "output_type": "stream",
     "text": [
      "Slope: [[0.48080244]]\n",
      "Mean squared error:  156.51302289455464\n",
      "R2 score:  0.8086836147272041\n"
     ]
    }
   ],
   "source": [
    "print('Slope:' ,regression11.coef_)\n",
    "print('Mean squared error: ', rmse)\n",
    "print('R2 score: ', r2)"
   ]
  },
  {
   "cell_type": "markdown",
   "id": "9e7745fe",
   "metadata": {},
   "source": [
    "### R2 score:  0.80 - Fairly strong positive correlation\n",
    "#### The test performed pretty well"
   ]
  },
  {
   "cell_type": "code",
   "execution_count": 253,
   "id": "63b7cc0d",
   "metadata": {
    "scrolled": true
   },
   "outputs": [
    {
     "data": {
      "image/png": "[encoded data removed]",
      "text/plain": [
       "<Figure size 432x288 with 1 Axes>"
      ]
     },
     "metadata": {
      "needs_background": "light"
     },
     "output_type": "display_data"
    }
   ],
   "source": [
    "# Visualizing the training set results.\n",
    "\n",
    "plot_test = plt\n",
    "plot_test.scatter(X11_train, y11_train, color='green', s = 15)\n",
    "plot_test.plot(X11_train, y11_predicted_train, color='red', linewidth =3)\n",
    "plot_test.title('Hits vs. Runs Batted In (Test set)')\n",
    "plot_test.xlabel('Hits')\n",
    "plot_test.ylabel('Runs Batted In')\n",
    "plot_test.show()"
   ]
  },
  {
   "cell_type": "code",
   "execution_count": 256,
   "id": "ad2f4650",
   "metadata": {},
   "outputs": [],
   "source": [
    "## Data Bias overall: A lot of these variables are directly related and all seem to have a positive correlation.\n",
    "## Having more columns with different variables may have shown more insights, however, there was too much missing data.\n",
    "## Looking for whatever variable has the strongest correlation with runs may be the best predictor of the most games\n",
    "## won. I wish we had data on if the game was won. \n",
    "## One other thing - Players do have outstanding and record breaking years so there may be higher values in some cases, \n",
    "## however, I do not think it would ever be too much of a different that it would be an outlier, extreme value, etc. "
   ]
  },
  {
   "cell_type": "markdown",
   "id": "23cfe45f",
   "metadata": {},
   "source": [
    "### Variables and their R2 Scores: \n",
    "\n",
    "#### Walks & Runs\n",
    "### R2 score:  0.72 - Fairly strong positive\n",
    "\n",
    "#### Plate Appearances & Runs\n",
    "### R2 score:  0.87 - Strong positive correlation\n",
    "\n",
    "#### On Base Percentage & Runs\n",
    "### R2 score:  0.14 - Very weak positive correlation\n",
    "\n",
    "#### Batting Average & Runs\n",
    "### R2 score:  0.13 - Very weak positive correlation\n",
    "\n",
    "#### Total Bases & Runs\n",
    "### R2 score:  0.90 - Very strong positive correlation\n",
    "\n",
    "#### Hits & Runs\n",
    "### R2 score:  0.90 - Strong positive correlation\n",
    "\n",
    "#### Doubles & Runs\n",
    "### R2 score:  0.76 - Fairly positive correlation. Not the highest R2 score though\n",
    "\n",
    "#### Triples & Runs\n",
    "### R2 score:  0.44 - Weak positive correlation\n",
    "\n",
    "#### Runs Batted In & Runs\n",
    "### R2 score:  0.79 - Fairly strong positive correlation\n",
    "\n",
    "#### Walks & Runs Batted In\n",
    "### R2 score:  0.60 - Fairly strong positive correlation\n",
    "\n",
    "#### Hits & Runs Batted In\n",
    "### R2 score:  0.80 - Fairly strong positive correlation\n"
   ]
  },
  {
   "cell_type": "code",
   "execution_count": null,
   "id": "d78fad25",
   "metadata": {},
   "outputs": [],
   "source": []
  }
 ],
 "metadata": {
  "kernelspec": {
   "display_name": "Python 3 (ipykernel)",
   "language": "python",
   "name": "python3"
  },
  "language_info": {
   "codemirror_mode": {
    "name": "ipython",
    "version": 3
   },
   "file_extension": ".py",
   "mimetype": "text/x-python",
   "name": "python",
   "nbconvert_exporter": "python",
   "pygments_lexer": "ipython3",
   "version": "3.9.7"
  }
 },
 "nbformat": 4,
 "nbformat_minor": 5
}
